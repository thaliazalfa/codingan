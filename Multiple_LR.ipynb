{
 "cells": [
  {
   "cell_type": "markdown",
   "metadata": {},
   "source": [
    "# **Import Library**"
   ]
  },
  {
   "cell_type": "code",
   "execution_count": 1,
   "metadata": {},
   "outputs": [],
   "source": [
    "# import all necessary packages\n",
    "import pandas as pd\n",
    "import numpy as np\n",
    "\n",
    "\n",
    "# import plotting packages\n",
    "import matplotlib.pyplot as plt\n",
    "import seaborn as sns\n",
    "# import ML related packages of sklearn\n",
    "from sklearn.model_selection import train_test_split\n",
    "from sklearn.linear_model import LinearRegression\n",
    "from sklearn.metrics import mean_squared_error, mean_absolute_error, r2_score\n",
    "\n",
    "import plotly.express as px\n",
    "import plotly.graph_objects as go\n"
   ]
  },
  {
   "cell_type": "markdown",
   "metadata": {},
   "source": [
    "# **Data Load**"
   ]
  },
  {
   "cell_type": "code",
   "execution_count": 2,
   "metadata": {},
   "outputs": [],
   "source": [
    "# load data to a new dataframe\n",
    "df = pd.read_csv(\"data_revisi.csv\")"
   ]
  },
  {
   "cell_type": "code",
   "execution_count": 3,
   "metadata": {},
   "outputs": [
    {
     "data": {
      "text/html": [
       "<div>\n",
       "<style scoped>\n",
       "    .dataframe tbody tr th:only-of-type {\n",
       "        vertical-align: middle;\n",
       "    }\n",
       "\n",
       "    .dataframe tbody tr th {\n",
       "        vertical-align: top;\n",
       "    }\n",
       "\n",
       "    .dataframe thead th {\n",
       "        text-align: right;\n",
       "    }\n",
       "</style>\n",
       "<table border=\"1\" class=\"dataframe\">\n",
       "  <thead>\n",
       "    <tr style=\"text-align: right;\">\n",
       "      <th></th>\n",
       "      <th>gender</th>\n",
       "      <th>umur</th>\n",
       "      <th>average_wpm</th>\n",
       "      <th>average_accuracy</th>\n",
       "      <th>average_second</th>\n",
       "    </tr>\n",
       "  </thead>\n",
       "  <tbody>\n",
       "    <tr>\n",
       "      <th>count</th>\n",
       "      <td>99.000000</td>\n",
       "      <td>99.000000</td>\n",
       "      <td>99.000000</td>\n",
       "      <td>99.000000</td>\n",
       "      <td>99.000000</td>\n",
       "    </tr>\n",
       "    <tr>\n",
       "      <th>mean</th>\n",
       "      <td>0.484848</td>\n",
       "      <td>21.464646</td>\n",
       "      <td>51.115152</td>\n",
       "      <td>0.917677</td>\n",
       "      <td>549.080404</td>\n",
       "    </tr>\n",
       "    <tr>\n",
       "      <th>std</th>\n",
       "      <td>0.502314</td>\n",
       "      <td>1.996492</td>\n",
       "      <td>11.402300</td>\n",
       "      <td>0.060133</td>\n",
       "      <td>137.734809</td>\n",
       "    </tr>\n",
       "    <tr>\n",
       "      <th>min</th>\n",
       "      <td>0.000000</td>\n",
       "      <td>19.000000</td>\n",
       "      <td>28.000000</td>\n",
       "      <td>0.810000</td>\n",
       "      <td>274.800000</td>\n",
       "    </tr>\n",
       "    <tr>\n",
       "      <th>25%</th>\n",
       "      <td>0.000000</td>\n",
       "      <td>20.000000</td>\n",
       "      <td>41.225000</td>\n",
       "      <td>0.860000</td>\n",
       "      <td>425.430000</td>\n",
       "    </tr>\n",
       "    <tr>\n",
       "      <th>50%</th>\n",
       "      <td>0.000000</td>\n",
       "      <td>21.000000</td>\n",
       "      <td>51.950000</td>\n",
       "      <td>0.920000</td>\n",
       "      <td>551.330000</td>\n",
       "    </tr>\n",
       "    <tr>\n",
       "      <th>75%</th>\n",
       "      <td>1.000000</td>\n",
       "      <td>22.000000</td>\n",
       "      <td>58.260000</td>\n",
       "      <td>0.970000</td>\n",
       "      <td>646.555000</td>\n",
       "    </tr>\n",
       "    <tr>\n",
       "      <th>max</th>\n",
       "      <td>1.000000</td>\n",
       "      <td>27.000000</td>\n",
       "      <td>79.690000</td>\n",
       "      <td>1.000000</td>\n",
       "      <td>935.540000</td>\n",
       "    </tr>\n",
       "  </tbody>\n",
       "</table>\n",
       "</div>"
      ],
      "text/plain": [
       "          gender       umur  average_wpm  average_accuracy  average_second\n",
       "count  99.000000  99.000000    99.000000         99.000000       99.000000\n",
       "mean    0.484848  21.464646    51.115152          0.917677      549.080404\n",
       "std     0.502314   1.996492    11.402300          0.060133      137.734809\n",
       "min     0.000000  19.000000    28.000000          0.810000      274.800000\n",
       "25%     0.000000  20.000000    41.225000          0.860000      425.430000\n",
       "50%     0.000000  21.000000    51.950000          0.920000      551.330000\n",
       "75%     1.000000  22.000000    58.260000          0.970000      646.555000\n",
       "max     1.000000  27.000000    79.690000          1.000000      935.540000"
      ]
     },
     "execution_count": 3,
     "metadata": {},
     "output_type": "execute_result"
    }
   ],
   "source": [
    "# describe the dataframe with some statistical info\n",
    "df.describe()"
   ]
  },
  {
   "cell_type": "markdown",
   "metadata": {},
   "source": [
    "# **Data Visualisasi**"
   ]
  },
  {
   "cell_type": "code",
   "execution_count": 4,
   "metadata": {},
   "outputs": [
    {
     "data": {
      "application/vnd.plotly.v1+json": {
       "config": {
        "plotlyServerURL": "https://plot.ly"
       },
       "data": [
        {
         "hovertemplate": "average_wpm=%{x}<br>average_second=%{marker.size}<extra></extra>",
         "legendgroup": "",
         "marker": {
          "color": "#636efa",
          "size": [
           377.6,
           508.8,
           560.4,
           320.6,
           639.4,
           732.4,
           392.2,
           403.4,
           818.4,
           274.8,
           666.8,
           618.4,
           419,
           590.8,
           439.4,
           632.2,
           472.6,
           725.6,
           691.4,
           646.2,
           340.8,
           461.08,
           585.09,
           628.48,
           441.49,
           376.18,
           562.5,
           413.65,
           704.53,
           460.08,
           424.08,
           893.11,
           585.31,
           772.83,
           646.91,
           485.76,
           757.14,
           691.07,
           935.54,
           600.87,
           551.56,
           700.53,
           475.52,
           526.95,
           642.31,
           589.16,
           367.5,
           512.52,
           484.76,
           670.87,
           421.5,
           422.45,
           517.42,
           589.04,
           656.02,
           693.67,
           706.23,
           405.24,
           483.99,
           374.29,
           355.95,
           436.02,
           332.5,
           433.82,
           531.94,
           404.9,
           621.58,
           739.03,
           424.01,
           387.46,
           555.25,
           401.73,
           501.26,
           497.71,
           653.1,
           571.34,
           623.65,
           635.48,
           625.17,
           773.44,
           331.89,
           624.33,
           731.81,
           463.07,
           586.6,
           662.1,
           531.67,
           583.1,
           551.33,
           776.8,
           397.83,
           522.33,
           655.5,
           734.96,
           425.41,
           464.42,
           415.59,
           481,
           425.45
          ],
          "sizemode": "area",
          "sizeref": 2.33885,
          "symbol": "circle"
         },
         "mode": "markers",
         "name": "",
         "orientation": "v",
         "showlegend": false,
         "type": "scatter",
         "x": [
          60.33,
          41,
          52.33,
          38.67,
          28,
          55.33,
          47.33,
          54,
          59.67,
          44,
          46,
          45.67,
          33.33,
          69.67,
          34.33,
          46,
          49.67,
          44,
          48.33,
          50.67,
          75,
          40.42,
          47.77,
          56.63,
          37.36,
          56.67,
          58.15,
          44.96,
          48.99,
          49.01,
          40.31,
          53.06,
          48.42,
          34.19,
          59.59,
          52.7,
          57.63,
          49.2,
          35.09,
          64.88,
          32.44,
          70.27,
          77.57,
          41.45,
          58.28,
          59.41,
          56.56,
          55.42,
          63.36,
          40.63,
          40.38,
          39.45,
          69.45,
          39.26,
          47.18,
          55.8,
          49.49,
          37.74,
          54.52,
          31.1,
          64.35,
          54.86,
          58.5,
          51.95,
          57.08,
          75.86,
          61.99,
          57,
          33.7,
          52.06,
          46.46,
          35.63,
          56.21,
          58.42,
          55.41,
          33.97,
          54.71,
          64.58,
          61,
          49.95,
          60.16,
          38.59,
          47.76,
          52.95,
          79.69,
          38.98,
          53.11,
          43.78,
          63.56,
          62.18,
          40.73,
          52.58,
          74.19,
          58.24,
          66.13,
          34.09,
          50.09,
          44.58,
          37.2
         ],
         "xaxis": "x",
         "y": [
          377.6,
          508.8,
          560.4,
          320.6,
          639.4,
          732.4,
          392.2,
          403.4,
          818.4,
          274.8,
          666.8,
          618.4,
          419,
          590.8,
          439.4,
          632.2,
          472.6,
          725.6,
          691.4,
          646.2,
          340.8,
          461.08,
          585.09,
          628.48,
          441.49,
          376.18,
          562.5,
          413.65,
          704.53,
          460.08,
          424.08,
          893.11,
          585.31,
          772.83,
          646.91,
          485.76,
          757.14,
          691.07,
          935.54,
          600.87,
          551.56,
          700.53,
          475.52,
          526.95,
          642.31,
          589.16,
          367.5,
          512.52,
          484.76,
          670.87,
          421.5,
          422.45,
          517.42,
          589.04,
          656.02,
          693.67,
          706.23,
          405.24,
          483.99,
          374.29,
          355.95,
          436.02,
          332.5,
          433.82,
          531.94,
          404.9,
          621.58,
          739.03,
          424.01,
          387.46,
          555.25,
          401.73,
          501.26,
          497.71,
          653.1,
          571.34,
          623.65,
          635.48,
          625.17,
          773.44,
          331.89,
          624.33,
          731.81,
          463.07,
          586.6,
          662.1,
          531.67,
          583.1,
          551.33,
          776.8,
          397.83,
          522.33,
          655.5,
          734.96,
          425.41,
          464.42,
          415.59,
          481,
          425.45
         ],
         "yaxis": "y"
        },
        {
         "hovertemplate": "<b>OLS trendline</b><br>average_second = 0.737121 * average_wpm + 511.402<br>R<sup>2</sup>=0.003724<br><br>average_wpm=%{x}<br>average_second=%{y} <b>(trend)</b><extra></extra>",
         "legendgroup": "",
         "marker": {
          "color": "#636efa",
          "symbol": "circle"
         },
         "mode": "lines",
         "name": "",
         "showlegend": false,
         "type": "scatter",
         "x": [
          28,
          31.1,
          32.44,
          33.33,
          33.7,
          33.97,
          34.09,
          34.19,
          34.33,
          35.09,
          35.63,
          37.2,
          37.36,
          37.74,
          38.59,
          38.67,
          38.98,
          39.26,
          39.45,
          40.31,
          40.38,
          40.42,
          40.63,
          40.73,
          41,
          41.45,
          43.78,
          44,
          44,
          44.58,
          44.96,
          45.67,
          46,
          46,
          46.46,
          47.18,
          47.33,
          47.76,
          47.77,
          48.33,
          48.42,
          48.99,
          49.01,
          49.2,
          49.49,
          49.67,
          49.95,
          50.09,
          50.67,
          51.95,
          52.06,
          52.33,
          52.58,
          52.7,
          52.95,
          53.06,
          53.11,
          54,
          54.52,
          54.71,
          54.86,
          55.33,
          55.41,
          55.42,
          55.8,
          56.21,
          56.56,
          56.63,
          56.67,
          57,
          57.08,
          57.63,
          58.15,
          58.24,
          58.28,
          58.42,
          58.5,
          59.41,
          59.59,
          59.67,
          60.16,
          60.33,
          61,
          61.99,
          62.18,
          63.36,
          63.56,
          64.35,
          64.58,
          64.88,
          66.13,
          69.45,
          69.67,
          70.27,
          74.19,
          75,
          75.86,
          77.57,
          79.69
         ],
         "xaxis": "x",
         "y": [
          532.0417428524987,
          534.32681762901,
          535.3145596291793,
          535.9705972263067,
          536.2433319576968,
          536.442354599522,
          536.5308091069998,
          536.6045211965646,
          536.7077181219555,
          537.2679300026485,
          537.6659752862989,
          538.8232550924675,
          538.9411944357713,
          539.2213003761178,
          539.8478531374193,
          539.9068228090712,
          540.1353302867224,
          540.341724137504,
          540.4817771076772,
          541.1157010779352,
          541.1672995406307,
          541.1967843764565,
          541.3515797645429,
          541.4252918541076,
          541.6243144959328,
          541.9560188989748,
          543.6735105858364,
          543.8356771828792,
          543.8356771828792,
          544.2632073023555,
          544.543313242702,
          545.0666690786127,
          545.3099189741768,
          545.3099189741768,
          545.6489945861751,
          546.1797216310423,
          546.2902897653896,
          546.6072517505186,
          546.6146229594751,
          547.0274106610384,
          547.0937515416468,
          547.5139104521666,
          547.5286528700796,
          547.6687058402529,
          547.882470899991,
          548.0151526612078,
          548.2215465119895,
          548.3247434373802,
          548.7522735568565,
          549.695788303287,
          549.7768716018084,
          549.9758942436335,
          550.1601744675457,
          550.2486289750236,
          550.4329091989357,
          550.5139924974571,
          550.5508485422396,
          551.2068861393669,
          551.5901890051043,
          551.7302419752776,
          551.840810109625,
          552.1872569305799,
          552.2462266022318,
          552.2535978111882,
          552.5337037515347,
          552.8359233187508,
          553.0939156322279,
          553.1455140949232,
          553.1749989307492,
          553.4182488263133,
          553.4772184979652,
          553.882634990572,
          554.2659378563094,
          554.3322787369178,
          554.3617635727437,
          554.4649604981346,
          554.5239301697865,
          555.1947101848268,
          555.3273919460437,
          555.3863616176956,
          555.7475508565634,
          555.8728614088237,
          556.3667324089084,
          557.0964820956008,
          557.236535065774,
          558.1063377226395,
          558.2537619017693,
          558.8360874093319,
          559.0056252153311,
          559.2267614840257,
          560.1481626035867,
          562.5954039771406,
          562.7575705741833,
          563.1998431115726,
          566.0893570225159,
          566.6864249479913,
          567.3203489182492,
          568.5808256498087,
          570.1435219485841
         ],
         "yaxis": "y"
        }
       ],
       "layout": {
        "legend": {
         "itemsizing": "constant",
         "tracegroupgap": 0
        },
        "margin": {
         "t": 60
        },
        "template": {
         "data": {
          "bar": [
           {
            "error_x": {
             "color": "#2a3f5f"
            },
            "error_y": {
             "color": "#2a3f5f"
            },
            "marker": {
             "line": {
              "color": "#E5ECF6",
              "width": 0.5
             },
             "pattern": {
              "fillmode": "overlay",
              "size": 10,
              "solidity": 0.2
             }
            },
            "type": "bar"
           }
          ],
          "barpolar": [
           {
            "marker": {
             "line": {
              "color": "#E5ECF6",
              "width": 0.5
             },
             "pattern": {
              "fillmode": "overlay",
              "size": 10,
              "solidity": 0.2
             }
            },
            "type": "barpolar"
           }
          ],
          "carpet": [
           {
            "aaxis": {
             "endlinecolor": "#2a3f5f",
             "gridcolor": "white",
             "linecolor": "white",
             "minorgridcolor": "white",
             "startlinecolor": "#2a3f5f"
            },
            "baxis": {
             "endlinecolor": "#2a3f5f",
             "gridcolor": "white",
             "linecolor": "white",
             "minorgridcolor": "white",
             "startlinecolor": "#2a3f5f"
            },
            "type": "carpet"
           }
          ],
          "choropleth": [
           {
            "colorbar": {
             "outlinewidth": 0,
             "ticks": ""
            },
            "type": "choropleth"
           }
          ],
          "contour": [
           {
            "colorbar": {
             "outlinewidth": 0,
             "ticks": ""
            },
            "colorscale": [
             [
              0,
              "#0d0887"
             ],
             [
              0.1111111111111111,
              "#46039f"
             ],
             [
              0.2222222222222222,
              "#7201a8"
             ],
             [
              0.3333333333333333,
              "#9c179e"
             ],
             [
              0.4444444444444444,
              "#bd3786"
             ],
             [
              0.5555555555555556,
              "#d8576b"
             ],
             [
              0.6666666666666666,
              "#ed7953"
             ],
             [
              0.7777777777777778,
              "#fb9f3a"
             ],
             [
              0.8888888888888888,
              "#fdca26"
             ],
             [
              1,
              "#f0f921"
             ]
            ],
            "type": "contour"
           }
          ],
          "contourcarpet": [
           {
            "colorbar": {
             "outlinewidth": 0,
             "ticks": ""
            },
            "type": "contourcarpet"
           }
          ],
          "heatmap": [
           {
            "colorbar": {
             "outlinewidth": 0,
             "ticks": ""
            },
            "colorscale": [
             [
              0,
              "#0d0887"
             ],
             [
              0.1111111111111111,
              "#46039f"
             ],
             [
              0.2222222222222222,
              "#7201a8"
             ],
             [
              0.3333333333333333,
              "#9c179e"
             ],
             [
              0.4444444444444444,
              "#bd3786"
             ],
             [
              0.5555555555555556,
              "#d8576b"
             ],
             [
              0.6666666666666666,
              "#ed7953"
             ],
             [
              0.7777777777777778,
              "#fb9f3a"
             ],
             [
              0.8888888888888888,
              "#fdca26"
             ],
             [
              1,
              "#f0f921"
             ]
            ],
            "type": "heatmap"
           }
          ],
          "heatmapgl": [
           {
            "colorbar": {
             "outlinewidth": 0,
             "ticks": ""
            },
            "colorscale": [
             [
              0,
              "#0d0887"
             ],
             [
              0.1111111111111111,
              "#46039f"
             ],
             [
              0.2222222222222222,
              "#7201a8"
             ],
             [
              0.3333333333333333,
              "#9c179e"
             ],
             [
              0.4444444444444444,
              "#bd3786"
             ],
             [
              0.5555555555555556,
              "#d8576b"
             ],
             [
              0.6666666666666666,
              "#ed7953"
             ],
             [
              0.7777777777777778,
              "#fb9f3a"
             ],
             [
              0.8888888888888888,
              "#fdca26"
             ],
             [
              1,
              "#f0f921"
             ]
            ],
            "type": "heatmapgl"
           }
          ],
          "histogram": [
           {
            "marker": {
             "pattern": {
              "fillmode": "overlay",
              "size": 10,
              "solidity": 0.2
             }
            },
            "type": "histogram"
           }
          ],
          "histogram2d": [
           {
            "colorbar": {
             "outlinewidth": 0,
             "ticks": ""
            },
            "colorscale": [
             [
              0,
              "#0d0887"
             ],
             [
              0.1111111111111111,
              "#46039f"
             ],
             [
              0.2222222222222222,
              "#7201a8"
             ],
             [
              0.3333333333333333,
              "#9c179e"
             ],
             [
              0.4444444444444444,
              "#bd3786"
             ],
             [
              0.5555555555555556,
              "#d8576b"
             ],
             [
              0.6666666666666666,
              "#ed7953"
             ],
             [
              0.7777777777777778,
              "#fb9f3a"
             ],
             [
              0.8888888888888888,
              "#fdca26"
             ],
             [
              1,
              "#f0f921"
             ]
            ],
            "type": "histogram2d"
           }
          ],
          "histogram2dcontour": [
           {
            "colorbar": {
             "outlinewidth": 0,
             "ticks": ""
            },
            "colorscale": [
             [
              0,
              "#0d0887"
             ],
             [
              0.1111111111111111,
              "#46039f"
             ],
             [
              0.2222222222222222,
              "#7201a8"
             ],
             [
              0.3333333333333333,
              "#9c179e"
             ],
             [
              0.4444444444444444,
              "#bd3786"
             ],
             [
              0.5555555555555556,
              "#d8576b"
             ],
             [
              0.6666666666666666,
              "#ed7953"
             ],
             [
              0.7777777777777778,
              "#fb9f3a"
             ],
             [
              0.8888888888888888,
              "#fdca26"
             ],
             [
              1,
              "#f0f921"
             ]
            ],
            "type": "histogram2dcontour"
           }
          ],
          "mesh3d": [
           {
            "colorbar": {
             "outlinewidth": 0,
             "ticks": ""
            },
            "type": "mesh3d"
           }
          ],
          "parcoords": [
           {
            "line": {
             "colorbar": {
              "outlinewidth": 0,
              "ticks": ""
             }
            },
            "type": "parcoords"
           }
          ],
          "pie": [
           {
            "automargin": true,
            "type": "pie"
           }
          ],
          "scatter": [
           {
            "fillpattern": {
             "fillmode": "overlay",
             "size": 10,
             "solidity": 0.2
            },
            "type": "scatter"
           }
          ],
          "scatter3d": [
           {
            "line": {
             "colorbar": {
              "outlinewidth": 0,
              "ticks": ""
             }
            },
            "marker": {
             "colorbar": {
              "outlinewidth": 0,
              "ticks": ""
             }
            },
            "type": "scatter3d"
           }
          ],
          "scattercarpet": [
           {
            "marker": {
             "colorbar": {
              "outlinewidth": 0,
              "ticks": ""
             }
            },
            "type": "scattercarpet"
           }
          ],
          "scattergeo": [
           {
            "marker": {
             "colorbar": {
              "outlinewidth": 0,
              "ticks": ""
             }
            },
            "type": "scattergeo"
           }
          ],
          "scattergl": [
           {
            "marker": {
             "colorbar": {
              "outlinewidth": 0,
              "ticks": ""
             }
            },
            "type": "scattergl"
           }
          ],
          "scattermapbox": [
           {
            "marker": {
             "colorbar": {
              "outlinewidth": 0,
              "ticks": ""
             }
            },
            "type": "scattermapbox"
           }
          ],
          "scatterpolar": [
           {
            "marker": {
             "colorbar": {
              "outlinewidth": 0,
              "ticks": ""
             }
            },
            "type": "scatterpolar"
           }
          ],
          "scatterpolargl": [
           {
            "marker": {
             "colorbar": {
              "outlinewidth": 0,
              "ticks": ""
             }
            },
            "type": "scatterpolargl"
           }
          ],
          "scatterternary": [
           {
            "marker": {
             "colorbar": {
              "outlinewidth": 0,
              "ticks": ""
             }
            },
            "type": "scatterternary"
           }
          ],
          "surface": [
           {
            "colorbar": {
             "outlinewidth": 0,
             "ticks": ""
            },
            "colorscale": [
             [
              0,
              "#0d0887"
             ],
             [
              0.1111111111111111,
              "#46039f"
             ],
             [
              0.2222222222222222,
              "#7201a8"
             ],
             [
              0.3333333333333333,
              "#9c179e"
             ],
             [
              0.4444444444444444,
              "#bd3786"
             ],
             [
              0.5555555555555556,
              "#d8576b"
             ],
             [
              0.6666666666666666,
              "#ed7953"
             ],
             [
              0.7777777777777778,
              "#fb9f3a"
             ],
             [
              0.8888888888888888,
              "#fdca26"
             ],
             [
              1,
              "#f0f921"
             ]
            ],
            "type": "surface"
           }
          ],
          "table": [
           {
            "cells": {
             "fill": {
              "color": "#EBF0F8"
             },
             "line": {
              "color": "white"
             }
            },
            "header": {
             "fill": {
              "color": "#C8D4E3"
             },
             "line": {
              "color": "white"
             }
            },
            "type": "table"
           }
          ]
         },
         "layout": {
          "annotationdefaults": {
           "arrowcolor": "#2a3f5f",
           "arrowhead": 0,
           "arrowwidth": 1
          },
          "autotypenumbers": "strict",
          "coloraxis": {
           "colorbar": {
            "outlinewidth": 0,
            "ticks": ""
           }
          },
          "colorscale": {
           "diverging": [
            [
             0,
             "#8e0152"
            ],
            [
             0.1,
             "#c51b7d"
            ],
            [
             0.2,
             "#de77ae"
            ],
            [
             0.3,
             "#f1b6da"
            ],
            [
             0.4,
             "#fde0ef"
            ],
            [
             0.5,
             "#f7f7f7"
            ],
            [
             0.6,
             "#e6f5d0"
            ],
            [
             0.7,
             "#b8e186"
            ],
            [
             0.8,
             "#7fbc41"
            ],
            [
             0.9,
             "#4d9221"
            ],
            [
             1,
             "#276419"
            ]
           ],
           "sequential": [
            [
             0,
             "#0d0887"
            ],
            [
             0.1111111111111111,
             "#46039f"
            ],
            [
             0.2222222222222222,
             "#7201a8"
            ],
            [
             0.3333333333333333,
             "#9c179e"
            ],
            [
             0.4444444444444444,
             "#bd3786"
            ],
            [
             0.5555555555555556,
             "#d8576b"
            ],
            [
             0.6666666666666666,
             "#ed7953"
            ],
            [
             0.7777777777777778,
             "#fb9f3a"
            ],
            [
             0.8888888888888888,
             "#fdca26"
            ],
            [
             1,
             "#f0f921"
            ]
           ],
           "sequentialminus": [
            [
             0,
             "#0d0887"
            ],
            [
             0.1111111111111111,
             "#46039f"
            ],
            [
             0.2222222222222222,
             "#7201a8"
            ],
            [
             0.3333333333333333,
             "#9c179e"
            ],
            [
             0.4444444444444444,
             "#bd3786"
            ],
            [
             0.5555555555555556,
             "#d8576b"
            ],
            [
             0.6666666666666666,
             "#ed7953"
            ],
            [
             0.7777777777777778,
             "#fb9f3a"
            ],
            [
             0.8888888888888888,
             "#fdca26"
            ],
            [
             1,
             "#f0f921"
            ]
           ]
          },
          "colorway": [
           "#636efa",
           "#EF553B",
           "#00cc96",
           "#ab63fa",
           "#FFA15A",
           "#19d3f3",
           "#FF6692",
           "#B6E880",
           "#FF97FF",
           "#FECB52"
          ],
          "font": {
           "color": "#2a3f5f"
          },
          "geo": {
           "bgcolor": "white",
           "lakecolor": "white",
           "landcolor": "#E5ECF6",
           "showlakes": true,
           "showland": true,
           "subunitcolor": "white"
          },
          "hoverlabel": {
           "align": "left"
          },
          "hovermode": "closest",
          "mapbox": {
           "style": "light"
          },
          "paper_bgcolor": "white",
          "plot_bgcolor": "#E5ECF6",
          "polar": {
           "angularaxis": {
            "gridcolor": "white",
            "linecolor": "white",
            "ticks": ""
           },
           "bgcolor": "#E5ECF6",
           "radialaxis": {
            "gridcolor": "white",
            "linecolor": "white",
            "ticks": ""
           }
          },
          "scene": {
           "xaxis": {
            "backgroundcolor": "#E5ECF6",
            "gridcolor": "white",
            "gridwidth": 2,
            "linecolor": "white",
            "showbackground": true,
            "ticks": "",
            "zerolinecolor": "white"
           },
           "yaxis": {
            "backgroundcolor": "#E5ECF6",
            "gridcolor": "white",
            "gridwidth": 2,
            "linecolor": "white",
            "showbackground": true,
            "ticks": "",
            "zerolinecolor": "white"
           },
           "zaxis": {
            "backgroundcolor": "#E5ECF6",
            "gridcolor": "white",
            "gridwidth": 2,
            "linecolor": "white",
            "showbackground": true,
            "ticks": "",
            "zerolinecolor": "white"
           }
          },
          "shapedefaults": {
           "line": {
            "color": "#2a3f5f"
           }
          },
          "ternary": {
           "aaxis": {
            "gridcolor": "white",
            "linecolor": "white",
            "ticks": ""
           },
           "baxis": {
            "gridcolor": "white",
            "linecolor": "white",
            "ticks": ""
           },
           "bgcolor": "#E5ECF6",
           "caxis": {
            "gridcolor": "white",
            "linecolor": "white",
            "ticks": ""
           }
          },
          "title": {
           "x": 0.05
          },
          "xaxis": {
           "automargin": true,
           "gridcolor": "white",
           "linecolor": "white",
           "ticks": "",
           "title": {
            "standoff": 15
           },
           "zerolinecolor": "white",
           "zerolinewidth": 2
          },
          "yaxis": {
           "automargin": true,
           "gridcolor": "white",
           "linecolor": "white",
           "ticks": "",
           "title": {
            "standoff": 15
           },
           "zerolinecolor": "white",
           "zerolinewidth": 2
          }
         }
        },
        "xaxis": {
         "anchor": "y",
         "domain": [
          0,
          1
         ],
         "title": {
          "text": "average_wpm"
         }
        },
        "yaxis": {
         "anchor": "x",
         "domain": [
          0,
          1
         ],
         "title": {
          "text": "average_second"
         }
        }
       }
      }
     },
     "metadata": {},
     "output_type": "display_data"
    }
   ],
   "source": [
    "figure = px.scatter(data_frame=df, x='average_wpm', y='average_second', size='average_second', trendline='ols')\n",
    "figure.show()"
   ]
  },
  {
   "cell_type": "markdown",
   "metadata": {},
   "source": [
    "# **Deklarasi Variabel**"
   ]
  },
  {
   "cell_type": "code",
   "execution_count": 5,
   "metadata": {},
   "outputs": [
    {
     "data": {
      "text/html": [
       "<div>\n",
       "<style scoped>\n",
       "    .dataframe tbody tr th:only-of-type {\n",
       "        vertical-align: middle;\n",
       "    }\n",
       "\n",
       "    .dataframe tbody tr th {\n",
       "        vertical-align: top;\n",
       "    }\n",
       "\n",
       "    .dataframe thead th {\n",
       "        text-align: right;\n",
       "    }\n",
       "</style>\n",
       "<table border=\"1\" class=\"dataframe\">\n",
       "  <thead>\n",
       "    <tr style=\"text-align: right;\">\n",
       "      <th></th>\n",
       "      <th>average_wpm</th>\n",
       "    </tr>\n",
       "  </thead>\n",
       "  <tbody>\n",
       "    <tr>\n",
       "      <th>0</th>\n",
       "      <td>60.33</td>\n",
       "    </tr>\n",
       "    <tr>\n",
       "      <th>1</th>\n",
       "      <td>41.00</td>\n",
       "    </tr>\n",
       "    <tr>\n",
       "      <th>2</th>\n",
       "      <td>52.33</td>\n",
       "    </tr>\n",
       "    <tr>\n",
       "      <th>3</th>\n",
       "      <td>38.67</td>\n",
       "    </tr>\n",
       "    <tr>\n",
       "      <th>4</th>\n",
       "      <td>28.00</td>\n",
       "    </tr>\n",
       "    <tr>\n",
       "      <th>...</th>\n",
       "      <td>...</td>\n",
       "    </tr>\n",
       "    <tr>\n",
       "      <th>94</th>\n",
       "      <td>66.13</td>\n",
       "    </tr>\n",
       "    <tr>\n",
       "      <th>95</th>\n",
       "      <td>34.09</td>\n",
       "    </tr>\n",
       "    <tr>\n",
       "      <th>96</th>\n",
       "      <td>50.09</td>\n",
       "    </tr>\n",
       "    <tr>\n",
       "      <th>97</th>\n",
       "      <td>44.58</td>\n",
       "    </tr>\n",
       "    <tr>\n",
       "      <th>98</th>\n",
       "      <td>37.20</td>\n",
       "    </tr>\n",
       "  </tbody>\n",
       "</table>\n",
       "<p>99 rows × 1 columns</p>\n",
       "</div>"
      ],
      "text/plain": [
       "    average_wpm\n",
       "0         60.33\n",
       "1         41.00\n",
       "2         52.33\n",
       "3         38.67\n",
       "4         28.00\n",
       "..          ...\n",
       "94        66.13\n",
       "95        34.09\n",
       "96        50.09\n",
       "97        44.58\n",
       "98        37.20\n",
       "\n",
       "[99 rows x 1 columns]"
      ]
     },
     "execution_count": 5,
     "metadata": {},
     "output_type": "execute_result"
    }
   ],
   "source": [
    "average_wpm = df[['average_wpm']]\n",
    "average_accuracy = df[['average_accuracy']]\n",
    "average_second = df[['average_second']]\n",
    "umur = df[['umur']]\n",
    "gender = df[['gender']]\n",
    "average_wpm"
   ]
  },
  {
   "cell_type": "markdown",
   "metadata": {},
   "source": [
    "# **STANDARISASI**\n",
    "### *\"average_accuracy\"*"
   ]
  },
  {
   "cell_type": "code",
   "execution_count": 6,
   "metadata": {},
   "outputs": [],
   "source": [
    "from sklearn.preprocessing import StandardScaler"
   ]
  },
  {
   "cell_type": "code",
   "execution_count": 7,
   "metadata": {},
   "outputs": [
    {
     "data": {
      "text/html": [
       "<div>\n",
       "<style scoped>\n",
       "    .dataframe tbody tr th:only-of-type {\n",
       "        vertical-align: middle;\n",
       "    }\n",
       "\n",
       "    .dataframe tbody tr th {\n",
       "        vertical-align: top;\n",
       "    }\n",
       "\n",
       "    .dataframe thead th {\n",
       "        text-align: right;\n",
       "    }\n",
       "</style>\n",
       "<table border=\"1\" class=\"dataframe\">\n",
       "  <thead>\n",
       "    <tr style=\"text-align: right;\">\n",
       "      <th></th>\n",
       "      <th>average_accuracy</th>\n",
       "    </tr>\n",
       "  </thead>\n",
       "  <tbody>\n",
       "    <tr>\n",
       "      <th>0</th>\n",
       "      <td>1.208842</td>\n",
       "    </tr>\n",
       "    <tr>\n",
       "      <th>1</th>\n",
       "      <td>0.540265</td>\n",
       "    </tr>\n",
       "    <tr>\n",
       "      <th>2</th>\n",
       "      <td>0.373120</td>\n",
       "    </tr>\n",
       "    <tr>\n",
       "      <th>3</th>\n",
       "      <td>-1.799757</td>\n",
       "    </tr>\n",
       "    <tr>\n",
       "      <th>4</th>\n",
       "      <td>1.375987</td>\n",
       "    </tr>\n",
       "  </tbody>\n",
       "</table>\n",
       "</div>"
      ],
      "text/plain": [
       "   average_accuracy\n",
       "0          1.208842\n",
       "1          0.540265\n",
       "2          0.373120\n",
       "3         -1.799757\n",
       "4          1.375987"
      ]
     },
     "execution_count": 7,
     "metadata": {},
     "output_type": "execute_result"
    }
   ],
   "source": [
    "new_accuracy = pd.DataFrame(StandardScaler().fit_transform(average_accuracy), columns=average_accuracy.columns)\n",
    "new_accuracy.head()"
   ]
  },
  {
   "cell_type": "markdown",
   "metadata": {},
   "source": [
    "# **NORMALISASI** \n",
    "### _'average_wpm' dan 'average_second'_"
   ]
  },
  {
   "cell_type": "code",
   "execution_count": 8,
   "metadata": {},
   "outputs": [],
   "source": [
    "from sklearn.preprocessing import MinMaxScaler"
   ]
  },
  {
   "cell_type": "code",
   "execution_count": 9,
   "metadata": {},
   "outputs": [
    {
     "data": {
      "text/html": [
       "<div>\n",
       "<style scoped>\n",
       "    .dataframe tbody tr th:only-of-type {\n",
       "        vertical-align: middle;\n",
       "    }\n",
       "\n",
       "    .dataframe tbody tr th {\n",
       "        vertical-align: top;\n",
       "    }\n",
       "\n",
       "    .dataframe thead th {\n",
       "        text-align: right;\n",
       "    }\n",
       "</style>\n",
       "<table border=\"1\" class=\"dataframe\">\n",
       "  <thead>\n",
       "    <tr style=\"text-align: right;\">\n",
       "      <th></th>\n",
       "      <th>average_wpm</th>\n",
       "    </tr>\n",
       "  </thead>\n",
       "  <tbody>\n",
       "    <tr>\n",
       "      <th>0</th>\n",
       "      <td>0.625459</td>\n",
       "    </tr>\n",
       "    <tr>\n",
       "      <th>1</th>\n",
       "      <td>0.251499</td>\n",
       "    </tr>\n",
       "    <tr>\n",
       "      <th>2</th>\n",
       "      <td>0.470691</td>\n",
       "    </tr>\n",
       "    <tr>\n",
       "      <th>3</th>\n",
       "      <td>0.206423</td>\n",
       "    </tr>\n",
       "    <tr>\n",
       "      <th>4</th>\n",
       "      <td>0.000000</td>\n",
       "    </tr>\n",
       "  </tbody>\n",
       "</table>\n",
       "</div>"
      ],
      "text/plain": [
       "   average_wpm\n",
       "0     0.625459\n",
       "1     0.251499\n",
       "2     0.470691\n",
       "3     0.206423\n",
       "4     0.000000"
      ]
     },
     "execution_count": 9,
     "metadata": {},
     "output_type": "execute_result"
    }
   ],
   "source": [
    "#Normalize average_wpm\n",
    "new_wpm = pd.DataFrame(MinMaxScaler().fit_transform(average_wpm), columns=average_wpm.columns)\n",
    "new_wpm.head()"
   ]
  },
  {
   "cell_type": "code",
   "execution_count": 10,
   "metadata": {},
   "outputs": [
    {
     "data": {
      "text/html": [
       "<div>\n",
       "<style scoped>\n",
       "    .dataframe tbody tr th:only-of-type {\n",
       "        vertical-align: middle;\n",
       "    }\n",
       "\n",
       "    .dataframe tbody tr th {\n",
       "        vertical-align: top;\n",
       "    }\n",
       "\n",
       "    .dataframe thead th {\n",
       "        text-align: right;\n",
       "    }\n",
       "</style>\n",
       "<table border=\"1\" class=\"dataframe\">\n",
       "  <thead>\n",
       "    <tr style=\"text-align: right;\">\n",
       "      <th></th>\n",
       "      <th>average_second</th>\n",
       "    </tr>\n",
       "  </thead>\n",
       "  <tbody>\n",
       "    <tr>\n",
       "      <th>0</th>\n",
       "      <td>0.155583</td>\n",
       "    </tr>\n",
       "    <tr>\n",
       "      <th>1</th>\n",
       "      <td>0.354148</td>\n",
       "    </tr>\n",
       "    <tr>\n",
       "      <th>2</th>\n",
       "      <td>0.432243</td>\n",
       "    </tr>\n",
       "    <tr>\n",
       "      <th>3</th>\n",
       "      <td>0.069316</td>\n",
       "    </tr>\n",
       "    <tr>\n",
       "      <th>4</th>\n",
       "      <td>0.551806</td>\n",
       "    </tr>\n",
       "  </tbody>\n",
       "</table>\n",
       "</div>"
      ],
      "text/plain": [
       "   average_second\n",
       "0        0.155583\n",
       "1        0.354148\n",
       "2        0.432243\n",
       "3        0.069316\n",
       "4        0.551806"
      ]
     },
     "execution_count": 10,
     "metadata": {},
     "output_type": "execute_result"
    }
   ],
   "source": [
    "#Normalize average_second\n",
    "new_second = pd.DataFrame(MinMaxScaler().fit_transform(average_second), columns=average_second.columns)\n",
    "new_second.head()"
   ]
  },
  {
   "cell_type": "markdown",
   "metadata": {},
   "source": [
    "# **Deklarasi Variabel *X* dan *Y***"
   ]
  },
  {
   "cell_type": "code",
   "execution_count": 12,
   "metadata": {},
   "outputs": [],
   "source": [
    "\n",
    "X = pd.concat([new_accuracy, new_wpm, umur, gender], axis=1).values\n",
    "y = new_second.values"
   ]
  },
  {
   "cell_type": "code",
   "execution_count": 13,
   "metadata": {},
   "outputs": [],
   "source": [
    "# Bagi data menjadi data latih dan data uji\n",
    "x_train, x_test, y_train, y_test = train_test_split(X, y, test_size=0.2, random_state=79)\n",
    "    \n",
    "# Buat model regresi linear\n",
    "model = LinearRegression()\n",
    "    \n",
    "# Latih model pada data latih\n",
    "model.fit(x_train, y_train)\n",
    "    \n",
    "# Lakukan prediksi pada data uji\n",
    "y_pred = model.predict(x_test)\n",
    "    \n",
    "# Hitung metrik evaluasi\n",
    "mse = mean_squared_error(y_test, y_pred)\n",
    "rmse = np.sqrt(mse)\n",
    "mae = mean_absolute_error(y_test, y_pred)\n",
    "r2 = r2_score(y_test, y_pred)\n",
    "\n"
   ]
  },
  {
   "cell_type": "code",
   "execution_count": 14,
   "metadata": {},
   "outputs": [
    {
     "name": "stdout",
     "output_type": "stream",
     "text": [
      "[[0.40380325]\n",
      " [0.44766825]\n",
      " [0.44749046]\n",
      " [0.43943832]\n",
      " [0.45125639]\n",
      " [0.39074292]\n",
      " [0.38428982]\n",
      " [0.45188012]\n",
      " [0.43089582]\n",
      " [0.3774111 ]\n",
      " [0.3948532 ]\n",
      " [0.45080742]\n",
      " [0.38697888]\n",
      " [0.39687659]\n",
      " [0.38924434]\n",
      " [0.46508769]\n",
      " [0.41915912]\n",
      " [0.42326406]\n",
      " [0.39411426]\n",
      " [0.39750021]]\n"
     ]
    }
   ],
   "source": [
    "# print y_pred\n",
    "print(y_pred)"
   ]
  },
  {
   "cell_type": "code",
   "execution_count": 15,
   "metadata": {},
   "outputs": [
    {
     "data": {
      "text/html": [
       "<div>\n",
       "<style scoped>\n",
       "    .dataframe tbody tr th:only-of-type {\n",
       "        vertical-align: middle;\n",
       "    }\n",
       "\n",
       "    .dataframe tbody tr th {\n",
       "        vertical-align: top;\n",
       "    }\n",
       "\n",
       "    .dataframe thead th {\n",
       "        text-align: right;\n",
       "    }\n",
       "</style>\n",
       "<table border=\"1\" class=\"dataframe\">\n",
       "  <thead>\n",
       "    <tr style=\"text-align: right;\">\n",
       "      <th></th>\n",
       "      <th>Model</th>\n",
       "      <th>MSE</th>\n",
       "      <th>RMSE</th>\n",
       "      <th>MAE</th>\n",
       "      <th>R2</th>\n",
       "    </tr>\n",
       "  </thead>\n",
       "  <tbody>\n",
       "    <tr>\n",
       "      <th>0</th>\n",
       "      <td>First</td>\n",
       "      <td>0.029719</td>\n",
       "      <td>0.172392</td>\n",
       "      <td>0.147874</td>\n",
       "      <td>0.12904</td>\n",
       "    </tr>\n",
       "  </tbody>\n",
       "</table>\n",
       "</div>"
      ],
      "text/plain": [
       "   Model       MSE      RMSE       MAE       R2\n",
       "0  First  0.029719  0.172392  0.147874  0.12904"
      ]
     },
     "execution_count": 15,
     "metadata": {},
     "output_type": "execute_result"
    }
   ],
   "source": [
    "# create a metrics dataframe using metric values\n",
    "metrics = {\n",
    "    'Model': ['First'],\n",
    "    'MSE' : [mse],\n",
    "    'RMSE' : [rmse],\n",
    "    'MAE' : [mae],\n",
    "    'R2' : [r2]\n",
    "    }\n",
    "\n",
    "metrics_df = pd.DataFrame(data=metrics)\n",
    "\n",
    "# compare the values\n",
    "metrics_df"
   ]
  },
  {
   "cell_type": "markdown",
   "metadata": {},
   "source": [
    "# **Membuat Input**"
   ]
  },
  {
   "cell_type": "code",
   "execution_count": 25,
   "metadata": {},
   "outputs": [
    {
     "name": "stdout",
     "output_type": "stream",
     "text": [
      "Estimasi kecepatan waktu :  [[13.99948063]]\n"
     ]
    }
   ],
   "source": [
    "#wpm_average = 75\n",
    "#average_accuracy = 1\n",
    "\n",
    "input_data = np.array([[75, 1, 20, 0]])\n",
    "prediction = model.predict(input_data)\n",
    "scalar = MinMaxScaler()\n",
    "scalar.fit(average_second)\n",
    "denormalized_prediction = scalar.inverse_transform(prediction)\n",
    "\n",
    "print('Estimasi kecepatan waktu : ', denormalized_prediction/60)"
   ]
  },
  {
   "cell_type": "markdown",
   "metadata": {},
   "source": [
    "# **Save Model**"
   ]
  },
  {
   "cell_type": "code",
   "execution_count": 26,
   "metadata": {},
   "outputs": [],
   "source": [
    "import pickle\n",
    "\n",
    "filename = 'estimasi_waktu_mr.sav'\n",
    "pickle.dump(model,open(filename,'wb'))\n",
    "\n",
    "with open('average_second.pickle', 'wb') as file:\n",
    "    pickle.dump(average_second, file)"
   ]
  }
 ],
 "metadata": {
  "kernelspec": {
   "display_name": "Python 3",
   "language": "python",
   "name": "python3"
  },
  "language_info": {
   "codemirror_mode": {
    "name": "ipython",
    "version": 3
   },
   "file_extension": ".py",
   "mimetype": "text/x-python",
   "name": "python",
   "nbconvert_exporter": "python",
   "pygments_lexer": "ipython3",
   "version": "3.11.2"
  },
  "orig_nbformat": 4
 },
 "nbformat": 4,
 "nbformat_minor": 2
}
