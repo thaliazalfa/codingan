{
 "cells": [
  {
   "cell_type": "markdown",
   "metadata": {},
   "source": [
    "# **Import Library**"
   ]
  },
  {
   "cell_type": "code",
   "execution_count": 1,
   "metadata": {},
   "outputs": [],
   "source": [
    "# import all necessary packages\n",
    "import pandas as pd\n",
    "import numpy as np\n",
    "\n",
    "\n",
    "# import plotting packages\n",
    "import matplotlib.pyplot as plt\n",
    "import seaborn as sns\n",
    "# import ML related packages of sklearn\n",
    "from sklearn.model_selection import train_test_split\n",
    "from sklearn.linear_model import LinearRegression\n",
    "from sklearn.metrics import mean_squared_error, mean_absolute_error, r2_score\n",
    "\n"
   ]
  },
  {
   "cell_type": "markdown",
   "metadata": {},
   "source": [
    "# **Data Load**"
   ]
  },
  {
   "cell_type": "code",
   "execution_count": 2,
   "metadata": {},
   "outputs": [],
   "source": [
    "# load data to a new dataframe\n",
    "df = pd.read_csv(\"data_revisi.csv\")"
   ]
  },
  {
   "cell_type": "markdown",
   "metadata": {},
   "source": [
    "# **Data Check**"
   ]
  },
  {
   "cell_type": "code",
   "execution_count": 3,
   "metadata": {},
   "outputs": [
    {
     "data": {
      "text/plain": [
       "Nama                 object\n",
       "gender                int64\n",
       "umur                  int64\n",
       "average_wpm         float64\n",
       "average_accuracy    float64\n",
       "average_second      float64\n",
       "dtype: object"
      ]
     },
     "execution_count": 3,
     "metadata": {},
     "output_type": "execute_result"
    }
   ],
   "source": [
    "# check the shape\n",
    "df.dtypes"
   ]
  },
  {
   "cell_type": "code",
   "execution_count": 4,
   "metadata": {},
   "outputs": [
    {
     "data": {
      "text/html": [
       "<div>\n",
       "<style scoped>\n",
       "    .dataframe tbody tr th:only-of-type {\n",
       "        vertical-align: middle;\n",
       "    }\n",
       "\n",
       "    .dataframe tbody tr th {\n",
       "        vertical-align: top;\n",
       "    }\n",
       "\n",
       "    .dataframe thead th {\n",
       "        text-align: right;\n",
       "    }\n",
       "</style>\n",
       "<table border=\"1\" class=\"dataframe\">\n",
       "  <thead>\n",
       "    <tr style=\"text-align: right;\">\n",
       "      <th></th>\n",
       "      <th>Nama</th>\n",
       "      <th>gender</th>\n",
       "      <th>umur</th>\n",
       "      <th>average_wpm</th>\n",
       "      <th>average_accuracy</th>\n",
       "      <th>average_second</th>\n",
       "    </tr>\n",
       "  </thead>\n",
       "  <tbody>\n",
       "    <tr>\n",
       "      <th>0</th>\n",
       "      <td>APS</td>\n",
       "      <td>1</td>\n",
       "      <td>25</td>\n",
       "      <td>60.33</td>\n",
       "      <td>0.99</td>\n",
       "      <td>377.6</td>\n",
       "    </tr>\n",
       "    <tr>\n",
       "      <th>1</th>\n",
       "      <td>AP</td>\n",
       "      <td>0</td>\n",
       "      <td>22</td>\n",
       "      <td>41.00</td>\n",
       "      <td>0.95</td>\n",
       "      <td>508.8</td>\n",
       "    </tr>\n",
       "    <tr>\n",
       "      <th>2</th>\n",
       "      <td>DAP</td>\n",
       "      <td>1</td>\n",
       "      <td>20</td>\n",
       "      <td>52.33</td>\n",
       "      <td>0.94</td>\n",
       "      <td>560.4</td>\n",
       "    </tr>\n",
       "    <tr>\n",
       "      <th>3</th>\n",
       "      <td>DF</td>\n",
       "      <td>1</td>\n",
       "      <td>22</td>\n",
       "      <td>38.67</td>\n",
       "      <td>0.81</td>\n",
       "      <td>320.6</td>\n",
       "    </tr>\n",
       "    <tr>\n",
       "      <th>4</th>\n",
       "      <td>DRF</td>\n",
       "      <td>1</td>\n",
       "      <td>20</td>\n",
       "      <td>28.00</td>\n",
       "      <td>1.00</td>\n",
       "      <td>639.4</td>\n",
       "    </tr>\n",
       "  </tbody>\n",
       "</table>\n",
       "</div>"
      ],
      "text/plain": [
       "  Nama  gender  umur  average_wpm  average_accuracy  average_second\n",
       "0  APS       1    25        60.33              0.99           377.6\n",
       "1   AP       0    22        41.00              0.95           508.8\n",
       "2  DAP       1    20        52.33              0.94           560.4\n",
       "3   DF       1    22        38.67              0.81           320.6\n",
       "4  DRF       1    20        28.00              1.00           639.4"
      ]
     },
     "execution_count": 4,
     "metadata": {},
     "output_type": "execute_result"
    }
   ],
   "source": [
    "# first five rows of the dataframe\n",
    "df.head()"
   ]
  },
  {
   "cell_type": "markdown",
   "metadata": {},
   "source": [
    "# **Membuat Dataframe Untuk Variabel**"
   ]
  },
  {
   "cell_type": "code",
   "execution_count": 5,
   "metadata": {},
   "outputs": [
    {
     "data": {
      "text/html": [
       "<div>\n",
       "<style scoped>\n",
       "    .dataframe tbody tr th:only-of-type {\n",
       "        vertical-align: middle;\n",
       "    }\n",
       "\n",
       "    .dataframe tbody tr th {\n",
       "        vertical-align: top;\n",
       "    }\n",
       "\n",
       "    .dataframe thead th {\n",
       "        text-align: right;\n",
       "    }\n",
       "</style>\n",
       "<table border=\"1\" class=\"dataframe\">\n",
       "  <thead>\n",
       "    <tr style=\"text-align: right;\">\n",
       "      <th></th>\n",
       "      <th>average_wpm</th>\n",
       "      <th>average_second</th>\n",
       "    </tr>\n",
       "  </thead>\n",
       "  <tbody>\n",
       "    <tr>\n",
       "      <th>0</th>\n",
       "      <td>60.33</td>\n",
       "      <td>377.60</td>\n",
       "    </tr>\n",
       "    <tr>\n",
       "      <th>1</th>\n",
       "      <td>41.00</td>\n",
       "      <td>508.80</td>\n",
       "    </tr>\n",
       "    <tr>\n",
       "      <th>2</th>\n",
       "      <td>52.33</td>\n",
       "      <td>560.40</td>\n",
       "    </tr>\n",
       "    <tr>\n",
       "      <th>3</th>\n",
       "      <td>38.67</td>\n",
       "      <td>320.60</td>\n",
       "    </tr>\n",
       "    <tr>\n",
       "      <th>4</th>\n",
       "      <td>28.00</td>\n",
       "      <td>639.40</td>\n",
       "    </tr>\n",
       "    <tr>\n",
       "      <th>...</th>\n",
       "      <td>...</td>\n",
       "      <td>...</td>\n",
       "    </tr>\n",
       "    <tr>\n",
       "      <th>95</th>\n",
       "      <td>34.09</td>\n",
       "      <td>464.42</td>\n",
       "    </tr>\n",
       "    <tr>\n",
       "      <th>96</th>\n",
       "      <td>50.09</td>\n",
       "      <td>415.59</td>\n",
       "    </tr>\n",
       "    <tr>\n",
       "      <th>97</th>\n",
       "      <td>44.58</td>\n",
       "      <td>481.00</td>\n",
       "    </tr>\n",
       "    <tr>\n",
       "      <th>98</th>\n",
       "      <td>37.20</td>\n",
       "      <td>425.45</td>\n",
       "    </tr>\n",
       "    <tr>\n",
       "      <th>99</th>\n",
       "      <td>50.00</td>\n",
       "      <td>450.00</td>\n",
       "    </tr>\n",
       "  </tbody>\n",
       "</table>\n",
       "<p>100 rows × 2 columns</p>\n",
       "</div>"
      ],
      "text/plain": [
       "    average_wpm  average_second\n",
       "0         60.33          377.60\n",
       "1         41.00          508.80\n",
       "2         52.33          560.40\n",
       "3         38.67          320.60\n",
       "4         28.00          639.40\n",
       "..          ...             ...\n",
       "95        34.09          464.42\n",
       "96        50.09          415.59\n",
       "97        44.58          481.00\n",
       "98        37.20          425.45\n",
       "99        50.00          450.00\n",
       "\n",
       "[100 rows x 2 columns]"
      ]
     },
     "execution_count": 5,
     "metadata": {},
     "output_type": "execute_result"
    }
   ],
   "source": [
    "#membuat dataframe khusus untuk variabel yang akan digunakan\n",
    "new_df = df[['average_wpm', 'average_second']]\n",
    "new_df"
   ]
  },
  {
   "cell_type": "markdown",
   "metadata": {},
   "source": [
    "# **Data Plot**"
   ]
  },
  {
   "cell_type": "code",
   "execution_count": 6,
   "metadata": {},
   "outputs": [
    {
     "data": {
      "text/plain": [
       "<Axes: xlabel='average_wpm', ylabel='average_second'>"
      ]
     },
     "execution_count": 6,
     "metadata": {},
     "output_type": "execute_result"
    },
    {
     "data": {
      "image/png": "[encoded data removed]",
      "text/plain": [
       "<Figure size 640x480 with 1 Axes>"
      ]
     },
     "metadata": {},
     "output_type": "display_data"
    }
   ],
   "source": [
    "# check the distribution of data by plotting as scatter\n",
    "new_df.plot(x='average_wpm', y='average_second', kind='scatter')\t"
   ]
  },
  {
   "cell_type": "markdown",
   "metadata": {},
   "source": [
    "# **Deklarasi Variabel**"
   ]
  },
  {
   "cell_type": "code",
   "execution_count": 7,
   "metadata": {},
   "outputs": [],
   "source": [
    "# deklarasi x dan y dari dataframe yang baru\n",
    "x = new_df['average_wpm'].values.reshape(-1, 1)\n",
    "y = new_df['average_second'].values.reshape(-1, 1)"
   ]
  },
  {
   "cell_type": "markdown",
   "metadata": {},
   "source": [
    "# **NORMALISASI** \n",
    "### _'average_wpm' dan 'average_second'_"
   ]
  },
  {
   "cell_type": "code",
   "execution_count": 8,
   "metadata": {},
   "outputs": [],
   "source": [
    "from sklearn.preprocessing import MinMaxScaler"
   ]
  },
  {
   "cell_type": "code",
   "execution_count": 9,
   "metadata": {},
   "outputs": [
    {
     "data": {
      "text/plain": [
       "array([[0.62545947],\n",
       "       [0.25149932],\n",
       "       [0.47069066],\n",
       "       [0.20642291],\n",
       "       [0.        ],\n",
       "       [0.52872896],\n",
       "       [0.37396015],\n",
       "       [0.50299865],\n",
       "       [0.61269104],\n",
       "       [0.30953763],\n",
       "       [0.34822983],\n",
       "       [0.34184562],\n",
       "       [0.10311472],\n",
       "       [0.80615206],\n",
       "       [0.12246082],\n",
       "       [0.34822983],\n",
       "       [0.41923003],\n",
       "       [0.30953763],\n",
       "       [0.39330625],\n",
       "       [0.43857613],\n",
       "       [0.90926678],\n",
       "       [0.24027858],\n",
       "       [0.38247243],\n",
       "       [0.55387889],\n",
       "       [0.18107951],\n",
       "       [0.55465274],\n",
       "       [0.58328497],\n",
       "       [0.32810989],\n",
       "       [0.40607468],\n",
       "       [0.4064616 ],\n",
       "       [0.23815051],\n",
       "       [0.48481331],\n",
       "       [0.3950474 ],\n",
       "       [0.11975237],\n",
       "       [0.61114335],\n",
       "       [0.47784871],\n",
       "       [0.573225  ],\n",
       "       [0.41013736],\n",
       "       [0.13716386],\n",
       "       [0.71348423],\n",
       "       [0.08589669],\n",
       "       [0.81775972],\n",
       "       [0.95898626],\n",
       "       [0.26020507],\n",
       "       [0.58579996],\n",
       "       [0.60766106],\n",
       "       [0.55252467],\n",
       "       [0.53047011],\n",
       "       [0.68407816],\n",
       "       [0.24434127],\n",
       "       [0.23950474],\n",
       "       [0.22151287],\n",
       "       [0.80189592],\n",
       "       [0.21783711],\n",
       "       [0.37105823],\n",
       "       [0.53782163],\n",
       "       [0.41574773],\n",
       "       [0.18843103],\n",
       "       [0.51305862],\n",
       "       [0.05997292],\n",
       "       [0.7032308 ],\n",
       "       [0.51963629],\n",
       "       [0.5900561 ],\n",
       "       [0.46333914],\n",
       "       [0.56258464],\n",
       "       [0.92590443],\n",
       "       [0.657574  ],\n",
       "       [0.56103695],\n",
       "       [0.11027278],\n",
       "       [0.46546721],\n",
       "       [0.35712904],\n",
       "       [0.14761076],\n",
       "       [0.54575353],\n",
       "       [0.58850842],\n",
       "       [0.53027665],\n",
       "       [0.11549623],\n",
       "       [0.51673438],\n",
       "       [0.7076804 ],\n",
       "       [0.63842136],\n",
       "       [0.42464693],\n",
       "       [0.62217063],\n",
       "       [0.20487522],\n",
       "       [0.38227897],\n",
       "       [0.48268524],\n",
       "       [1.        ],\n",
       "       [0.2124202 ],\n",
       "       [0.48578062],\n",
       "       [0.30528149],\n",
       "       [0.68794738],\n",
       "       [0.66124976],\n",
       "       [0.24627588],\n",
       "       [0.47552718],\n",
       "       [0.89359644],\n",
       "       [0.58502612],\n",
       "       [0.73766686],\n",
       "       [0.11781776],\n",
       "       [0.42735539],\n",
       "       [0.32075837],\n",
       "       [0.17798414],\n",
       "       [0.42561424]])"
      ]
     },
     "execution_count": 9,
     "metadata": {},
     "output_type": "execute_result"
    }
   ],
   "source": [
    "#Normalize x variabel\n",
    "scalar = MinMaxScaler()\n",
    "scalar.fit(x)\n",
    "new_x = scalar.transform(x)\n",
    "new_x"
   ]
  },
  {
   "cell_type": "code",
   "execution_count": 10,
   "metadata": {},
   "outputs": [
    {
     "data": {
      "text/plain": [
       "array([[0.15558313],\n",
       "       [0.35414838],\n",
       "       [0.43224264],\n",
       "       [0.06931622],\n",
       "       [0.55180555],\n",
       "       [0.69255683],\n",
       "       [0.17767957],\n",
       "       [0.19463026],\n",
       "       [0.82271393],\n",
       "       [0.        ],\n",
       "       [0.59327421],\n",
       "       [0.520023  ],\n",
       "       [0.21824015],\n",
       "       [0.47825166],\n",
       "       [0.24911463],\n",
       "       [0.54090868],\n",
       "       [0.29936132],\n",
       "       [0.68226534],\n",
       "       [0.63050519],\n",
       "       [0.56209704],\n",
       "       [0.099888  ],\n",
       "       [0.28192633],\n",
       "       [0.46960983],\n",
       "       [0.53527863],\n",
       "       [0.25227775],\n",
       "       [0.15343403],\n",
       "       [0.43542089],\n",
       "       [0.21014317],\n",
       "       [0.65037685],\n",
       "       [0.28041287],\n",
       "       [0.2259285 ],\n",
       "       [0.93578412],\n",
       "       [0.46994279],\n",
       "       [0.7537458 ],\n",
       "       [0.5631716 ],\n",
       "       [0.31927838],\n",
       "       [0.7299997 ],\n",
       "       [0.63000575],\n",
       "       [1.        ],\n",
       "       [0.49349215],\n",
       "       [0.4188637 ],\n",
       "       [0.64432303],\n",
       "       [0.30378061],\n",
       "       [0.38161758],\n",
       "       [0.5562097 ],\n",
       "       [0.47576959],\n",
       "       [0.14029724],\n",
       "       [0.35977843],\n",
       "       [0.31776493],\n",
       "       [0.59943397],\n",
       "       [0.22202379],\n",
       "       [0.22346157],\n",
       "       [0.36719436],\n",
       "       [0.47558798],\n",
       "       [0.57695917],\n",
       "       [0.63394073],\n",
       "       [0.65294972],\n",
       "       [0.19741502],\n",
       "       [0.31659957],\n",
       "       [0.1505736 ],\n",
       "       [0.12281684],\n",
       "       [0.24399915],\n",
       "       [0.08732633],\n",
       "       [0.24066955],\n",
       "       [0.38916972],\n",
       "       [0.19690044],\n",
       "       [0.52483579],\n",
       "       [0.70259103],\n",
       "       [0.22582256],\n",
       "       [0.1705058 ],\n",
       "       [0.42444835],\n",
       "       [0.19210279],\n",
       "       [0.34273693],\n",
       "       [0.33736417],\n",
       "       [0.57253988],\n",
       "       [0.44879983],\n",
       "       [0.52796864],\n",
       "       [0.54587281],\n",
       "       [0.53026909],\n",
       "       [0.75466901],\n",
       "       [0.08640312],\n",
       "       [0.52899779],\n",
       "       [0.69166389],\n",
       "       [0.2849381 ],\n",
       "       [0.47189515],\n",
       "       [0.58616097],\n",
       "       [0.38876109],\n",
       "       [0.46659806],\n",
       "       [0.4185156 ],\n",
       "       [0.75975421],\n",
       "       [0.18620032],\n",
       "       [0.37462542],\n",
       "       [0.57617217],\n",
       "       [0.69643127],\n",
       "       [0.2279414 ],\n",
       "       [0.28698126],\n",
       "       [0.21307927],\n",
       "       [0.31207434],\n",
       "       [0.22800194],\n",
       "       [0.26515725]])"
      ]
     },
     "execution_count": 10,
     "metadata": {},
     "output_type": "execute_result"
    }
   ],
   "source": [
    "#Normalize y variabel\n",
    "scalar = MinMaxScaler()\n",
    "scalar.fit(y)\n",
    "new_y = scalar.transform(y)\n",
    "new_y"
   ]
  },
  {
   "cell_type": "markdown",
   "metadata": {},
   "source": [
    "# **Split *Data Train* dan *Data Test***"
   ]
  },
  {
   "cell_type": "code",
   "execution_count": 11,
   "metadata": {},
   "outputs": [],
   "source": [
    "results = []"
   ]
  },
  {
   "cell_type": "code",
   "execution_count": 12,
   "metadata": {},
   "outputs": [],
   "source": [
    "# Loop untuk menguji setiap random_state dari 1 hingga 100\n",
    "for random_state in range(1, 101):\n",
    "    # Bagi data menjadi data latih dan data uji\n",
    "    x_train, x_test, y_train, y_test = train_test_split(new_x, new_y, test_size=0.2, random_state=random_state)\n",
    "    \n",
    "    # Buat model regresi linear\n",
    "    model = LinearRegression()\n",
    "    \n",
    "    # Latih model pada data latih\n",
    "    model.fit(x_train, y_train)\n",
    "    \n",
    "    # Lakukan prediksi pada data uji\n",
    "    y_pred = model.predict(x_test)\n",
    "    \n",
    "    # Hitung metrik evaluasi\n",
    "    mse = mean_squared_error(y_test, y_pred)\n",
    "    rmse = np.sqrt(mse)\n",
    "    mae = mean_absolute_error(y_test, y_pred)\n",
    "    r2 = r2_score(y_test, y_pred)\n",
    "    \n",
    "    # Simpan hasil metrik dalam bentuk tuple\n",
    "    result = (random_state, rmse, mae, mse, r2)\n",
    "    \n",
    "    # Tambahkan tuple hasil metrik ke dalam list results\n",
    "    results.append(result)"
   ]
  },
  {
   "cell_type": "code",
   "execution_count": 13,
   "metadata": {},
   "outputs": [],
   "source": [
    "# Konversi list hasil metrik menjadi DataFrame\n",
    "results_df = pd.DataFrame(results, columns=['Random State', 'RMSE', 'MAE', 'MSE', 'R2'])"
   ]
  },
  {
   "cell_type": "code",
   "execution_count": 14,
   "metadata": {},
   "outputs": [
    {
     "name": "stdout",
     "output_type": "stream",
     "text": [
      "    Random State      RMSE       MAE       MSE        R2\n",
      "0              1  0.253423  0.220749  0.064223 -0.399831\n",
      "1              2  0.192947  0.175242  0.037229 -0.090115\n",
      "2              3  0.207992  0.182644  0.043261 -0.053317\n",
      "3              4  0.152953  0.129959  0.023394 -0.077766\n",
      "4              5  0.197711  0.172780  0.039090 -0.096164\n",
      "5              6  0.188875  0.160028  0.035674 -0.042384\n",
      "6              7  0.155162  0.123780  0.024075 -0.103456\n",
      "7              8  0.191352  0.165588  0.036615 -0.001598\n",
      "8              9  0.189244  0.157095  0.035813 -0.202877\n",
      "9             10  0.232232  0.189118  0.053932 -0.002542\n",
      "10            11  0.244849  0.210517  0.059951 -0.013014\n",
      "11            12  0.252362  0.215208  0.063687 -0.058202\n",
      "12            13  0.235775  0.202937  0.055590 -0.026790\n",
      "13            14  0.180078  0.148684  0.032428  0.004524\n",
      "14            15  0.265356  0.235831  0.070414 -0.047186\n",
      "15            16  0.224982  0.189731  0.050617 -0.885586\n",
      "16            17  0.207437  0.179427  0.043030 -0.022784\n",
      "17            18  0.176752  0.144231  0.031241 -0.097327\n",
      "18            19  0.225651  0.179694  0.050918 -0.078769\n",
      "19            20  0.231683  0.189362  0.053677 -0.450215\n",
      "20            21  0.214329  0.179082  0.045937 -0.132755\n",
      "21            22  0.224086  0.193554  0.050214 -0.150341\n",
      "22            23  0.239804  0.215006  0.057506 -0.024132\n",
      "23            24  0.207774  0.158504  0.043170 -0.047173\n",
      "24            25  0.202422  0.180757  0.040975 -0.063472\n",
      "25            26  0.252627  0.211335  0.063820 -0.070610\n",
      "26            27  0.193781  0.172562  0.037551 -0.006582\n",
      "27            28  0.177890  0.150016  0.031645  0.011137\n",
      "28            29  0.249157  0.210377  0.062079 -0.117650\n",
      "29            30  0.259191  0.213838  0.067180 -0.124495\n",
      "30            31  0.247039  0.219597  0.061028 -0.029055\n",
      "31            32  0.186276  0.155232  0.034699 -0.022659\n",
      "32            33  0.195211  0.169896  0.038108 -0.070900\n",
      "33            34  0.150331  0.136530  0.022600 -0.001388\n",
      "34            35  0.211220  0.179195  0.044614 -0.097870\n",
      "35            36  0.200698  0.177554  0.040280 -0.514760\n",
      "36            37  0.252124  0.204574  0.063566 -0.117694\n",
      "37            38  0.219076  0.168394  0.047994 -0.030506\n",
      "38            39  0.173497  0.151156  0.030101 -0.037990\n",
      "39            40  0.266843  0.215231  0.071205 -0.330653\n",
      "40            41  0.217884  0.196289  0.047474 -0.100993\n",
      "41            42  0.213459  0.176257  0.045565 -0.066348\n",
      "42            43  0.255246  0.205801  0.065150 -0.053062\n",
      "43            44  0.194023  0.168023  0.037645 -0.096959\n",
      "44            45  0.248198  0.196015  0.061602 -0.162720\n",
      "45            46  0.178914  0.161047  0.032010 -0.000013\n",
      "46            47  0.249256  0.201647  0.062128 -0.047922\n",
      "47            48  0.239452  0.212401  0.057337 -0.000640\n",
      "48            49  0.172381  0.150308  0.029715 -0.019157\n",
      "49            50  0.253523  0.209109  0.064274 -0.036894\n",
      "50            51  0.187003  0.160076  0.034970 -0.052023\n",
      "51            52  0.226011  0.200670  0.051081 -0.622365\n",
      "52            53  0.195349  0.174046  0.038161 -0.074812\n",
      "53            54  0.242662  0.197703  0.058885 -0.169531\n",
      "54            55  0.238782  0.192224  0.057017 -0.239682\n",
      "55            56  0.216473  0.159197  0.046861  0.007674\n",
      "56            57  0.229969  0.204212  0.052886 -0.011579\n",
      "57            58  0.229825  0.185820  0.052820 -0.088297\n",
      "58            59  0.231641  0.193110  0.053658 -0.134656\n",
      "59            60  0.204943  0.181541  0.042002 -0.014735\n",
      "60            61  0.227287  0.186355  0.051659 -0.029497\n",
      "61            62  0.215410  0.190041  0.046402 -0.125780\n",
      "62            63  0.233795  0.196770  0.054660 -0.006370\n",
      "63            64  0.191058  0.162802  0.036503  0.007186\n",
      "64            65  0.189864  0.152957  0.036048  0.009108\n",
      "65            66  0.243324  0.196541  0.059207 -0.053268\n",
      "66            67  0.192739  0.162395  0.037148  0.009635\n",
      "67            68  0.212978  0.175452  0.045360 -0.055383\n",
      "68            69  0.248695  0.202111  0.061849 -0.121528\n",
      "69            70  0.170593  0.145630  0.029102 -0.149553\n",
      "70            71  0.206751  0.187264  0.042746 -0.070639\n",
      "71            72  0.175717  0.152658  0.030877 -0.032938\n",
      "72            73  0.215105  0.173841  0.046270  0.005795\n",
      "73            74  0.255543  0.207124  0.065302 -0.069020\n",
      "74            75  0.174475  0.149815  0.030441 -0.105186\n",
      "75            76  0.224463  0.183883  0.050384 -0.261638\n",
      "76            77  0.199334  0.174242  0.039734  0.004957\n",
      "77            78  0.242852  0.217449  0.058977 -0.010352\n",
      "78            79  0.180693  0.153382  0.032650 -0.018383\n",
      "79            80  0.198489  0.169717  0.039398 -0.085000\n",
      "80            81  0.217626  0.193168  0.047361 -0.032689\n",
      "81            82  0.219295  0.162518  0.048090 -0.621268\n",
      "82            83  0.190374  0.170398  0.036242 -1.725169\n",
      "83            84  0.212358  0.187176  0.045096 -0.066398\n",
      "84            85  0.215245  0.194439  0.046330 -0.111424\n",
      "85            86  0.225376  0.198595  0.050794 -0.107228\n",
      "86            87  0.188293  0.155504  0.035454 -0.102466\n",
      "87            88  0.195526  0.157369  0.038230 -0.089891\n",
      "88            89  0.190102  0.172313  0.036139 -0.072864\n",
      "89            90  0.202780  0.184414  0.041120 -0.034117\n",
      "90            91  0.220967  0.188995  0.048827 -0.119166\n",
      "91            92  0.215630  0.185841  0.046496 -0.001162\n",
      "92            93  0.180548  0.159476  0.032597 -0.024746\n",
      "93            94  0.182068  0.160352  0.033149 -0.173390\n",
      "94            95  0.170898  0.130666  0.029206 -0.236452\n",
      "95            96  0.172825  0.150551  0.029869 -0.028792\n",
      "96            97  0.202573  0.159444  0.041036 -0.164040\n",
      "97            98  0.207166  0.175694  0.042918 -0.234764\n",
      "98            99  0.235112  0.197236  0.055278 -0.037479\n",
      "99           100  0.204505  0.180923  0.041822 -0.023408\n"
     ]
    }
   ],
   "source": [
    "# Atur jumlah baris yang ditampilkan\n",
    "pd.set_option(\"display.max_rows\", None)\n",
    "\n",
    "# Cetak DataFrame results_df\n",
    "print(results_df)"
   ]
  },
  {
   "cell_type": "markdown",
   "metadata": {},
   "source": [
    "# **Membuat Model**"
   ]
  },
  {
   "cell_type": "code",
   "execution_count": 15,
   "metadata": {},
   "outputs": [],
   "source": [
    "# create a linear regression model\n",
    "model = LinearRegression()"
   ]
  },
  {
   "cell_type": "markdown",
   "metadata": {},
   "source": [
    "# **Training Data**"
   ]
  },
  {
   "cell_type": "code",
   "execution_count": 16,
   "metadata": {},
   "outputs": [
    {
     "data": {
      "text/html": [
       "<style>#sk-container-id-1 {color: black;}#sk-container-id-1 pre{padding: 0;}#sk-container-id-1 div.sk-toggleable {background-color: white;}#sk-container-id-1 label.sk-toggleable__label {cursor: pointer;display: block;width: 100%;margin-bottom: 0;padding: 0.3em;box-sizing: border-box;text-align: center;}#sk-container-id-1 label.sk-toggleable__label-arrow:before {content: \"▸\";float: left;margin-right: 0.25em;color: #696969;}#sk-container-id-1 label.sk-toggleable__label-arrow:hover:before {color: black;}#sk-container-id-1 div.sk-estimator:hover label.sk-toggleable__label-arrow:before {color: black;}#sk-container-id-1 div.sk-toggleable__content {max-height: 0;max-width: 0;overflow: hidden;text-align: left;background-color: #f0f8ff;}#sk-container-id-1 div.sk-toggleable__content pre {margin: 0.2em;color: black;border-radius: 0.25em;background-color: #f0f8ff;}#sk-container-id-1 input.sk-toggleable__control:checked~div.sk-toggleable__content {max-height: 200px;max-width: 100%;overflow: auto;}#sk-container-id-1 input.sk-toggleable__control:checked~label.sk-toggleable__label-arrow:before {content: \"▾\";}#sk-container-id-1 div.sk-estimator input.sk-toggleable__control:checked~label.sk-toggleable__label {background-color: #d4ebff;}#sk-container-id-1 div.sk-label input.sk-toggleable__control:checked~label.sk-toggleable__label {background-color: #d4ebff;}#sk-container-id-1 input.sk-hidden--visually {border: 0;clip: rect(1px 1px 1px 1px);clip: rect(1px, 1px, 1px, 1px);height: 1px;margin: -1px;overflow: hidden;padding: 0;position: absolute;width: 1px;}#sk-container-id-1 div.sk-estimator {font-family: monospace;background-color: #f0f8ff;border: 1px dotted black;border-radius: 0.25em;box-sizing: border-box;margin-bottom: 0.5em;}#sk-container-id-1 div.sk-estimator:hover {background-color: #d4ebff;}#sk-container-id-1 div.sk-parallel-item::after {content: \"\";width: 100%;border-bottom: 1px solid gray;flex-grow: 1;}#sk-container-id-1 div.sk-label:hover label.sk-toggleable__label {background-color: #d4ebff;}#sk-container-id-1 div.sk-serial::before {content: \"\";position: absolute;border-left: 1px solid gray;box-sizing: border-box;top: 0;bottom: 0;left: 50%;z-index: 0;}#sk-container-id-1 div.sk-serial {display: flex;flex-direction: column;align-items: center;background-color: white;padding-right: 0.2em;padding-left: 0.2em;position: relative;}#sk-container-id-1 div.sk-item {position: relative;z-index: 1;}#sk-container-id-1 div.sk-parallel {display: flex;align-items: stretch;justify-content: center;background-color: white;position: relative;}#sk-container-id-1 div.sk-item::before, #sk-container-id-1 div.sk-parallel-item::before {content: \"\";position: absolute;border-left: 1px solid gray;box-sizing: border-box;top: 0;bottom: 0;left: 50%;z-index: -1;}#sk-container-id-1 div.sk-parallel-item {display: flex;flex-direction: column;z-index: 1;position: relative;background-color: white;}#sk-container-id-1 div.sk-parallel-item:first-child::after {align-self: flex-end;width: 50%;}#sk-container-id-1 div.sk-parallel-item:last-child::after {align-self: flex-start;width: 50%;}#sk-container-id-1 div.sk-parallel-item:only-child::after {width: 0;}#sk-container-id-1 div.sk-dashed-wrapped {border: 1px dashed gray;margin: 0 0.4em 0.5em 0.4em;box-sizing: border-box;padding-bottom: 0.4em;background-color: white;}#sk-container-id-1 div.sk-label label {font-family: monospace;font-weight: bold;display: inline-block;line-height: 1.2em;}#sk-container-id-1 div.sk-label-container {text-align: center;}#sk-container-id-1 div.sk-container {/* jupyter's `normalize.less` sets `[hidden] { display: none; }` but bootstrap.min.css set `[hidden] { display: none !important; }` so we also need the `!important` here to be able to override the default hidden behavior on the sphinx rendered scikit-learn.org. See: https://github.com/scikit-learn/scikit-learn/issues/21755 */display: inline-block !important;position: relative;}#sk-container-id-1 div.sk-text-repr-fallback {display: none;}</style><div id=\"sk-container-id-1\" class=\"sk-top-container\"><div class=\"sk-text-repr-fallback\"><pre>LinearRegression()</pre><b>In a Jupyter environment, please rerun this cell to show the HTML representation or trust the notebook. <br />On GitHub, the HTML representation is unable to render, please try loading this page with nbviewer.org.</b></div><div class=\"sk-container\" hidden><div class=\"sk-item\"><div class=\"sk-estimator sk-toggleable\"><input class=\"sk-toggleable__control sk-hidden--visually\" id=\"sk-estimator-id-1\" type=\"checkbox\" checked><label for=\"sk-estimator-id-1\" class=\"sk-toggleable__label sk-toggleable__label-arrow\">LinearRegression</label><div class=\"sk-toggleable__content\"><pre>LinearRegression()</pre></div></div></div></div></div>"
      ],
      "text/plain": [
       "LinearRegression()"
      ]
     },
     "execution_count": 16,
     "metadata": {},
     "output_type": "execute_result"
    }
   ],
   "source": [
    "# train the model using training data\n",
    "# since we have only one independent variable, you should use 'values.reshape(-1,1)'. Otherwise, x_train is enough.\n",
    "model.fit(x_train, y_train)  "
   ]
  },
  {
   "cell_type": "code",
   "execution_count": 17,
   "metadata": {},
   "outputs": [
    {
     "data": {
      "text/plain": [
       "array([[0.04801387]])"
      ]
     },
     "execution_count": 17,
     "metadata": {},
     "output_type": "execute_result"
    }
   ],
   "source": [
    "# print coefficient\n",
    "model.coef_"
   ]
  },
  {
   "cell_type": "code",
   "execution_count": 18,
   "metadata": {},
   "outputs": [
    {
     "data": {
      "text/plain": [
       "array([0.38519045])"
      ]
     },
     "execution_count": 18,
     "metadata": {},
     "output_type": "execute_result"
    }
   ],
   "source": [
    "# print y_intercept | bias\n",
    "model.intercept_"
   ]
  },
  {
   "cell_type": "markdown",
   "metadata": {},
   "source": [
    "# **Prediksi Model**"
   ]
  },
  {
   "cell_type": "code",
   "execution_count": 19,
   "metadata": {},
   "outputs": [],
   "source": [
    "# make predictions using test data\n",
    "y_pred = model.predict(x_test)"
   ]
  },
  {
   "cell_type": "code",
   "execution_count": 20,
   "metadata": {},
   "outputs": [
    {
     "name": "stdout",
     "output_type": "stream",
     "text": [
      "MSE -->  0.04182234354529746\n",
      "RMSE -->  0.20450511862859927\n",
      "MAE -->  0.18092301260519764\n",
      "R2 -->  -0.02340762371534444\n"
     ]
    }
   ],
   "source": [
    "# let's calculate the metrics\n",
    "# MSE\n",
    "mse = mean_squared_error(y_test, y_pred)\n",
    "print(\"MSE --> \", mse)\n",
    "# RMSE\n",
    "import math\n",
    "rmse = math.sqrt(mse)\n",
    "print(\"RMSE --> \", rmse)\n",
    "# MAE\n",
    "mae = mean_absolute_error(y_test, y_pred)\n",
    "print(\"MAE --> \", mae)\n",
    "# R2\n",
    "r2 = r2_score(y_test, y_pred)\n",
    "print(\"R2 --> \", r2)"
   ]
  },
  {
   "cell_type": "markdown",
   "metadata": {},
   "source": [
    "# **Data Visualisasi**"
   ]
  },
  {
   "cell_type": "code",
   "execution_count": 21,
   "metadata": {},
   "outputs": [
    {
     "data": {
      "text/plain": [
       "Text(0, 0.5, 'Predicted')"
      ]
     },
     "execution_count": 21,
     "metadata": {},
     "output_type": "execute_result"
    },
    {
     "data": {
      "image/png": "[encoded data removed]",
      "text/plain": [
       "<Figure size 640x480 with 1 Axes>"
      ]
     },
     "metadata": {},
     "output_type": "display_data"
    }
   ],
   "source": [
    "# plot actual and predicted values\n",
    "plt.scatter(y_test, y_pred)\n",
    "plt.xlabel('Actual')\n",
    "plt.ylabel('Predicted')"
   ]
  },
  {
   "cell_type": "code",
   "execution_count": 22,
   "metadata": {},
   "outputs": [
    {
     "data": {
      "text/plain": [
       "<Axes: >"
      ]
     },
     "execution_count": 22,
     "metadata": {},
     "output_type": "execute_result"
    },
    {
     "data": {
      "image/png": "[encoded data removed]",
      "text/plain": [
       "<Figure size 640x480 with 1 Axes>"
      ]
     },
     "metadata": {},
     "output_type": "display_data"
    }
   ],
   "source": [
    "# plot regression model line\n",
    "sns.regplot(x=x, y=y, ci=None, color ='blue')"
   ]
  },
  {
   "cell_type": "markdown",
   "metadata": {},
   "source": [
    "# **Membuat Input**"
   ]
  },
  {
   "cell_type": "code",
   "execution_count": 23,
   "metadata": {},
   "outputs": [
    {
     "name": "stdout",
     "output_type": "stream",
     "text": [
      "Estimasi kecepatan waktu :  [[4.17828649]]\n"
     ]
    }
   ],
   "source": [
    "input_data = np.array([[79]])\n",
    "\n",
    "prediction = model.predict(input_data)\n",
    "denormalized_prediction = scalar.inverse_transform(prediction)\n",
    "\n",
    "print('Estimasi kecepatan waktu : ', prediction)"
   ]
  },
  {
   "cell_type": "markdown",
   "metadata": {},
   "source": [
    "# **Save Model**"
   ]
  },
  {
   "cell_type": "code",
   "execution_count": 24,
   "metadata": {},
   "outputs": [],
   "source": [
    "import pickle\n",
    "\n",
    "filename = 'estimasi_waktu_lr.sav'\n",
    "pickle.dump(model,open(filename,'wb'))\n",
    "\n",
    "with open('y.pickle', 'wb') as file:\n",
    "    pickle.dump(y, file)\n"
   ]
  }
 ],
 "metadata": {
  "kernelspec": {
   "display_name": "Python 3",
   "language": "python",
   "name": "python3"
  },
  "language_info": {
   "codemirror_mode": {
    "name": "ipython",
    "version": 3
   },
   "file_extension": ".py",
   "mimetype": "text/x-python",
   "name": "python",
   "nbconvert_exporter": "python",
   "pygments_lexer": "ipython3",
   "version": "3.11.2"
  },
  "orig_nbformat": 4
 },
 "nbformat": 4,
 "nbformat_minor": 2
}
