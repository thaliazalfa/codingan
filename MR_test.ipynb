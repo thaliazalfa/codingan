{
 "cells": [
  {
   "cell_type": "markdown",
   "metadata": {},
   "source": [
    "# **Import Library**"
   ]
  },
  {
   "cell_type": "code",
   "execution_count": 1,
   "metadata": {},
   "outputs": [],
   "source": [
    "# import all necessary packages\n",
    "import pandas as pd\n",
    "import numpy as np\n",
    "\n",
    "\n",
    "# import plotting packages\n",
    "import matplotlib.pyplot as plt\n",
    "import seaborn as sns\n",
    "# import ML related packages of sklearn\n",
    "from sklearn.model_selection import train_test_split\n",
    "from sklearn.linear_model import LinearRegression\n",
    "from sklearn.metrics import mean_squared_error, mean_absolute_error, r2_score\n",
    "\n",
    "import plotly.express as px\n",
    "import plotly.graph_objects as go\n"
   ]
  },
  {
   "cell_type": "markdown",
   "metadata": {},
   "source": [
    "# **Data Load**"
   ]
  },
  {
   "cell_type": "code",
   "execution_count": 2,
   "metadata": {},
   "outputs": [],
   "source": [
    "# load data to a new dataframe\n",
    "df = pd.read_csv(\"data_revisi.csv\")"
   ]
  },
  {
   "cell_type": "code",
   "execution_count": 3,
   "metadata": {},
   "outputs": [
    {
     "data": {
      "text/html": [
       "<div>\n",
       "<style scoped>\n",
       "    .dataframe tbody tr th:only-of-type {\n",
       "        vertical-align: middle;\n",
       "    }\n",
       "\n",
       "    .dataframe tbody tr th {\n",
       "        vertical-align: top;\n",
       "    }\n",
       "\n",
       "    .dataframe thead th {\n",
       "        text-align: right;\n",
       "    }\n",
       "</style>\n",
       "<table border=\"1\" class=\"dataframe\">\n",
       "  <thead>\n",
       "    <tr style=\"text-align: right;\">\n",
       "      <th></th>\n",
       "      <th>Nama</th>\n",
       "      <th>gender</th>\n",
       "      <th>umur</th>\n",
       "      <th>average_wpm</th>\n",
       "      <th>average_accuracy</th>\n",
       "      <th>average_second</th>\n",
       "    </tr>\n",
       "  </thead>\n",
       "  <tbody>\n",
       "    <tr>\n",
       "      <th>0</th>\n",
       "      <td>APS</td>\n",
       "      <td>1</td>\n",
       "      <td>25</td>\n",
       "      <td>60.33</td>\n",
       "      <td>0.99</td>\n",
       "      <td>377.60</td>\n",
       "    </tr>\n",
       "    <tr>\n",
       "      <th>1</th>\n",
       "      <td>AP</td>\n",
       "      <td>0</td>\n",
       "      <td>22</td>\n",
       "      <td>41.00</td>\n",
       "      <td>0.95</td>\n",
       "      <td>508.80</td>\n",
       "    </tr>\n",
       "    <tr>\n",
       "      <th>2</th>\n",
       "      <td>DAP</td>\n",
       "      <td>1</td>\n",
       "      <td>20</td>\n",
       "      <td>52.33</td>\n",
       "      <td>0.94</td>\n",
       "      <td>560.40</td>\n",
       "    </tr>\n",
       "    <tr>\n",
       "      <th>3</th>\n",
       "      <td>DF</td>\n",
       "      <td>1</td>\n",
       "      <td>22</td>\n",
       "      <td>38.67</td>\n",
       "      <td>0.81</td>\n",
       "      <td>320.60</td>\n",
       "    </tr>\n",
       "    <tr>\n",
       "      <th>4</th>\n",
       "      <td>DRF</td>\n",
       "      <td>1</td>\n",
       "      <td>20</td>\n",
       "      <td>28.00</td>\n",
       "      <td>1.00</td>\n",
       "      <td>639.40</td>\n",
       "    </tr>\n",
       "    <tr>\n",
       "      <th>...</th>\n",
       "      <td>...</td>\n",
       "      <td>...</td>\n",
       "      <td>...</td>\n",
       "      <td>...</td>\n",
       "      <td>...</td>\n",
       "      <td>...</td>\n",
       "    </tr>\n",
       "    <tr>\n",
       "      <th>94</th>\n",
       "      <td>abi</td>\n",
       "      <td>1</td>\n",
       "      <td>20</td>\n",
       "      <td>66.13</td>\n",
       "      <td>1.00</td>\n",
       "      <td>425.41</td>\n",
       "    </tr>\n",
       "    <tr>\n",
       "      <th>95</th>\n",
       "      <td>rani</td>\n",
       "      <td>0</td>\n",
       "      <td>20</td>\n",
       "      <td>34.09</td>\n",
       "      <td>0.82</td>\n",
       "      <td>464.42</td>\n",
       "    </tr>\n",
       "    <tr>\n",
       "      <th>96</th>\n",
       "      <td>farrel</td>\n",
       "      <td>1</td>\n",
       "      <td>20</td>\n",
       "      <td>50.09</td>\n",
       "      <td>0.82</td>\n",
       "      <td>415.59</td>\n",
       "    </tr>\n",
       "    <tr>\n",
       "      <th>97</th>\n",
       "      <td>hasan</td>\n",
       "      <td>1</td>\n",
       "      <td>21</td>\n",
       "      <td>44.58</td>\n",
       "      <td>0.81</td>\n",
       "      <td>481.00</td>\n",
       "    </tr>\n",
       "    <tr>\n",
       "      <th>98</th>\n",
       "      <td>timothy</td>\n",
       "      <td>1</td>\n",
       "      <td>22</td>\n",
       "      <td>37.20</td>\n",
       "      <td>1.00</td>\n",
       "      <td>425.45</td>\n",
       "    </tr>\n",
       "  </tbody>\n",
       "</table>\n",
       "<p>99 rows × 6 columns</p>\n",
       "</div>"
      ],
      "text/plain": [
       "       Nama  gender  umur  average_wpm  average_accuracy  average_second\n",
       "0       APS       1    25        60.33              0.99          377.60\n",
       "1        AP       0    22        41.00              0.95          508.80\n",
       "2       DAP       1    20        52.33              0.94          560.40\n",
       "3        DF       1    22        38.67              0.81          320.60\n",
       "4       DRF       1    20        28.00              1.00          639.40\n",
       "..      ...     ...   ...          ...               ...             ...\n",
       "94      abi       1    20        66.13              1.00          425.41\n",
       "95     rani       0    20        34.09              0.82          464.42\n",
       "96   farrel       1    20        50.09              0.82          415.59\n",
       "97    hasan       1    21        44.58              0.81          481.00\n",
       "98  timothy       1    22        37.20              1.00          425.45\n",
       "\n",
       "[99 rows x 6 columns]"
      ]
     },
     "execution_count": 3,
     "metadata": {},
     "output_type": "execute_result"
    }
   ],
   "source": [
    "# describe the dataframe with some statistical info\n",
    "df"
   ]
  },
  {
   "cell_type": "markdown",
   "metadata": {},
   "source": [
    "# **Data Visualisasi**"
   ]
  },
  {
   "cell_type": "code",
   "execution_count": 4,
   "metadata": {},
   "outputs": [
    {
     "data": {
      "application/vnd.plotly.v1+json": {
       "config": {
        "plotlyServerURL": "https://plot.ly"
       },
       "data": [
        {
         "hovertemplate": "average_wpm=%{x}<br>average_second=%{marker.size}<extra></extra>",
         "legendgroup": "",
         "marker": {
          "color": "#636efa",
          "size": [
           377.6,
           508.8,
           560.4,
           320.6,
           639.4,
           732.4,
           392.2,
           403.4,
           818.4,
           274.8,
           666.8,
           618.4,
           419,
           590.8,
           439.4,
           632.2,
           472.6,
           725.6,
           691.4,
           646.2,
           340.8,
           461.08,
           585.09,
           628.48,
           441.49,
           376.18,
           562.5,
           413.65,
           704.53,
           460.08,
           424.08,
           893.11,
           585.31,
           772.83,
           646.91,
           485.76,
           757.14,
           691.07,
           935.54,
           600.87,
           551.56,
           700.53,
           475.52,
           526.95,
           642.31,
           589.16,
           367.5,
           512.52,
           484.76,
           670.87,
           421.5,
           422.45,
           517.42,
           589.04,
           656.02,
           693.67,
           706.23,
           405.24,
           483.99,
           374.29,
           355.95,
           436.02,
           332.5,
           433.82,
           531.94,
           404.9,
           621.58,
           739.03,
           424.01,
           387.46,
           555.25,
           401.73,
           501.26,
           497.71,
           653.1,
           571.34,
           623.65,
           635.48,
           625.17,
           773.44,
           331.89,
           624.33,
           731.81,
           463.07,
           586.6,
           662.1,
           531.67,
           583.1,
           551.33,
           776.8,
           397.83,
           522.33,
           655.5,
           734.96,
           425.41,
           464.42,
           415.59,
           481,
           425.45
          ],
          "sizemode": "area",
          "sizeref": 2.33885,
          "symbol": "circle"
         },
         "mode": "markers",
         "name": "",
         "orientation": "v",
         "showlegend": false,
         "type": "scatter",
         "x": [
          60.33,
          41,
          52.33,
          38.67,
          28,
          55.33,
          47.33,
          54,
          59.67,
          44,
          46,
          45.67,
          33.33,
          69.67,
          34.33,
          46,
          49.67,
          44,
          48.33,
          50.67,
          75,
          40.42,
          47.77,
          56.63,
          37.36,
          56.67,
          58.15,
          44.96,
          48.99,
          49.01,
          40.31,
          53.06,
          48.42,
          34.19,
          59.59,
          52.7,
          57.63,
          49.2,
          35.09,
          64.88,
          32.44,
          70.27,
          77.57,
          41.45,
          58.28,
          59.41,
          56.56,
          55.42,
          63.36,
          40.63,
          40.38,
          39.45,
          69.45,
          39.26,
          47.18,
          55.8,
          49.49,
          37.74,
          54.52,
          31.1,
          64.35,
          54.86,
          58.5,
          51.95,
          57.08,
          75.86,
          61.99,
          57,
          33.7,
          52.06,
          46.46,
          35.63,
          56.21,
          58.42,
          55.41,
          33.97,
          54.71,
          64.58,
          61,
          49.95,
          60.16,
          38.59,
          47.76,
          52.95,
          79.69,
          38.98,
          53.11,
          43.78,
          63.56,
          62.18,
          40.73,
          52.58,
          74.19,
          58.24,
          66.13,
          34.09,
          50.09,
          44.58,
          37.2
         ],
         "xaxis": "x",
         "y": [
          377.6,
          508.8,
          560.4,
          320.6,
          639.4,
          732.4,
          392.2,
          403.4,
          818.4,
          274.8,
          666.8,
          618.4,
          419,
          590.8,
          439.4,
          632.2,
          472.6,
          725.6,
          691.4,
          646.2,
          340.8,
          461.08,
          585.09,
          628.48,
          441.49,
          376.18,
          562.5,
          413.65,
          704.53,
          460.08,
          424.08,
          893.11,
          585.31,
          772.83,
          646.91,
          485.76,
          757.14,
          691.07,
          935.54,
          600.87,
          551.56,
          700.53,
          475.52,
          526.95,
          642.31,
          589.16,
          367.5,
          512.52,
          484.76,
          670.87,
          421.5,
          422.45,
          517.42,
          589.04,
          656.02,
          693.67,
          706.23,
          405.24,
          483.99,
          374.29,
          355.95,
          436.02,
          332.5,
          433.82,
          531.94,
          404.9,
          621.58,
          739.03,
          424.01,
          387.46,
          555.25,
          401.73,
          501.26,
          497.71,
          653.1,
          571.34,
          623.65,
          635.48,
          625.17,
          773.44,
          331.89,
          624.33,
          731.81,
          463.07,
          586.6,
          662.1,
          531.67,
          583.1,
          551.33,
          776.8,
          397.83,
          522.33,
          655.5,
          734.96,
          425.41,
          464.42,
          415.59,
          481,
          425.45
         ],
         "yaxis": "y"
        },
        {
         "hovertemplate": "<b>OLS trendline</b><br>average_second = 0.737121 * average_wpm + 511.402<br>R<sup>2</sup>=0.003724<br><br>average_wpm=%{x}<br>average_second=%{y} <b>(trend)</b><extra></extra>",
         "legendgroup": "",
         "marker": {
          "color": "#636efa",
          "symbol": "circle"
         },
         "mode": "lines",
         "name": "",
         "showlegend": false,
         "type": "scatter",
         "x": [
          28,
          31.1,
          32.44,
          33.33,
          33.7,
          33.97,
          34.09,
          34.19,
          34.33,
          35.09,
          35.63,
          37.2,
          37.36,
          37.74,
          38.59,
          38.67,
          38.98,
          39.26,
          39.45,
          40.31,
          40.38,
          40.42,
          40.63,
          40.73,
          41,
          41.45,
          43.78,
          44,
          44,
          44.58,
          44.96,
          45.67,
          46,
          46,
          46.46,
          47.18,
          47.33,
          47.76,
          47.77,
          48.33,
          48.42,
          48.99,
          49.01,
          49.2,
          49.49,
          49.67,
          49.95,
          50.09,
          50.67,
          51.95,
          52.06,
          52.33,
          52.58,
          52.7,
          52.95,
          53.06,
          53.11,
          54,
          54.52,
          54.71,
          54.86,
          55.33,
          55.41,
          55.42,
          55.8,
          56.21,
          56.56,
          56.63,
          56.67,
          57,
          57.08,
          57.63,
          58.15,
          58.24,
          58.28,
          58.42,
          58.5,
          59.41,
          59.59,
          59.67,
          60.16,
          60.33,
          61,
          61.99,
          62.18,
          63.36,
          63.56,
          64.35,
          64.58,
          64.88,
          66.13,
          69.45,
          69.67,
          70.27,
          74.19,
          75,
          75.86,
          77.57,
          79.69
         ],
         "xaxis": "x",
         "y": [
          532.0417428524987,
          534.32681762901,
          535.3145596291793,
          535.9705972263067,
          536.2433319576968,
          536.442354599522,
          536.5308091069998,
          536.6045211965646,
          536.7077181219555,
          537.2679300026485,
          537.6659752862989,
          538.8232550924675,
          538.9411944357713,
          539.2213003761178,
          539.8478531374193,
          539.9068228090712,
          540.1353302867224,
          540.341724137504,
          540.4817771076772,
          541.1157010779352,
          541.1672995406307,
          541.1967843764565,
          541.3515797645429,
          541.4252918541076,
          541.6243144959328,
          541.9560188989748,
          543.6735105858364,
          543.8356771828792,
          543.8356771828792,
          544.2632073023555,
          544.543313242702,
          545.0666690786127,
          545.3099189741768,
          545.3099189741768,
          545.6489945861751,
          546.1797216310423,
          546.2902897653896,
          546.6072517505186,
          546.6146229594751,
          547.0274106610384,
          547.0937515416468,
          547.5139104521666,
          547.5286528700796,
          547.6687058402529,
          547.882470899991,
          548.0151526612078,
          548.2215465119895,
          548.3247434373802,
          548.7522735568565,
          549.695788303287,
          549.7768716018084,
          549.9758942436335,
          550.1601744675457,
          550.2486289750236,
          550.4329091989357,
          550.5139924974571,
          550.5508485422396,
          551.2068861393669,
          551.5901890051043,
          551.7302419752776,
          551.840810109625,
          552.1872569305799,
          552.2462266022318,
          552.2535978111882,
          552.5337037515347,
          552.8359233187508,
          553.0939156322279,
          553.1455140949232,
          553.1749989307492,
          553.4182488263133,
          553.4772184979652,
          553.882634990572,
          554.2659378563094,
          554.3322787369178,
          554.3617635727437,
          554.4649604981346,
          554.5239301697865,
          555.1947101848268,
          555.3273919460437,
          555.3863616176956,
          555.7475508565634,
          555.8728614088237,
          556.3667324089084,
          557.0964820956008,
          557.236535065774,
          558.1063377226395,
          558.2537619017693,
          558.8360874093319,
          559.0056252153311,
          559.2267614840257,
          560.1481626035867,
          562.5954039771406,
          562.7575705741833,
          563.1998431115726,
          566.0893570225159,
          566.6864249479913,
          567.3203489182492,
          568.5808256498087,
          570.1435219485841
         ],
         "yaxis": "y"
        }
       ],
       "layout": {
        "legend": {
         "itemsizing": "constant",
         "tracegroupgap": 0
        },
        "margin": {
         "t": 60
        },
        "template": {
         "data": {
          "bar": [
           {
            "error_x": {
             "color": "#2a3f5f"
            },
            "error_y": {
             "color": "#2a3f5f"
            },
            "marker": {
             "line": {
              "color": "#E5ECF6",
              "width": 0.5
             },
             "pattern": {
              "fillmode": "overlay",
              "size": 10,
              "solidity": 0.2
             }
            },
            "type": "bar"
           }
          ],
          "barpolar": [
           {
            "marker": {
             "line": {
              "color": "#E5ECF6",
              "width": 0.5
             },
             "pattern": {
              "fillmode": "overlay",
              "size": 10,
              "solidity": 0.2
             }
            },
            "type": "barpolar"
           }
          ],
          "carpet": [
           {
            "aaxis": {
             "endlinecolor": "#2a3f5f",
             "gridcolor": "white",
             "linecolor": "white",
             "minorgridcolor": "white",
             "startlinecolor": "#2a3f5f"
            },
            "baxis": {
             "endlinecolor": "#2a3f5f",
             "gridcolor": "white",
             "linecolor": "white",
             "minorgridcolor": "white",
             "startlinecolor": "#2a3f5f"
            },
            "type": "carpet"
           }
          ],
          "choropleth": [
           {
            "colorbar": {
             "outlinewidth": 0,
             "ticks": ""
            },
            "type": "choropleth"
           }
          ],
          "contour": [
           {
            "colorbar": {
             "outlinewidth": 0,
             "ticks": ""
            },
            "colorscale": [
             [
              0,
              "#0d0887"
             ],
             [
              0.1111111111111111,
              "#46039f"
             ],
             [
              0.2222222222222222,
              "#7201a8"
             ],
             [
              0.3333333333333333,
              "#9c179e"
             ],
             [
              0.4444444444444444,
              "#bd3786"
             ],
             [
              0.5555555555555556,
              "#d8576b"
             ],
             [
              0.6666666666666666,
              "#ed7953"
             ],
             [
              0.7777777777777778,
              "#fb9f3a"
             ],
             [
              0.8888888888888888,
              "#fdca26"
             ],
             [
              1,
              "#f0f921"
             ]
            ],
            "type": "contour"
           }
          ],
          "contourcarpet": [
           {
            "colorbar": {
             "outlinewidth": 0,
             "ticks": ""
            },
            "type": "contourcarpet"
           }
          ],
          "heatmap": [
           {
            "colorbar": {
             "outlinewidth": 0,
             "ticks": ""
            },
            "colorscale": [
             [
              0,
              "#0d0887"
             ],
             [
              0.1111111111111111,
              "#46039f"
             ],
             [
              0.2222222222222222,
              "#7201a8"
             ],
             [
              0.3333333333333333,
              "#9c179e"
             ],
             [
              0.4444444444444444,
              "#bd3786"
             ],
             [
              0.5555555555555556,
              "#d8576b"
             ],
             [
              0.6666666666666666,
              "#ed7953"
             ],
             [
              0.7777777777777778,
              "#fb9f3a"
             ],
             [
              0.8888888888888888,
              "#fdca26"
             ],
             [
              1,
              "#f0f921"
             ]
            ],
            "type": "heatmap"
           }
          ],
          "heatmapgl": [
           {
            "colorbar": {
             "outlinewidth": 0,
             "ticks": ""
            },
            "colorscale": [
             [
              0,
              "#0d0887"
             ],
             [
              0.1111111111111111,
              "#46039f"
             ],
             [
              0.2222222222222222,
              "#7201a8"
             ],
             [
              0.3333333333333333,
              "#9c179e"
             ],
             [
              0.4444444444444444,
              "#bd3786"
             ],
             [
              0.5555555555555556,
              "#d8576b"
             ],
             [
              0.6666666666666666,
              "#ed7953"
             ],
             [
              0.7777777777777778,
              "#fb9f3a"
             ],
             [
              0.8888888888888888,
              "#fdca26"
             ],
             [
              1,
              "#f0f921"
             ]
            ],
            "type": "heatmapgl"
           }
          ],
          "histogram": [
           {
            "marker": {
             "pattern": {
              "fillmode": "overlay",
              "size": 10,
              "solidity": 0.2
             }
            },
            "type": "histogram"
           }
          ],
          "histogram2d": [
           {
            "colorbar": {
             "outlinewidth": 0,
             "ticks": ""
            },
            "colorscale": [
             [
              0,
              "#0d0887"
             ],
             [
              0.1111111111111111,
              "#46039f"
             ],
             [
              0.2222222222222222,
              "#7201a8"
             ],
             [
              0.3333333333333333,
              "#9c179e"
             ],
             [
              0.4444444444444444,
              "#bd3786"
             ],
             [
              0.5555555555555556,
              "#d8576b"
             ],
             [
              0.6666666666666666,
              "#ed7953"
             ],
             [
              0.7777777777777778,
              "#fb9f3a"
             ],
             [
              0.8888888888888888,
              "#fdca26"
             ],
             [
              1,
              "#f0f921"
             ]
            ],
            "type": "histogram2d"
           }
          ],
          "histogram2dcontour": [
           {
            "colorbar": {
             "outlinewidth": 0,
             "ticks": ""
            },
            "colorscale": [
             [
              0,
              "#0d0887"
             ],
             [
              0.1111111111111111,
              "#46039f"
             ],
             [
              0.2222222222222222,
              "#7201a8"
             ],
             [
              0.3333333333333333,
              "#9c179e"
             ],
             [
              0.4444444444444444,
              "#bd3786"
             ],
             [
              0.5555555555555556,
              "#d8576b"
             ],
             [
              0.6666666666666666,
              "#ed7953"
             ],
             [
              0.7777777777777778,
              "#fb9f3a"
             ],
             [
              0.8888888888888888,
              "#fdca26"
             ],
             [
              1,
              "#f0f921"
             ]
            ],
            "type": "histogram2dcontour"
           }
          ],
          "mesh3d": [
           {
            "colorbar": {
             "outlinewidth": 0,
             "ticks": ""
            },
            "type": "mesh3d"
           }
          ],
          "parcoords": [
           {
            "line": {
             "colorbar": {
              "outlinewidth": 0,
              "ticks": ""
             }
            },
            "type": "parcoords"
           }
          ],
          "pie": [
           {
            "automargin": true,
            "type": "pie"
           }
          ],
          "scatter": [
           {
            "fillpattern": {
             "fillmode": "overlay",
             "size": 10,
             "solidity": 0.2
            },
            "type": "scatter"
           }
          ],
          "scatter3d": [
           {
            "line": {
             "colorbar": {
              "outlinewidth": 0,
              "ticks": ""
             }
            },
            "marker": {
             "colorbar": {
              "outlinewidth": 0,
              "ticks": ""
             }
            },
            "type": "scatter3d"
           }
          ],
          "scattercarpet": [
           {
            "marker": {
             "colorbar": {
              "outlinewidth": 0,
              "ticks": ""
             }
            },
            "type": "scattercarpet"
           }
          ],
          "scattergeo": [
           {
            "marker": {
             "colorbar": {
              "outlinewidth": 0,
              "ticks": ""
             }
            },
            "type": "scattergeo"
           }
          ],
          "scattergl": [
           {
            "marker": {
             "colorbar": {
              "outlinewidth": 0,
              "ticks": ""
             }
            },
            "type": "scattergl"
           }
          ],
          "scattermapbox": [
           {
            "marker": {
             "colorbar": {
              "outlinewidth": 0,
              "ticks": ""
             }
            },
            "type": "scattermapbox"
           }
          ],
          "scatterpolar": [
           {
            "marker": {
             "colorbar": {
              "outlinewidth": 0,
              "ticks": ""
             }
            },
            "type": "scatterpolar"
           }
          ],
          "scatterpolargl": [
           {
            "marker": {
             "colorbar": {
              "outlinewidth": 0,
              "ticks": ""
             }
            },
            "type": "scatterpolargl"
           }
          ],
          "scatterternary": [
           {
            "marker": {
             "colorbar": {
              "outlinewidth": 0,
              "ticks": ""
             }
            },
            "type": "scatterternary"
           }
          ],
          "surface": [
           {
            "colorbar": {
             "outlinewidth": 0,
             "ticks": ""
            },
            "colorscale": [
             [
              0,
              "#0d0887"
             ],
             [
              0.1111111111111111,
              "#46039f"
             ],
             [
              0.2222222222222222,
              "#7201a8"
             ],
             [
              0.3333333333333333,
              "#9c179e"
             ],
             [
              0.4444444444444444,
              "#bd3786"
             ],
             [
              0.5555555555555556,
              "#d8576b"
             ],
             [
              0.6666666666666666,
              "#ed7953"
             ],
             [
              0.7777777777777778,
              "#fb9f3a"
             ],
             [
              0.8888888888888888,
              "#fdca26"
             ],
             [
              1,
              "#f0f921"
             ]
            ],
            "type": "surface"
           }
          ],
          "table": [
           {
            "cells": {
             "fill": {
              "color": "#EBF0F8"
             },
             "line": {
              "color": "white"
             }
            },
            "header": {
             "fill": {
              "color": "#C8D4E3"
             },
             "line": {
              "color": "white"
             }
            },
            "type": "table"
           }
          ]
         },
         "layout": {
          "annotationdefaults": {
           "arrowcolor": "#2a3f5f",
           "arrowhead": 0,
           "arrowwidth": 1
          },
          "autotypenumbers": "strict",
          "coloraxis": {
           "colorbar": {
            "outlinewidth": 0,
            "ticks": ""
           }
          },
          "colorscale": {
           "diverging": [
            [
             0,
             "#8e0152"
            ],
            [
             0.1,
             "#c51b7d"
            ],
            [
             0.2,
             "#de77ae"
            ],
            [
             0.3,
             "#f1b6da"
            ],
            [
             0.4,
             "#fde0ef"
            ],
            [
             0.5,
             "#f7f7f7"
            ],
            [
             0.6,
             "#e6f5d0"
            ],
            [
             0.7,
             "#b8e186"
            ],
            [
             0.8,
             "#7fbc41"
            ],
            [
             0.9,
             "#4d9221"
            ],
            [
             1,
             "#276419"
            ]
           ],
           "sequential": [
            [
             0,
             "#0d0887"
            ],
            [
             0.1111111111111111,
             "#46039f"
            ],
            [
             0.2222222222222222,
             "#7201a8"
            ],
            [
             0.3333333333333333,
             "#9c179e"
            ],
            [
             0.4444444444444444,
             "#bd3786"
            ],
            [
             0.5555555555555556,
             "#d8576b"
            ],
            [
             0.6666666666666666,
             "#ed7953"
            ],
            [
             0.7777777777777778,
             "#fb9f3a"
            ],
            [
             0.8888888888888888,
             "#fdca26"
            ],
            [
             1,
             "#f0f921"
            ]
           ],
           "sequentialminus": [
            [
             0,
             "#0d0887"
            ],
            [
             0.1111111111111111,
             "#46039f"
            ],
            [
             0.2222222222222222,
             "#7201a8"
            ],
            [
             0.3333333333333333,
             "#9c179e"
            ],
            [
             0.4444444444444444,
             "#bd3786"
            ],
            [
             0.5555555555555556,
             "#d8576b"
            ],
            [
             0.6666666666666666,
             "#ed7953"
            ],
            [
             0.7777777777777778,
             "#fb9f3a"
            ],
            [
             0.8888888888888888,
             "#fdca26"
            ],
            [
             1,
             "#f0f921"
            ]
           ]
          },
          "colorway": [
           "#636efa",
           "#EF553B",
           "#00cc96",
           "#ab63fa",
           "#FFA15A",
           "#19d3f3",
           "#FF6692",
           "#B6E880",
           "#FF97FF",
           "#FECB52"
          ],
          "font": {
           "color": "#2a3f5f"
          },
          "geo": {
           "bgcolor": "white",
           "lakecolor": "white",
           "landcolor": "#E5ECF6",
           "showlakes": true,
           "showland": true,
           "subunitcolor": "white"
          },
          "hoverlabel": {
           "align": "left"
          },
          "hovermode": "closest",
          "mapbox": {
           "style": "light"
          },
          "paper_bgcolor": "white",
          "plot_bgcolor": "#E5ECF6",
          "polar": {
           "angularaxis": {
            "gridcolor": "white",
            "linecolor": "white",
            "ticks": ""
           },
           "bgcolor": "#E5ECF6",
           "radialaxis": {
            "gridcolor": "white",
            "linecolor": "white",
            "ticks": ""
           }
          },
          "scene": {
           "xaxis": {
            "backgroundcolor": "#E5ECF6",
            "gridcolor": "white",
            "gridwidth": 2,
            "linecolor": "white",
            "showbackground": true,
            "ticks": "",
            "zerolinecolor": "white"
           },
           "yaxis": {
            "backgroundcolor": "#E5ECF6",
            "gridcolor": "white",
            "gridwidth": 2,
            "linecolor": "white",
            "showbackground": true,
            "ticks": "",
            "zerolinecolor": "white"
           },
           "zaxis": {
            "backgroundcolor": "#E5ECF6",
            "gridcolor": "white",
            "gridwidth": 2,
            "linecolor": "white",
            "showbackground": true,
            "ticks": "",
            "zerolinecolor": "white"
           }
          },
          "shapedefaults": {
           "line": {
            "color": "#2a3f5f"
           }
          },
          "ternary": {
           "aaxis": {
            "gridcolor": "white",
            "linecolor": "white",
            "ticks": ""
           },
           "baxis": {
            "gridcolor": "white",
            "linecolor": "white",
            "ticks": ""
           },
           "bgcolor": "#E5ECF6",
           "caxis": {
            "gridcolor": "white",
            "linecolor": "white",
            "ticks": ""
           }
          },
          "title": {
           "x": 0.05
          },
          "xaxis": {
           "automargin": true,
           "gridcolor": "white",
           "linecolor": "white",
           "ticks": "",
           "title": {
            "standoff": 15
           },
           "zerolinecolor": "white",
           "zerolinewidth": 2
          },
          "yaxis": {
           "automargin": true,
           "gridcolor": "white",
           "linecolor": "white",
           "ticks": "",
           "title": {
            "standoff": 15
           },
           "zerolinecolor": "white",
           "zerolinewidth": 2
          }
         }
        },
        "xaxis": {
         "anchor": "y",
         "domain": [
          0,
          1
         ],
         "title": {
          "text": "average_wpm"
         }
        },
        "yaxis": {
         "anchor": "x",
         "domain": [
          0,
          1
         ],
         "title": {
          "text": "average_second"
         }
        }
       }
      }
     },
     "metadata": {},
     "output_type": "display_data"
    }
   ],
   "source": [
    "figure = px.scatter(data_frame=df, x='average_wpm', y='average_second', size='average_second', trendline='ols')\n",
    "figure.show()"
   ]
  },
  {
   "cell_type": "markdown",
   "metadata": {},
   "source": [
    "# **Deklarasi Variabel**"
   ]
  },
  {
   "cell_type": "code",
   "execution_count": 5,
   "metadata": {},
   "outputs": [
    {
     "data": {
      "text/html": [
       "<div>\n",
       "<style scoped>\n",
       "    .dataframe tbody tr th:only-of-type {\n",
       "        vertical-align: middle;\n",
       "    }\n",
       "\n",
       "    .dataframe tbody tr th {\n",
       "        vertical-align: top;\n",
       "    }\n",
       "\n",
       "    .dataframe thead th {\n",
       "        text-align: right;\n",
       "    }\n",
       "</style>\n",
       "<table border=\"1\" class=\"dataframe\">\n",
       "  <thead>\n",
       "    <tr style=\"text-align: right;\">\n",
       "      <th></th>\n",
       "      <th>average_second</th>\n",
       "    </tr>\n",
       "  </thead>\n",
       "  <tbody>\n",
       "    <tr>\n",
       "      <th>0</th>\n",
       "      <td>377.60</td>\n",
       "    </tr>\n",
       "    <tr>\n",
       "      <th>1</th>\n",
       "      <td>508.80</td>\n",
       "    </tr>\n",
       "    <tr>\n",
       "      <th>2</th>\n",
       "      <td>560.40</td>\n",
       "    </tr>\n",
       "    <tr>\n",
       "      <th>3</th>\n",
       "      <td>320.60</td>\n",
       "    </tr>\n",
       "    <tr>\n",
       "      <th>4</th>\n",
       "      <td>639.40</td>\n",
       "    </tr>\n",
       "    <tr>\n",
       "      <th>...</th>\n",
       "      <td>...</td>\n",
       "    </tr>\n",
       "    <tr>\n",
       "      <th>94</th>\n",
       "      <td>425.41</td>\n",
       "    </tr>\n",
       "    <tr>\n",
       "      <th>95</th>\n",
       "      <td>464.42</td>\n",
       "    </tr>\n",
       "    <tr>\n",
       "      <th>96</th>\n",
       "      <td>415.59</td>\n",
       "    </tr>\n",
       "    <tr>\n",
       "      <th>97</th>\n",
       "      <td>481.00</td>\n",
       "    </tr>\n",
       "    <tr>\n",
       "      <th>98</th>\n",
       "      <td>425.45</td>\n",
       "    </tr>\n",
       "  </tbody>\n",
       "</table>\n",
       "<p>99 rows × 1 columns</p>\n",
       "</div>"
      ],
      "text/plain": [
       "    average_second\n",
       "0           377.60\n",
       "1           508.80\n",
       "2           560.40\n",
       "3           320.60\n",
       "4           639.40\n",
       "..             ...\n",
       "94          425.41\n",
       "95          464.42\n",
       "96          415.59\n",
       "97          481.00\n",
       "98          425.45\n",
       "\n",
       "[99 rows x 1 columns]"
      ]
     },
     "execution_count": 5,
     "metadata": {},
     "output_type": "execute_result"
    }
   ],
   "source": [
    "average_wpm = df[['average_wpm']]\n",
    "average_accuracy = df[['average_accuracy']]\n",
    "average_second = df[['average_second']]\n",
    "umur = df[['umur']]\n",
    "gender = df[['gender']]\n",
    "average_second"
   ]
  },
  {
   "cell_type": "markdown",
   "metadata": {},
   "source": [
    "# **STANDARISASI**\n",
    "### *\"average_accuracy\"*"
   ]
  },
  {
   "cell_type": "code",
   "execution_count": 6,
   "metadata": {},
   "outputs": [],
   "source": [
    "from sklearn.preprocessing import StandardScaler"
   ]
  },
  {
   "cell_type": "code",
   "execution_count": 7,
   "metadata": {},
   "outputs": [
    {
     "data": {
      "text/html": [
       "<div>\n",
       "<style scoped>\n",
       "    .dataframe tbody tr th:only-of-type {\n",
       "        vertical-align: middle;\n",
       "    }\n",
       "\n",
       "    .dataframe tbody tr th {\n",
       "        vertical-align: top;\n",
       "    }\n",
       "\n",
       "    .dataframe thead th {\n",
       "        text-align: right;\n",
       "    }\n",
       "</style>\n",
       "<table border=\"1\" class=\"dataframe\">\n",
       "  <thead>\n",
       "    <tr style=\"text-align: right;\">\n",
       "      <th></th>\n",
       "      <th>average_accuracy</th>\n",
       "    </tr>\n",
       "  </thead>\n",
       "  <tbody>\n",
       "    <tr>\n",
       "      <th>0</th>\n",
       "      <td>1.208842</td>\n",
       "    </tr>\n",
       "    <tr>\n",
       "      <th>1</th>\n",
       "      <td>0.540265</td>\n",
       "    </tr>\n",
       "    <tr>\n",
       "      <th>2</th>\n",
       "      <td>0.373120</td>\n",
       "    </tr>\n",
       "    <tr>\n",
       "      <th>3</th>\n",
       "      <td>-1.799757</td>\n",
       "    </tr>\n",
       "    <tr>\n",
       "      <th>4</th>\n",
       "      <td>1.375987</td>\n",
       "    </tr>\n",
       "  </tbody>\n",
       "</table>\n",
       "</div>"
      ],
      "text/plain": [
       "   average_accuracy\n",
       "0          1.208842\n",
       "1          0.540265\n",
       "2          0.373120\n",
       "3         -1.799757\n",
       "4          1.375987"
      ]
     },
     "execution_count": 7,
     "metadata": {},
     "output_type": "execute_result"
    }
   ],
   "source": [
    "new_accuracy = pd.DataFrame(StandardScaler().fit_transform(average_accuracy), columns=average_accuracy.columns)\n",
    "new_accuracy.head()"
   ]
  },
  {
   "cell_type": "markdown",
   "metadata": {},
   "source": [
    "# **NORMALISASI** \n",
    "### _'average_wpm' dan 'average_second'_"
   ]
  },
  {
   "cell_type": "code",
   "execution_count": 8,
   "metadata": {},
   "outputs": [],
   "source": [
    "from sklearn.preprocessing import MinMaxScaler"
   ]
  },
  {
   "cell_type": "code",
   "execution_count": 9,
   "metadata": {},
   "outputs": [
    {
     "data": {
      "text/html": [
       "<div>\n",
       "<style scoped>\n",
       "    .dataframe tbody tr th:only-of-type {\n",
       "        vertical-align: middle;\n",
       "    }\n",
       "\n",
       "    .dataframe tbody tr th {\n",
       "        vertical-align: top;\n",
       "    }\n",
       "\n",
       "    .dataframe thead th {\n",
       "        text-align: right;\n",
       "    }\n",
       "</style>\n",
       "<table border=\"1\" class=\"dataframe\">\n",
       "  <thead>\n",
       "    <tr style=\"text-align: right;\">\n",
       "      <th></th>\n",
       "      <th>average_wpm</th>\n",
       "    </tr>\n",
       "  </thead>\n",
       "  <tbody>\n",
       "    <tr>\n",
       "      <th>0</th>\n",
       "      <td>0.625459</td>\n",
       "    </tr>\n",
       "    <tr>\n",
       "      <th>1</th>\n",
       "      <td>0.251499</td>\n",
       "    </tr>\n",
       "    <tr>\n",
       "      <th>2</th>\n",
       "      <td>0.470691</td>\n",
       "    </tr>\n",
       "    <tr>\n",
       "      <th>3</th>\n",
       "      <td>0.206423</td>\n",
       "    </tr>\n",
       "    <tr>\n",
       "      <th>4</th>\n",
       "      <td>0.000000</td>\n",
       "    </tr>\n",
       "  </tbody>\n",
       "</table>\n",
       "</div>"
      ],
      "text/plain": [
       "   average_wpm\n",
       "0     0.625459\n",
       "1     0.251499\n",
       "2     0.470691\n",
       "3     0.206423\n",
       "4     0.000000"
      ]
     },
     "execution_count": 9,
     "metadata": {},
     "output_type": "execute_result"
    }
   ],
   "source": [
    "#Normalize average_wpm\n",
    "new_wpm = pd.DataFrame(MinMaxScaler().fit_transform(average_wpm), columns=average_wpm.columns)\n",
    "new_wpm.head()"
   ]
  },
  {
   "cell_type": "code",
   "execution_count": 10,
   "metadata": {},
   "outputs": [
    {
     "data": {
      "text/html": [
       "<div>\n",
       "<style scoped>\n",
       "    .dataframe tbody tr th:only-of-type {\n",
       "        vertical-align: middle;\n",
       "    }\n",
       "\n",
       "    .dataframe tbody tr th {\n",
       "        vertical-align: top;\n",
       "    }\n",
       "\n",
       "    .dataframe thead th {\n",
       "        text-align: right;\n",
       "    }\n",
       "</style>\n",
       "<table border=\"1\" class=\"dataframe\">\n",
       "  <thead>\n",
       "    <tr style=\"text-align: right;\">\n",
       "      <th></th>\n",
       "      <th>average_second</th>\n",
       "    </tr>\n",
       "  </thead>\n",
       "  <tbody>\n",
       "    <tr>\n",
       "      <th>0</th>\n",
       "      <td>0.155583</td>\n",
       "    </tr>\n",
       "    <tr>\n",
       "      <th>1</th>\n",
       "      <td>0.354148</td>\n",
       "    </tr>\n",
       "    <tr>\n",
       "      <th>2</th>\n",
       "      <td>0.432243</td>\n",
       "    </tr>\n",
       "    <tr>\n",
       "      <th>3</th>\n",
       "      <td>0.069316</td>\n",
       "    </tr>\n",
       "    <tr>\n",
       "      <th>4</th>\n",
       "      <td>0.551806</td>\n",
       "    </tr>\n",
       "  </tbody>\n",
       "</table>\n",
       "</div>"
      ],
      "text/plain": [
       "   average_second\n",
       "0        0.155583\n",
       "1        0.354148\n",
       "2        0.432243\n",
       "3        0.069316\n",
       "4        0.551806"
      ]
     },
     "execution_count": 10,
     "metadata": {},
     "output_type": "execute_result"
    }
   ],
   "source": [
    "#Normalize average_second\n",
    "new_second = pd.DataFrame(MinMaxScaler().fit_transform(average_second), columns=average_second.columns)\n",
    "new_second.head()"
   ]
  },
  {
   "cell_type": "markdown",
   "metadata": {},
   "source": [
    "# **Deklarasi Variabel *X* dan *Y***"
   ]
  },
  {
   "cell_type": "code",
   "execution_count": 13,
   "metadata": {},
   "outputs": [],
   "source": [
    "X = pd.concat([new_accuracy, new_wpm, umur, gender], axis=1)\n",
    "y = new_second"
   ]
  },
  {
   "cell_type": "code",
   "execution_count": 14,
   "metadata": {},
   "outputs": [],
   "source": [
    "results = []"
   ]
  },
  {
   "cell_type": "code",
   "execution_count": 15,
   "metadata": {},
   "outputs": [],
   "source": [
    "# Loop untuk menguji setiap random_state dari 1 hingga 100\n",
    "for random_state in range(1, 101):\n",
    "    # Bagi data menjadi data latih dan data uji\n",
    "    x_train, x_test, y_train, y_test = train_test_split(X, y, test_size=0.2, random_state=random_state)\n",
    "    \n",
    "    # Buat model regresi linear\n",
    "    model = LinearRegression()\n",
    "    \n",
    "    # Latih model pada data latih\n",
    "    model.fit(x_train, y_train)\n",
    "    \n",
    "    # Lakukan prediksi pada data uji\n",
    "    y_pred = model.predict(x_test)\n",
    "    \n",
    "    # Hitung metrik evaluasi\n",
    "    mse = mean_squared_error(y_test, y_pred)\n",
    "    rmse = np.sqrt(mse)\n",
    "    mae = mean_absolute_error(y_test, y_pred)\n",
    "    r2 = r2_score(y_test, y_pred)\n",
    "    \n",
    "    # Simpan hasil metrik dalam bentuk tuple\n",
    "    result = (random_state, rmse, mae, mse, r2)\n",
    "    \n",
    "    # Tambahkan tuple hasil metrik ke dalam list results\n",
    "    results.append(result)"
   ]
  },
  {
   "cell_type": "code",
   "execution_count": 16,
   "metadata": {},
   "outputs": [],
   "source": [
    "# Konversi list hasil metrik menjadi DataFrame\n",
    "results_df = pd.DataFrame(results, columns=['Random State', 'RMSE', 'MAE', 'MSE', 'R2'])"
   ]
  },
  {
   "cell_type": "code",
   "execution_count": 17,
   "metadata": {},
   "outputs": [
    {
     "name": "stdout",
     "output_type": "stream",
     "text": [
      "    Random State      RMSE       MAE       MSE        R2\n",
      "0              1  0.213478  0.171211  0.045573 -0.136231\n",
      "1              2  0.217614  0.181643  0.047356 -0.569971\n",
      "2              3  0.205687  0.181078  0.042307 -0.141514\n",
      "3              4  0.195045  0.154466  0.038043 -0.438610\n",
      "4              5  0.209759  0.186548  0.043999 -0.233821\n",
      "5              6  0.294809  0.249684  0.086913 -0.504616\n",
      "6              7  0.188389  0.157890  0.035490 -0.211873\n",
      "7              8  0.191937  0.155762  0.036840 -0.009828\n",
      "8              9  0.220487  0.186040  0.048615 -0.178322\n",
      "9             10  0.227131  0.168034  0.051589 -0.009731\n",
      "10            11  0.227846  0.186649  0.051914 -0.131315\n",
      "11            12  0.266882  0.230727  0.071226 -0.155044\n",
      "12            13  0.265805  0.231453  0.070652 -0.210687\n",
      "13            14  0.182737  0.158948  0.033393  0.094231\n",
      "14            15  0.278855  0.243666  0.077760 -0.044580\n",
      "15            16  0.214156  0.189163  0.045863 -0.176613\n",
      "16            17  0.196999  0.166907  0.038808  0.002488\n",
      "17            18  0.161775  0.135160  0.026171  0.015549\n",
      "18            19  0.225540  0.175831  0.050868 -0.077703\n",
      "19            20  0.227794  0.189741  0.051890 -0.401926\n",
      "20            21  0.243969  0.211441  0.059521 -0.306072\n",
      "21            22  0.221144  0.177926  0.048905 -0.169756\n",
      "22            23  0.234684  0.199214  0.055076 -0.063325\n",
      "23            24  0.247489  0.198453  0.061251 -0.086525\n",
      "24            25  0.219876  0.186280  0.048345 -0.507310\n",
      "25            26  0.270474  0.245171  0.073156 -0.063724\n",
      "26            27  0.207842  0.182497  0.043198 -0.411853\n",
      "27            28  0.195976  0.168143  0.038407  0.075945\n",
      "28            29  0.239653  0.200153  0.057434 -0.068381\n",
      "29            30  0.253397  0.204589  0.064210 -0.216131\n",
      "30            31  0.253899  0.226956  0.064465 -0.086997\n",
      "31            32  0.184580  0.156717  0.034070 -0.012242\n",
      "32            33  0.264396  0.222662  0.069905 -0.219054\n",
      "33            34  0.167829  0.143850  0.028166 -0.114083\n",
      "34            35  0.224609  0.193662  0.050449 -0.019374\n",
      "35            36  0.230998  0.193140  0.053360 -1.006668\n",
      "36            37  0.201865  0.170477  0.040749  0.009797\n",
      "37            38  0.217829  0.160158  0.047449 -0.220949\n",
      "38            39  0.192727  0.150041  0.037144  0.034300\n",
      "39            40  0.255364  0.202263  0.065211 -0.086930\n",
      "40            41  0.216196  0.190020  0.046741 -0.003270\n",
      "41            42  0.192478  0.150200  0.037048 -0.108030\n",
      "42            43  0.254213  0.198698  0.064624 -0.142395\n",
      "43            44  0.180188  0.159734  0.032468 -0.054378\n",
      "44            45  0.236283  0.186629  0.055830 -0.040268\n",
      "45            46  0.190667  0.156203  0.036354 -0.245559\n",
      "46            47  0.223988  0.173063  0.050171 -0.060927\n",
      "47            48  0.226954  0.199270  0.051508  0.034805\n",
      "48            49  0.214184  0.174280  0.045875 -0.134412\n",
      "49            50  0.221002  0.194420  0.048842 -0.069450\n",
      "50            51  0.185626  0.160052  0.034457  0.055249\n",
      "51            52  0.205254  0.183458  0.042129  0.071089\n",
      "52            53  0.201656  0.182875  0.040665 -0.086885\n",
      "53            54  0.269173  0.232079  0.072454 -0.180697\n",
      "54            55  0.239817  0.190040  0.057512 -0.253113\n",
      "55            56  0.231520  0.190678  0.053602  0.000842\n",
      "56            57  0.222288  0.186972  0.049412 -0.102685\n",
      "57            58  0.229214  0.190642  0.052539 -0.060468\n",
      "58            59  0.189946  0.153792  0.036079  0.052119\n",
      "59            60  0.199014  0.176229  0.039607 -0.048099\n",
      "60            61  0.224504  0.185077  0.050402 -0.004437\n",
      "61            62  0.152427  0.129625  0.023234 -0.019684\n",
      "62            63  0.234550  0.192050  0.055013 -0.003696\n",
      "63            64  0.179186  0.135926  0.032108 -0.328421\n",
      "64            65  0.185602  0.146873  0.034448  0.053102\n",
      "65            66  0.247504  0.198025  0.061258 -0.143045\n",
      "66            67  0.208012  0.174452  0.043269 -0.201034\n",
      "67            68  0.232439  0.199486  0.054028 -0.241503\n",
      "68            69  0.246833  0.203480  0.060926 -0.124151\n",
      "69            70  0.226128  0.174915  0.051134 -0.042389\n",
      "70            71  0.205364  0.172415  0.042174 -0.141541\n",
      "71            72  0.205213  0.184176  0.042112 -0.024864\n",
      "72            73  0.219811  0.176171  0.048317 -0.124478\n",
      "73            74  0.249994  0.210841  0.062497 -0.053092\n",
      "74            75  0.193574  0.168837  0.037471 -0.081859\n",
      "75            76  0.219694  0.188994  0.048265 -0.363029\n",
      "76            77  0.202110  0.178946  0.040848 -0.028272\n",
      "77            78  0.229481  0.200988  0.052662  0.059005\n",
      "78            79  0.172392  0.147874  0.029719  0.129040\n",
      "79            80  0.232355  0.189745  0.053989 -0.368052\n",
      "80            81  0.170562  0.148199  0.029091  0.063932\n",
      "81            82  0.230031  0.183734  0.052914 -0.345883\n",
      "82            83  0.179321  0.159808  0.032156 -0.257223\n",
      "83            84  0.191069  0.154842  0.036507  0.093865\n",
      "84            85  0.228843  0.200439  0.052369 -0.187942\n",
      "85            86  0.221218  0.195752  0.048937 -0.000094\n",
      "86            87  0.234360  0.200152  0.054924 -0.146115\n",
      "87            88  0.181271  0.147106  0.032859  0.027946\n",
      "88            89  0.185697  0.167148  0.034483  0.008659\n",
      "89            90  0.189480  0.167325  0.035903 -0.023767\n",
      "90            91  0.211258  0.182310  0.044630  0.002817\n",
      "91            92  0.235117  0.205615  0.055280 -0.078769\n",
      "92            93  0.226114  0.195979  0.051127 -0.510787\n",
      "93            94  0.193320  0.164750  0.037372 -0.285161\n",
      "94            95  0.173944  0.143176  0.030256 -0.300471\n",
      "95            96  0.217847  0.183273  0.047457 -0.622447\n",
      "96            97  0.139208  0.115095  0.019379 -0.028216\n",
      "97            98  0.209331  0.175921  0.043820 -0.143717\n",
      "98            99  0.211566  0.177604  0.044760  0.050570\n",
      "99           100  0.171083  0.140622  0.029269  0.077903\n"
     ]
    }
   ],
   "source": [
    "# Atur jumlah baris yang ditampilkan\n",
    "pd.set_option(\"display.max_rows\", None)\n",
    "\n",
    "# Cetak DataFrame results_df\n",
    "print(results_df)"
   ]
  },
  {
   "cell_type": "code",
   "execution_count": 16,
   "metadata": {},
   "outputs": [
    {
     "data": {
      "text/html": [
       "<style>#sk-container-id-1 {color: black;}#sk-container-id-1 pre{padding: 0;}#sk-container-id-1 div.sk-toggleable {background-color: white;}#sk-container-id-1 label.sk-toggleable__label {cursor: pointer;display: block;width: 100%;margin-bottom: 0;padding: 0.3em;box-sizing: border-box;text-align: center;}#sk-container-id-1 label.sk-toggleable__label-arrow:before {content: \"▸\";float: left;margin-right: 0.25em;color: #696969;}#sk-container-id-1 label.sk-toggleable__label-arrow:hover:before {color: black;}#sk-container-id-1 div.sk-estimator:hover label.sk-toggleable__label-arrow:before {color: black;}#sk-container-id-1 div.sk-toggleable__content {max-height: 0;max-width: 0;overflow: hidden;text-align: left;background-color: #f0f8ff;}#sk-container-id-1 div.sk-toggleable__content pre {margin: 0.2em;color: black;border-radius: 0.25em;background-color: #f0f8ff;}#sk-container-id-1 input.sk-toggleable__control:checked~div.sk-toggleable__content {max-height: 200px;max-width: 100%;overflow: auto;}#sk-container-id-1 input.sk-toggleable__control:checked~label.sk-toggleable__label-arrow:before {content: \"▾\";}#sk-container-id-1 div.sk-estimator input.sk-toggleable__control:checked~label.sk-toggleable__label {background-color: #d4ebff;}#sk-container-id-1 div.sk-label input.sk-toggleable__control:checked~label.sk-toggleable__label {background-color: #d4ebff;}#sk-container-id-1 input.sk-hidden--visually {border: 0;clip: rect(1px 1px 1px 1px);clip: rect(1px, 1px, 1px, 1px);height: 1px;margin: -1px;overflow: hidden;padding: 0;position: absolute;width: 1px;}#sk-container-id-1 div.sk-estimator {font-family: monospace;background-color: #f0f8ff;border: 1px dotted black;border-radius: 0.25em;box-sizing: border-box;margin-bottom: 0.5em;}#sk-container-id-1 div.sk-estimator:hover {background-color: #d4ebff;}#sk-container-id-1 div.sk-parallel-item::after {content: \"\";width: 100%;border-bottom: 1px solid gray;flex-grow: 1;}#sk-container-id-1 div.sk-label:hover label.sk-toggleable__label {background-color: #d4ebff;}#sk-container-id-1 div.sk-serial::before {content: \"\";position: absolute;border-left: 1px solid gray;box-sizing: border-box;top: 0;bottom: 0;left: 50%;z-index: 0;}#sk-container-id-1 div.sk-serial {display: flex;flex-direction: column;align-items: center;background-color: white;padding-right: 0.2em;padding-left: 0.2em;position: relative;}#sk-container-id-1 div.sk-item {position: relative;z-index: 1;}#sk-container-id-1 div.sk-parallel {display: flex;align-items: stretch;justify-content: center;background-color: white;position: relative;}#sk-container-id-1 div.sk-item::before, #sk-container-id-1 div.sk-parallel-item::before {content: \"\";position: absolute;border-left: 1px solid gray;box-sizing: border-box;top: 0;bottom: 0;left: 50%;z-index: -1;}#sk-container-id-1 div.sk-parallel-item {display: flex;flex-direction: column;z-index: 1;position: relative;background-color: white;}#sk-container-id-1 div.sk-parallel-item:first-child::after {align-self: flex-end;width: 50%;}#sk-container-id-1 div.sk-parallel-item:last-child::after {align-self: flex-start;width: 50%;}#sk-container-id-1 div.sk-parallel-item:only-child::after {width: 0;}#sk-container-id-1 div.sk-dashed-wrapped {border: 1px dashed gray;margin: 0 0.4em 0.5em 0.4em;box-sizing: border-box;padding-bottom: 0.4em;background-color: white;}#sk-container-id-1 div.sk-label label {font-family: monospace;font-weight: bold;display: inline-block;line-height: 1.2em;}#sk-container-id-1 div.sk-label-container {text-align: center;}#sk-container-id-1 div.sk-container {/* jupyter's `normalize.less` sets `[hidden] { display: none; }` but bootstrap.min.css set `[hidden] { display: none !important; }` so we also need the `!important` here to be able to override the default hidden behavior on the sphinx rendered scikit-learn.org. See: https://github.com/scikit-learn/scikit-learn/issues/21755 */display: inline-block !important;position: relative;}#sk-container-id-1 div.sk-text-repr-fallback {display: none;}</style><div id=\"sk-container-id-1\" class=\"sk-top-container\"><div class=\"sk-text-repr-fallback\"><pre>LinearRegression()</pre><b>In a Jupyter environment, please rerun this cell to show the HTML representation or trust the notebook. <br />On GitHub, the HTML representation is unable to render, please try loading this page with nbviewer.org.</b></div><div class=\"sk-container\" hidden><div class=\"sk-item\"><div class=\"sk-estimator sk-toggleable\"><input class=\"sk-toggleable__control sk-hidden--visually\" id=\"sk-estimator-id-1\" type=\"checkbox\" checked><label for=\"sk-estimator-id-1\" class=\"sk-toggleable__label sk-toggleable__label-arrow\">LinearRegression</label><div class=\"sk-toggleable__content\"><pre>LinearRegression()</pre></div></div></div></div></div>"
      ],
      "text/plain": [
       "LinearRegression()"
      ]
     },
     "execution_count": 16,
     "metadata": {},
     "output_type": "execute_result"
    }
   ],
   "source": [
    "# train the model using training dataumns\n",
    "model.fit(x_train, y_train)  "
   ]
  },
  {
   "cell_type": "code",
   "execution_count": 18,
   "metadata": {},
   "outputs": [
    {
     "data": {
      "text/plain": [
       "array([[0.01644756, 0.06094001, 0.00246368, 0.03910881]])"
      ]
     },
     "execution_count": 18,
     "metadata": {},
     "output_type": "execute_result"
    }
   ],
   "source": [
    "# print coefficients\n",
    "model.coef_"
   ]
  },
  {
   "cell_type": "code",
   "execution_count": 19,
   "metadata": {},
   "outputs": [
    {
     "data": {
      "text/plain": [
       "array([0.30877685])"
      ]
     },
     "execution_count": 19,
     "metadata": {},
     "output_type": "execute_result"
    }
   ],
   "source": [
    "# print y_intercept | bias\n",
    "model.intercept_"
   ]
  },
  {
   "cell_type": "code",
   "execution_count": 20,
   "metadata": {},
   "outputs": [],
   "source": [
    "# make predictions using test data\n",
    "y_pred = model.predict(x_test)"
   ]
  },
  {
   "cell_type": "code",
   "execution_count": 21,
   "metadata": {},
   "outputs": [],
   "source": [
    "# evaluasi model\n",
    "mse_2 = mean_squared_error(y_test, y_pred)\n",
    "import math\n",
    "rmse_2 = math.sqrt(mse_2)\n",
    "mae_2 = mean_absolute_error(y_test, y_pred)\n",
    "r2_2 = r2_score(y_test, y_pred)"
   ]
  },
  {
   "cell_type": "code",
   "execution_count": 22,
   "metadata": {},
   "outputs": [
    {
     "data": {
      "text/plain": [
       "Text(0, 0.5, 'Predicted')"
      ]
     },
     "execution_count": 22,
     "metadata": {},
     "output_type": "execute_result"
    },
    {
     "data": {
      "image/png": "[encoded data removed]",
      "text/plain": [
       "<Figure size 640x480 with 1 Axes>"
      ]
     },
     "metadata": {},
     "output_type": "display_data"
    }
   ],
   "source": [
    "# plot actual and predicted values\n",
    "plt.scatter(y_test, y_pred)\n",
    "# plot regression model line\n",
    "sns.regplot(x=y_test, y=y_pred, ci=None, color ='blue')\n",
    "plt.xlabel('Actual')\n",
    "plt.ylabel('Predicted')"
   ]
  },
  {
   "cell_type": "code",
   "execution_count": 23,
   "metadata": {},
   "outputs": [
    {
     "data": {
      "text/plain": [
       "<Axes: xlabel='average_second'>"
      ]
     },
     "execution_count": 23,
     "metadata": {},
     "output_type": "execute_result"
    },
    {
     "data": {
      "image/png": "[encoded data removed]",
      "text/plain": [
       "<Figure size 640x480 with 1 Axes>"
      ]
     },
     "metadata": {},
     "output_type": "display_data"
    }
   ],
   "source": [
    "# plot regression model line\n",
    "sns.regplot(x=y_test, y=y_pred, ci=None, color ='blue')"
   ]
  },
  {
   "cell_type": "code",
   "execution_count": 24,
   "metadata": {},
   "outputs": [
    {
     "data": {
      "text/html": [
       "<div>\n",
       "<style scoped>\n",
       "    .dataframe tbody tr th:only-of-type {\n",
       "        vertical-align: middle;\n",
       "    }\n",
       "\n",
       "    .dataframe tbody tr th {\n",
       "        vertical-align: top;\n",
       "    }\n",
       "\n",
       "    .dataframe thead th {\n",
       "        text-align: right;\n",
       "    }\n",
       "</style>\n",
       "<table border=\"1\" class=\"dataframe\">\n",
       "  <thead>\n",
       "    <tr style=\"text-align: right;\">\n",
       "      <th></th>\n",
       "      <th>Model</th>\n",
       "      <th>MSE</th>\n",
       "      <th>RMSE</th>\n",
       "      <th>MAE</th>\n",
       "      <th>R2</th>\n",
       "    </tr>\n",
       "  </thead>\n",
       "  <tbody>\n",
       "    <tr>\n",
       "      <th>0</th>\n",
       "      <td>First</td>\n",
       "      <td>0.029269</td>\n",
       "      <td>0.171083</td>\n",
       "      <td>0.140622</td>\n",
       "      <td>0.077903</td>\n",
       "    </tr>\n",
       "  </tbody>\n",
       "</table>\n",
       "</div>"
      ],
      "text/plain": [
       "   Model       MSE      RMSE       MAE        R2\n",
       "0  First  0.029269  0.171083  0.140622  0.077903"
      ]
     },
     "execution_count": 24,
     "metadata": {},
     "output_type": "execute_result"
    }
   ],
   "source": [
    "# create a metrics dataframe using metric values\n",
    "metrics = {\n",
    "    'Model': ['First'],\n",
    "    'MSE' : [mse_2],\n",
    "    'RMSE' : [rmse_2],\n",
    "    'MAE' : [mae_2],\n",
    "    'R2' : [r2_2]\n",
    "    }\n",
    "\n",
    "metrics_df = pd.DataFrame(data=metrics)\n",
    "\n",
    "# compare the values\n",
    "metrics_df"
   ]
  }
 ],
 "metadata": {
  "kernelspec": {
   "display_name": "Python 3",
   "language": "python",
   "name": "python3"
  },
  "language_info": {
   "codemirror_mode": {
    "name": "ipython",
    "version": 3
   },
   "file_extension": ".py",
   "mimetype": "text/x-python",
   "name": "python",
   "nbconvert_exporter": "python",
   "pygments_lexer": "ipython3",
   "version": "3.11.2"
  },
  "orig_nbformat": 4
 },
 "nbformat": 4,
 "nbformat_minor": 2
}
