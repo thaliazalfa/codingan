{
 "cells": [
  {
   "cell_type": "markdown",
   "metadata": {},
   "source": [
    "# **Import Library**"
   ]
  },
  {
   "cell_type": "code",
   "execution_count": 1,
   "metadata": {},
   "outputs": [],
   "source": [
    "# import all necessary packages\n",
    "import pandas as pd\n",
    "import numpy as np\n",
    "\n",
    "\n",
    "# import plotting packages\n",
    "import matplotlib.pyplot as plt\n",
    "import seaborn as sns\n",
    "# import ML related packages of sklearn\n",
    "from sklearn.model_selection import train_test_split\n",
    "from sklearn.linear_model import LinearRegression\n",
    "from sklearn.metrics import mean_squared_error, mean_absolute_error, r2_score\n",
    "\n"
   ]
  },
  {
   "cell_type": "markdown",
   "metadata": {},
   "source": [
    "# **Data Load**"
   ]
  },
  {
   "cell_type": "code",
   "execution_count": 2,
   "metadata": {},
   "outputs": [],
   "source": [
    "# load data to a new dataframe\n",
    "df = pd.read_csv(\"data.csv\")"
   ]
  },
  {
   "cell_type": "markdown",
   "metadata": {},
   "source": [
    "# **Data Check**"
   ]
  },
  {
   "cell_type": "code",
   "execution_count": 3,
   "metadata": {},
   "outputs": [
    {
     "data": {
      "text/plain": [
       "Nama                 object\n",
       "WPM 1                 int64\n",
       "WPM 2                 int64\n",
       "WPM 3                 int64\n",
       "Accuracy 1          float64\n",
       "Accuracy 2          float64\n",
       "Accuracy 3          float64\n",
       "average_wpm         float64\n",
       "average_accuracy    float64\n",
       "second_1              int64\n",
       "second_2              int64\n",
       "second_3              int64\n",
       "second_4              int64\n",
       "second_5              int64\n",
       "average_second      float64\n",
       "dtype: object"
      ]
     },
     "execution_count": 3,
     "metadata": {},
     "output_type": "execute_result"
    }
   ],
   "source": [
    "# check the shape\n",
    "df.dtypes"
   ]
  },
  {
   "cell_type": "code",
   "execution_count": 4,
   "metadata": {},
   "outputs": [
    {
     "data": {
      "text/html": [
       "<div>\n",
       "<style scoped>\n",
       "    .dataframe tbody tr th:only-of-type {\n",
       "        vertical-align: middle;\n",
       "    }\n",
       "\n",
       "    .dataframe tbody tr th {\n",
       "        vertical-align: top;\n",
       "    }\n",
       "\n",
       "    .dataframe thead th {\n",
       "        text-align: right;\n",
       "    }\n",
       "</style>\n",
       "<table border=\"1\" class=\"dataframe\">\n",
       "  <thead>\n",
       "    <tr style=\"text-align: right;\">\n",
       "      <th></th>\n",
       "      <th>Nama</th>\n",
       "      <th>WPM 1</th>\n",
       "      <th>WPM 2</th>\n",
       "      <th>WPM 3</th>\n",
       "      <th>Accuracy 1</th>\n",
       "      <th>Accuracy 2</th>\n",
       "      <th>Accuracy 3</th>\n",
       "      <th>average_wpm</th>\n",
       "      <th>average_accuracy</th>\n",
       "      <th>second_1</th>\n",
       "      <th>second_2</th>\n",
       "      <th>second_3</th>\n",
       "      <th>second_4</th>\n",
       "      <th>second_5</th>\n",
       "      <th>average_second</th>\n",
       "    </tr>\n",
       "  </thead>\n",
       "  <tbody>\n",
       "    <tr>\n",
       "      <th>0</th>\n",
       "      <td>APS</td>\n",
       "      <td>63</td>\n",
       "      <td>61</td>\n",
       "      <td>57</td>\n",
       "      <td>1.0000</td>\n",
       "      <td>1.0000</td>\n",
       "      <td>0.9600</td>\n",
       "      <td>60.333333</td>\n",
       "      <td>0.9855</td>\n",
       "      <td>280</td>\n",
       "      <td>563</td>\n",
       "      <td>389</td>\n",
       "      <td>308</td>\n",
       "      <td>348</td>\n",
       "      <td>377.6</td>\n",
       "    </tr>\n",
       "    <tr>\n",
       "      <th>1</th>\n",
       "      <td>AP</td>\n",
       "      <td>41</td>\n",
       "      <td>44</td>\n",
       "      <td>38</td>\n",
       "      <td>0.9400</td>\n",
       "      <td>0.9700</td>\n",
       "      <td>0.9400</td>\n",
       "      <td>41.000000</td>\n",
       "      <td>0.9511</td>\n",
       "      <td>477</td>\n",
       "      <td>514</td>\n",
       "      <td>482</td>\n",
       "      <td>584</td>\n",
       "      <td>487</td>\n",
       "      <td>508.8</td>\n",
       "    </tr>\n",
       "    <tr>\n",
       "      <th>2</th>\n",
       "      <td>DAP</td>\n",
       "      <td>51</td>\n",
       "      <td>54</td>\n",
       "      <td>52</td>\n",
       "      <td>0.9400</td>\n",
       "      <td>0.9286</td>\n",
       "      <td>0.9509</td>\n",
       "      <td>52.333333</td>\n",
       "      <td>0.9400</td>\n",
       "      <td>537</td>\n",
       "      <td>653</td>\n",
       "      <td>456</td>\n",
       "      <td>584</td>\n",
       "      <td>572</td>\n",
       "      <td>560.4</td>\n",
       "    </tr>\n",
       "    <tr>\n",
       "      <th>3</th>\n",
       "      <td>DF</td>\n",
       "      <td>33</td>\n",
       "      <td>39</td>\n",
       "      <td>44</td>\n",
       "      <td>0.7000</td>\n",
       "      <td>0.9100</td>\n",
       "      <td>0.8200</td>\n",
       "      <td>38.666667</td>\n",
       "      <td>0.8120</td>\n",
       "      <td>241</td>\n",
       "      <td>303</td>\n",
       "      <td>360</td>\n",
       "      <td>398</td>\n",
       "      <td>301</td>\n",
       "      <td>320.6</td>\n",
       "    </tr>\n",
       "    <tr>\n",
       "      <th>4</th>\n",
       "      <td>DRF</td>\n",
       "      <td>20</td>\n",
       "      <td>28</td>\n",
       "      <td>36</td>\n",
       "      <td>0.8889</td>\n",
       "      <td>0.9545</td>\n",
       "      <td>1.0000</td>\n",
       "      <td>28.000000</td>\n",
       "      <td>1.0000</td>\n",
       "      <td>562</td>\n",
       "      <td>684</td>\n",
       "      <td>703</td>\n",
       "      <td>630</td>\n",
       "      <td>618</td>\n",
       "      <td>639.4</td>\n",
       "    </tr>\n",
       "  </tbody>\n",
       "</table>\n",
       "</div>"
      ],
      "text/plain": [
       "  Nama  WPM 1  WPM 2  WPM 3  Accuracy 1  Accuracy 2  Accuracy 3  average_wpm  \\\n",
       "0  APS     63     61     57      1.0000      1.0000      0.9600    60.333333   \n",
       "1   AP     41     44     38      0.9400      0.9700      0.9400    41.000000   \n",
       "2  DAP     51     54     52      0.9400      0.9286      0.9509    52.333333   \n",
       "3   DF     33     39     44      0.7000      0.9100      0.8200    38.666667   \n",
       "4  DRF     20     28     36      0.8889      0.9545      1.0000    28.000000   \n",
       "\n",
       "   average_accuracy  second_1  second_2  second_3  second_4  second_5  \\\n",
       "0            0.9855       280       563       389       308       348   \n",
       "1            0.9511       477       514       482       584       487   \n",
       "2            0.9400       537       653       456       584       572   \n",
       "3            0.8120       241       303       360       398       301   \n",
       "4            1.0000       562       684       703       630       618   \n",
       "\n",
       "   average_second  \n",
       "0           377.6  \n",
       "1           508.8  \n",
       "2           560.4  \n",
       "3           320.6  \n",
       "4           639.4  "
      ]
     },
     "execution_count": 4,
     "metadata": {},
     "output_type": "execute_result"
    }
   ],
   "source": [
    "# first five rows of the dataframe\n",
    "df.head()"
   ]
  },
  {
   "cell_type": "markdown",
   "metadata": {},
   "source": [
    "# **Membuat Dataframe Untuk Variabel**"
   ]
  },
  {
   "cell_type": "code",
   "execution_count": 5,
   "metadata": {},
   "outputs": [
    {
     "data": {
      "text/html": [
       "<div>\n",
       "<style scoped>\n",
       "    .dataframe tbody tr th:only-of-type {\n",
       "        vertical-align: middle;\n",
       "    }\n",
       "\n",
       "    .dataframe tbody tr th {\n",
       "        vertical-align: top;\n",
       "    }\n",
       "\n",
       "    .dataframe thead th {\n",
       "        text-align: right;\n",
       "    }\n",
       "</style>\n",
       "<table border=\"1\" class=\"dataframe\">\n",
       "  <thead>\n",
       "    <tr style=\"text-align: right;\">\n",
       "      <th></th>\n",
       "      <th>average_wpm</th>\n",
       "      <th>average_second</th>\n",
       "    </tr>\n",
       "  </thead>\n",
       "  <tbody>\n",
       "    <tr>\n",
       "      <th>0</th>\n",
       "      <td>60.333333</td>\n",
       "      <td>377.6</td>\n",
       "    </tr>\n",
       "    <tr>\n",
       "      <th>1</th>\n",
       "      <td>41.000000</td>\n",
       "      <td>508.8</td>\n",
       "    </tr>\n",
       "    <tr>\n",
       "      <th>2</th>\n",
       "      <td>52.333333</td>\n",
       "      <td>560.4</td>\n",
       "    </tr>\n",
       "    <tr>\n",
       "      <th>3</th>\n",
       "      <td>38.666667</td>\n",
       "      <td>320.6</td>\n",
       "    </tr>\n",
       "    <tr>\n",
       "      <th>4</th>\n",
       "      <td>28.000000</td>\n",
       "      <td>639.4</td>\n",
       "    </tr>\n",
       "    <tr>\n",
       "      <th>5</th>\n",
       "      <td>55.333333</td>\n",
       "      <td>732.4</td>\n",
       "    </tr>\n",
       "    <tr>\n",
       "      <th>6</th>\n",
       "      <td>47.333333</td>\n",
       "      <td>392.2</td>\n",
       "    </tr>\n",
       "    <tr>\n",
       "      <th>7</th>\n",
       "      <td>54.000000</td>\n",
       "      <td>403.4</td>\n",
       "    </tr>\n",
       "    <tr>\n",
       "      <th>8</th>\n",
       "      <td>59.666667</td>\n",
       "      <td>818.4</td>\n",
       "    </tr>\n",
       "    <tr>\n",
       "      <th>9</th>\n",
       "      <td>44.000000</td>\n",
       "      <td>274.8</td>\n",
       "    </tr>\n",
       "    <tr>\n",
       "      <th>10</th>\n",
       "      <td>46.000000</td>\n",
       "      <td>666.8</td>\n",
       "    </tr>\n",
       "    <tr>\n",
       "      <th>11</th>\n",
       "      <td>45.666667</td>\n",
       "      <td>618.4</td>\n",
       "    </tr>\n",
       "    <tr>\n",
       "      <th>12</th>\n",
       "      <td>33.333333</td>\n",
       "      <td>419.0</td>\n",
       "    </tr>\n",
       "    <tr>\n",
       "      <th>13</th>\n",
       "      <td>69.666667</td>\n",
       "      <td>590.8</td>\n",
       "    </tr>\n",
       "    <tr>\n",
       "      <th>14</th>\n",
       "      <td>34.333333</td>\n",
       "      <td>439.4</td>\n",
       "    </tr>\n",
       "    <tr>\n",
       "      <th>15</th>\n",
       "      <td>46.000000</td>\n",
       "      <td>632.2</td>\n",
       "    </tr>\n",
       "    <tr>\n",
       "      <th>16</th>\n",
       "      <td>49.666667</td>\n",
       "      <td>472.6</td>\n",
       "    </tr>\n",
       "    <tr>\n",
       "      <th>17</th>\n",
       "      <td>44.000000</td>\n",
       "      <td>725.6</td>\n",
       "    </tr>\n",
       "    <tr>\n",
       "      <th>18</th>\n",
       "      <td>48.333333</td>\n",
       "      <td>691.4</td>\n",
       "    </tr>\n",
       "    <tr>\n",
       "      <th>19</th>\n",
       "      <td>50.666667</td>\n",
       "      <td>646.2</td>\n",
       "    </tr>\n",
       "    <tr>\n",
       "      <th>20</th>\n",
       "      <td>75.000000</td>\n",
       "      <td>340.8</td>\n",
       "    </tr>\n",
       "  </tbody>\n",
       "</table>\n",
       "</div>"
      ],
      "text/plain": [
       "    average_wpm  average_second\n",
       "0     60.333333           377.6\n",
       "1     41.000000           508.8\n",
       "2     52.333333           560.4\n",
       "3     38.666667           320.6\n",
       "4     28.000000           639.4\n",
       "5     55.333333           732.4\n",
       "6     47.333333           392.2\n",
       "7     54.000000           403.4\n",
       "8     59.666667           818.4\n",
       "9     44.000000           274.8\n",
       "10    46.000000           666.8\n",
       "11    45.666667           618.4\n",
       "12    33.333333           419.0\n",
       "13    69.666667           590.8\n",
       "14    34.333333           439.4\n",
       "15    46.000000           632.2\n",
       "16    49.666667           472.6\n",
       "17    44.000000           725.6\n",
       "18    48.333333           691.4\n",
       "19    50.666667           646.2\n",
       "20    75.000000           340.8"
      ]
     },
     "execution_count": 5,
     "metadata": {},
     "output_type": "execute_result"
    }
   ],
   "source": [
    "# create a new simple dataframe using the existing one\n",
    "new_df = df[['average_wpm', 'average_second']]\n",
    "new_df"
   ]
  },
  {
   "cell_type": "markdown",
   "metadata": {},
   "source": [
    "# **Data Plot**"
   ]
  },
  {
   "cell_type": "code",
   "execution_count": 6,
   "metadata": {},
   "outputs": [
    {
     "data": {
      "text/plain": [
       "<Axes: xlabel='average_wpm', ylabel='average_second'>"
      ]
     },
     "execution_count": 6,
     "metadata": {},
     "output_type": "execute_result"
    },
    {
     "data": {
      "image/png": "[encoded data removed]",
      "text/plain": [
       "<Figure size 640x480 with 1 Axes>"
      ]
     },
     "metadata": {},
     "output_type": "display_data"
    }
   ],
   "source": [
    "# check the distribution of data by plotting as scatter\n",
    "new_df.plot(x='average_wpm', y='average_second', kind='scatter')\t"
   ]
  },
  {
   "cell_type": "markdown",
   "metadata": {},
   "source": [
    "# **Deklarasi Variabel**"
   ]
  },
  {
   "cell_type": "code",
   "execution_count": 7,
   "metadata": {},
   "outputs": [],
   "source": [
    "# define x and y by using the new dataframe\n",
    "x = new_df['average_wpm'].values.reshape(-1, 1)\n",
    "y = new_df['average_second'].values.reshape(-1, 1)"
   ]
  },
  {
   "cell_type": "markdown",
   "metadata": {},
   "source": [
    "# **NORMALISASI** \n",
    "### _'average_wpm' dan 'average_second'_"
   ]
  },
  {
   "cell_type": "code",
   "execution_count": 8,
   "metadata": {},
   "outputs": [],
   "source": [
    "from sklearn.preprocessing import MinMaxScaler"
   ]
  },
  {
   "cell_type": "code",
   "execution_count": 9,
   "metadata": {},
   "outputs": [
    {
     "data": {
      "text/plain": [
       "array([[0.68794326],\n",
       "       [0.27659574],\n",
       "       [0.5177305 ],\n",
       "       [0.22695035],\n",
       "       [0.        ],\n",
       "       [0.58156028],\n",
       "       [0.41134752],\n",
       "       [0.55319149],\n",
       "       [0.67375887],\n",
       "       [0.34042553],\n",
       "       [0.38297872],\n",
       "       [0.37588652],\n",
       "       [0.11347518],\n",
       "       [0.88652482],\n",
       "       [0.13475177],\n",
       "       [0.38297872],\n",
       "       [0.46099291],\n",
       "       [0.34042553],\n",
       "       [0.43262411],\n",
       "       [0.4822695 ],\n",
       "       [1.        ]])"
      ]
     },
     "execution_count": 9,
     "metadata": {},
     "output_type": "execute_result"
    }
   ],
   "source": [
    "#Normalize x variabel\n",
    "scalar = MinMaxScaler()\n",
    "scalar.fit(x)\n",
    "new_x = scalar.transform(x)\n",
    "new_x"
   ]
  },
  {
   "cell_type": "code",
   "execution_count": 10,
   "metadata": {},
   "outputs": [
    {
     "data": {
      "text/plain": [
       "array([[0.18910964],\n",
       "       [0.43046358],\n",
       "       [0.52538631],\n",
       "       [0.08425313],\n",
       "       [0.67071376],\n",
       "       [0.84179544],\n",
       "       [0.21596762],\n",
       "       [0.23657101],\n",
       "       [1.        ],\n",
       "       [0.        ],\n",
       "       [0.72111847],\n",
       "       [0.63208241],\n",
       "       [0.26526858],\n",
       "       [0.58130979],\n",
       "       [0.30279617],\n",
       "       [0.65746873],\n",
       "       [0.36387049],\n",
       "       [0.82928624],\n",
       "       [0.76637233],\n",
       "       [0.68322296],\n",
       "       [0.1214128 ]])"
      ]
     },
     "execution_count": 10,
     "metadata": {},
     "output_type": "execute_result"
    }
   ],
   "source": [
    "#Normalize y variabel\n",
    "scalar = MinMaxScaler()\n",
    "scalar.fit(y)\n",
    "new_y = scalar.transform(y)\n",
    "new_y"
   ]
  },
  {
   "cell_type": "markdown",
   "metadata": {},
   "source": [
    "# **Split *Data Train* dan *Data Test***"
   ]
  },
  {
   "cell_type": "code",
   "execution_count": 11,
   "metadata": {},
   "outputs": [],
   "source": [
    "# Bagi data menjadi data latih dan data uji\n",
    "x_train, x_test, y_train, y_test = train_test_split(new_x, new_y, test_size=0.2, random_state=31)"
   ]
  },
  {
   "cell_type": "markdown",
   "metadata": {},
   "source": [
    "# **Membuat Model**"
   ]
  },
  {
   "cell_type": "code",
   "execution_count": 12,
   "metadata": {},
   "outputs": [],
   "source": [
    "# create a linear regression model\n",
    "model = LinearRegression()"
   ]
  },
  {
   "cell_type": "markdown",
   "metadata": {},
   "source": [
    "# **Training Data**"
   ]
  },
  {
   "cell_type": "code",
   "execution_count": 13,
   "metadata": {},
   "outputs": [
    {
     "data": {
      "text/html": [
       "<style>#sk-container-id-1 {color: black;}#sk-container-id-1 pre{padding: 0;}#sk-container-id-1 div.sk-toggleable {background-color: white;}#sk-container-id-1 label.sk-toggleable__label {cursor: pointer;display: block;width: 100%;margin-bottom: 0;padding: 0.3em;box-sizing: border-box;text-align: center;}#sk-container-id-1 label.sk-toggleable__label-arrow:before {content: \"▸\";float: left;margin-right: 0.25em;color: #696969;}#sk-container-id-1 label.sk-toggleable__label-arrow:hover:before {color: black;}#sk-container-id-1 div.sk-estimator:hover label.sk-toggleable__label-arrow:before {color: black;}#sk-container-id-1 div.sk-toggleable__content {max-height: 0;max-width: 0;overflow: hidden;text-align: left;background-color: #f0f8ff;}#sk-container-id-1 div.sk-toggleable__content pre {margin: 0.2em;color: black;border-radius: 0.25em;background-color: #f0f8ff;}#sk-container-id-1 input.sk-toggleable__control:checked~div.sk-toggleable__content {max-height: 200px;max-width: 100%;overflow: auto;}#sk-container-id-1 input.sk-toggleable__control:checked~label.sk-toggleable__label-arrow:before {content: \"▾\";}#sk-container-id-1 div.sk-estimator input.sk-toggleable__control:checked~label.sk-toggleable__label {background-color: #d4ebff;}#sk-container-id-1 div.sk-label input.sk-toggleable__control:checked~label.sk-toggleable__label {background-color: #d4ebff;}#sk-container-id-1 input.sk-hidden--visually {border: 0;clip: rect(1px 1px 1px 1px);clip: rect(1px, 1px, 1px, 1px);height: 1px;margin: -1px;overflow: hidden;padding: 0;position: absolute;width: 1px;}#sk-container-id-1 div.sk-estimator {font-family: monospace;background-color: #f0f8ff;border: 1px dotted black;border-radius: 0.25em;box-sizing: border-box;margin-bottom: 0.5em;}#sk-container-id-1 div.sk-estimator:hover {background-color: #d4ebff;}#sk-container-id-1 div.sk-parallel-item::after {content: \"\";width: 100%;border-bottom: 1px solid gray;flex-grow: 1;}#sk-container-id-1 div.sk-label:hover label.sk-toggleable__label {background-color: #d4ebff;}#sk-container-id-1 div.sk-serial::before {content: \"\";position: absolute;border-left: 1px solid gray;box-sizing: border-box;top: 0;bottom: 0;left: 50%;z-index: 0;}#sk-container-id-1 div.sk-serial {display: flex;flex-direction: column;align-items: center;background-color: white;padding-right: 0.2em;padding-left: 0.2em;position: relative;}#sk-container-id-1 div.sk-item {position: relative;z-index: 1;}#sk-container-id-1 div.sk-parallel {display: flex;align-items: stretch;justify-content: center;background-color: white;position: relative;}#sk-container-id-1 div.sk-item::before, #sk-container-id-1 div.sk-parallel-item::before {content: \"\";position: absolute;border-left: 1px solid gray;box-sizing: border-box;top: 0;bottom: 0;left: 50%;z-index: -1;}#sk-container-id-1 div.sk-parallel-item {display: flex;flex-direction: column;z-index: 1;position: relative;background-color: white;}#sk-container-id-1 div.sk-parallel-item:first-child::after {align-self: flex-end;width: 50%;}#sk-container-id-1 div.sk-parallel-item:last-child::after {align-self: flex-start;width: 50%;}#sk-container-id-1 div.sk-parallel-item:only-child::after {width: 0;}#sk-container-id-1 div.sk-dashed-wrapped {border: 1px dashed gray;margin: 0 0.4em 0.5em 0.4em;box-sizing: border-box;padding-bottom: 0.4em;background-color: white;}#sk-container-id-1 div.sk-label label {font-family: monospace;font-weight: bold;display: inline-block;line-height: 1.2em;}#sk-container-id-1 div.sk-label-container {text-align: center;}#sk-container-id-1 div.sk-container {/* jupyter's `normalize.less` sets `[hidden] { display: none; }` but bootstrap.min.css set `[hidden] { display: none !important; }` so we also need the `!important` here to be able to override the default hidden behavior on the sphinx rendered scikit-learn.org. See: https://github.com/scikit-learn/scikit-learn/issues/21755 */display: inline-block !important;position: relative;}#sk-container-id-1 div.sk-text-repr-fallback {display: none;}</style><div id=\"sk-container-id-1\" class=\"sk-top-container\"><div class=\"sk-text-repr-fallback\"><pre>LinearRegression()</pre><b>In a Jupyter environment, please rerun this cell to show the HTML representation or trust the notebook. <br />On GitHub, the HTML representation is unable to render, please try loading this page with nbviewer.org.</b></div><div class=\"sk-container\" hidden><div class=\"sk-item\"><div class=\"sk-estimator sk-toggleable\"><input class=\"sk-toggleable__control sk-hidden--visually\" id=\"sk-estimator-id-1\" type=\"checkbox\" checked><label for=\"sk-estimator-id-1\" class=\"sk-toggleable__label sk-toggleable__label-arrow\">LinearRegression</label><div class=\"sk-toggleable__content\"><pre>LinearRegression()</pre></div></div></div></div></div>"
      ],
      "text/plain": [
       "LinearRegression()"
      ]
     },
     "execution_count": 13,
     "metadata": {},
     "output_type": "execute_result"
    }
   ],
   "source": [
    "# train the model using training data\n",
    "# since we have only one independent variable, you should use 'values.reshape(-1,1)'. Otherwise, x_train is enough.\n",
    "model.fit(x_train, y_train)  "
   ]
  },
  {
   "cell_type": "markdown",
   "metadata": {},
   "source": [
    "# **Prediksi Model**"
   ]
  },
  {
   "cell_type": "code",
   "execution_count": 14,
   "metadata": {},
   "outputs": [],
   "source": [
    "# make predictions using test data\n",
    "y_pred = model.predict(x_test)"
   ]
  },
  {
   "cell_type": "code",
   "execution_count": 15,
   "metadata": {},
   "outputs": [
    {
     "name": "stdout",
     "output_type": "stream",
     "text": [
      "MSE -->  0.08532950027251174\n",
      "RMSE -->  0.29211213646904804\n",
      "MAE -->  0.2751778498310933\n",
      "R2 -->  0.00023667469430943555\n"
     ]
    }
   ],
   "source": [
    "# let's calculate the metrics\n",
    "# MSE\n",
    "mse = mean_squared_error(y_test, y_pred)\n",
    "print(\"MSE --> \", mse)\n",
    "# RMSE\n",
    "import math\n",
    "rmse = math.sqrt(mse)\n",
    "print(\"RMSE --> \", rmse)\n",
    "# MAE\n",
    "mae = mean_absolute_error(y_test, y_pred)\n",
    "print(\"MAE --> \", mae)\n",
    "# R2\n",
    "r2 = r2_score(y_test, y_pred)\n",
    "print(\"R2 --> \", r2)"
   ]
  },
  {
   "cell_type": "markdown",
   "metadata": {},
   "source": [
    "# **Data Visualisasi**"
   ]
  },
  {
   "cell_type": "code",
   "execution_count": 16,
   "metadata": {},
   "outputs": [
    {
     "data": {
      "text/plain": [
       "Text(0, 0.5, 'Predicted')"
      ]
     },
     "execution_count": 16,
     "metadata": {},
     "output_type": "execute_result"
    },
    {
     "data": {
      "image/png": "[encoded data removed]",
      "text/plain": [
       "<Figure size 640x480 with 1 Axes>"
      ]
     },
     "metadata": {},
     "output_type": "display_data"
    }
   ],
   "source": [
    "# plot actual and predicted values\n",
    "plt.scatter(y_test, y_pred)\n",
    "plt.xlabel('Actual')\n",
    "plt.ylabel('Predicted')"
   ]
  },
  {
   "cell_type": "code",
   "execution_count": 17,
   "metadata": {},
   "outputs": [
    {
     "data": {
      "text/plain": [
       "<Axes: >"
      ]
     },
     "execution_count": 17,
     "metadata": {},
     "output_type": "execute_result"
    },
    {
     "data": {
      "image/png": "[encoded data removed]",
      "text/plain": [
       "<Figure size 640x480 with 1 Axes>"
      ]
     },
     "metadata": {},
     "output_type": "display_data"
    }
   ],
   "source": [
    "# plot regression model line\n",
    "sns.regplot(x=x, y=y, ci=None, color ='blue')"
   ]
  },
  {
   "cell_type": "markdown",
   "metadata": {},
   "source": [
    "# **Membuat Input**"
   ]
  },
  {
   "cell_type": "code",
   "execution_count": 18,
   "metadata": {},
   "outputs": [
    {
     "name": "stdout",
     "output_type": "stream",
     "text": [
      "Estimasi kecepatan waktu :  [[0.57987394]]\n"
     ]
    }
   ],
   "source": [
    "input_data = np.array([[79]])\n",
    "\n",
    "prediction = model.predict(input_data)\n",
    "denormalized_prediction = scalar.inverse_transform(prediction)\n",
    "\n",
    "print('Estimasi kecepatan waktu : ', prediction)"
   ]
  },
  {
   "cell_type": "markdown",
   "metadata": {},
   "source": [
    "# **Save Model**"
   ]
  },
  {
   "cell_type": "code",
   "execution_count": 19,
   "metadata": {},
   "outputs": [],
   "source": [
    "import pickle\n",
    "\n",
    "filename = 'estimasi_waktu_lr.sav'\n",
    "pickle.dump(model,open(filename,'wb'))\n",
    "\n",
    "with open('y.pickle', 'wb') as file:\n",
    "    pickle.dump(y, file)\n"
   ]
  }
 ],
 "metadata": {
  "kernelspec": {
   "display_name": "Python 3",
   "language": "python",
   "name": "python3"
  },
  "language_info": {
   "codemirror_mode": {
    "name": "ipython",
    "version": 3
   },
   "file_extension": ".py",
   "mimetype": "text/x-python",
   "name": "python",
   "nbconvert_exporter": "python",
   "pygments_lexer": "ipython3",
   "version": "3.11.2"
  },
  "orig_nbformat": 4
 },
 "nbformat": 4,
 "nbformat_minor": 2
}
