{
 "cells": [
  {
   "cell_type": "code",
   "execution_count": 13,
   "metadata": {},
   "outputs": [],
   "source": [
    "# import all necessary packages\n",
    "import pandas as pd\n",
    "import numpy as np\n",
    "\n",
    "\n",
    "# import plotting packages\n",
    "import matplotlib.pyplot as plt\n",
    "import seaborn as sns\n",
    "# import ML related packages of sklearn\n",
    "from sklearn.model_selection import train_test_split\n",
    "from sklearn.linear_model import LinearRegression\n",
    "from sklearn.metrics import mean_squared_error, mean_absolute_error, r2_score\n"
   ]
  },
  {
   "cell_type": "code",
   "execution_count": 14,
   "metadata": {},
   "outputs": [],
   "source": [
    "# load data to a new dataframe\n",
    "df = pd.read_csv(\"data.csv\")"
   ]
  },
  {
   "cell_type": "code",
   "execution_count": 15,
   "metadata": {},
   "outputs": [
    {
     "data": {
      "text/plain": [
       "Nama                 object\n",
       "WPM 1                 int64\n",
       "WPM 2                 int64\n",
       "WPM 3                 int64\n",
       "Accuracy 1          float64\n",
       "Accuracy 2          float64\n",
       "Accuracy 3          float64\n",
       "average_wpm         float64\n",
       "average_accuracy    float64\n",
       "second_1              int64\n",
       "second_2              int64\n",
       "second_3              int64\n",
       "second_4              int64\n",
       "second_5              int64\n",
       "average_second      float64\n",
       "Unnamed: 15         float64\n",
       "Unnamed: 16         float64\n",
       "Unnamed: 17         float64\n",
       "Unnamed: 18         float64\n",
       "dtype: object"
      ]
     },
     "execution_count": 15,
     "metadata": {},
     "output_type": "execute_result"
    }
   ],
   "source": [
    "# check the shape\n",
    "df.dtypes"
   ]
  },
  {
   "cell_type": "code",
   "execution_count": 16,
   "metadata": {},
   "outputs": [
    {
     "data": {
      "text/html": [
       "<div>\n",
       "<style scoped>\n",
       "    .dataframe tbody tr th:only-of-type {\n",
       "        vertical-align: middle;\n",
       "    }\n",
       "\n",
       "    .dataframe tbody tr th {\n",
       "        vertical-align: top;\n",
       "    }\n",
       "\n",
       "    .dataframe thead th {\n",
       "        text-align: right;\n",
       "    }\n",
       "</style>\n",
       "<table border=\"1\" class=\"dataframe\">\n",
       "  <thead>\n",
       "    <tr style=\"text-align: right;\">\n",
       "      <th></th>\n",
       "      <th>Nama</th>\n",
       "      <th>WPM 1</th>\n",
       "      <th>WPM 2</th>\n",
       "      <th>WPM 3</th>\n",
       "      <th>Accuracy 1</th>\n",
       "      <th>Accuracy 2</th>\n",
       "      <th>Accuracy 3</th>\n",
       "      <th>average_wpm</th>\n",
       "      <th>average_accuracy</th>\n",
       "      <th>second_1</th>\n",
       "      <th>second_2</th>\n",
       "      <th>second_3</th>\n",
       "      <th>second_4</th>\n",
       "      <th>second_5</th>\n",
       "      <th>average_second</th>\n",
       "      <th>Unnamed: 15</th>\n",
       "      <th>Unnamed: 16</th>\n",
       "      <th>Unnamed: 17</th>\n",
       "      <th>Unnamed: 18</th>\n",
       "    </tr>\n",
       "  </thead>\n",
       "  <tbody>\n",
       "    <tr>\n",
       "      <th>0</th>\n",
       "      <td>Adam Putra Shofwan</td>\n",
       "      <td>63</td>\n",
       "      <td>61</td>\n",
       "      <td>57</td>\n",
       "      <td>1.0000</td>\n",
       "      <td>1.0000</td>\n",
       "      <td>0.9600</td>\n",
       "      <td>60.333333</td>\n",
       "      <td>0.9855</td>\n",
       "      <td>280</td>\n",
       "      <td>563</td>\n",
       "      <td>389</td>\n",
       "      <td>308</td>\n",
       "      <td>348</td>\n",
       "      <td>377.6</td>\n",
       "      <td>NaN</td>\n",
       "      <td>NaN</td>\n",
       "      <td>NaN</td>\n",
       "      <td>NaN</td>\n",
       "    </tr>\n",
       "    <tr>\n",
       "      <th>1</th>\n",
       "      <td>Anjani putri santosa</td>\n",
       "      <td>41</td>\n",
       "      <td>44</td>\n",
       "      <td>38</td>\n",
       "      <td>0.9400</td>\n",
       "      <td>0.9700</td>\n",
       "      <td>0.9400</td>\n",
       "      <td>41.000000</td>\n",
       "      <td>0.9511</td>\n",
       "      <td>477</td>\n",
       "      <td>514</td>\n",
       "      <td>482</td>\n",
       "      <td>584</td>\n",
       "      <td>487</td>\n",
       "      <td>508.8</td>\n",
       "      <td>NaN</td>\n",
       "      <td>NaN</td>\n",
       "      <td>NaN</td>\n",
       "      <td>NaN</td>\n",
       "    </tr>\n",
       "    <tr>\n",
       "      <th>2</th>\n",
       "      <td>Daffa Arya Pramudita</td>\n",
       "      <td>51</td>\n",
       "      <td>54</td>\n",
       "      <td>52</td>\n",
       "      <td>0.9400</td>\n",
       "      <td>0.9286</td>\n",
       "      <td>0.9509</td>\n",
       "      <td>52.333333</td>\n",
       "      <td>0.9400</td>\n",
       "      <td>537</td>\n",
       "      <td>653</td>\n",
       "      <td>456</td>\n",
       "      <td>584</td>\n",
       "      <td>572</td>\n",
       "      <td>560.4</td>\n",
       "      <td>NaN</td>\n",
       "      <td>NaN</td>\n",
       "      <td>NaN</td>\n",
       "      <td>NaN</td>\n",
       "    </tr>\n",
       "    <tr>\n",
       "      <th>3</th>\n",
       "      <td>Daffa Trian</td>\n",
       "      <td>33</td>\n",
       "      <td>39</td>\n",
       "      <td>44</td>\n",
       "      <td>0.7000</td>\n",
       "      <td>0.9100</td>\n",
       "      <td>0.8200</td>\n",
       "      <td>38.666667</td>\n",
       "      <td>0.8120</td>\n",
       "      <td>241</td>\n",
       "      <td>303</td>\n",
       "      <td>360</td>\n",
       "      <td>398</td>\n",
       "      <td>301</td>\n",
       "      <td>320.6</td>\n",
       "      <td>NaN</td>\n",
       "      <td>NaN</td>\n",
       "      <td>NaN</td>\n",
       "      <td>NaN</td>\n",
       "    </tr>\n",
       "    <tr>\n",
       "      <th>4</th>\n",
       "      <td>daiyan ramzhy faturrahman</td>\n",
       "      <td>20</td>\n",
       "      <td>28</td>\n",
       "      <td>36</td>\n",
       "      <td>0.8889</td>\n",
       "      <td>0.9545</td>\n",
       "      <td>1.0000</td>\n",
       "      <td>28.000000</td>\n",
       "      <td>1.0000</td>\n",
       "      <td>562</td>\n",
       "      <td>684</td>\n",
       "      <td>703</td>\n",
       "      <td>630</td>\n",
       "      <td>618</td>\n",
       "      <td>639.4</td>\n",
       "      <td>NaN</td>\n",
       "      <td>NaN</td>\n",
       "      <td>NaN</td>\n",
       "      <td>NaN</td>\n",
       "    </tr>\n",
       "  </tbody>\n",
       "</table>\n",
       "</div>"
      ],
      "text/plain": [
       "                        Nama  WPM 1  WPM 2  WPM 3  Accuracy 1  Accuracy 2  \\\n",
       "0         Adam Putra Shofwan     63     61     57      1.0000      1.0000   \n",
       "1       Anjani putri santosa     41     44     38      0.9400      0.9700   \n",
       "2       Daffa Arya Pramudita     51     54     52      0.9400      0.9286   \n",
       "3               Daffa Trian      33     39     44      0.7000      0.9100   \n",
       "4  daiyan ramzhy faturrahman     20     28     36      0.8889      0.9545   \n",
       "\n",
       "   Accuracy 3  average_wpm  average_accuracy  second_1  second_2  second_3  \\\n",
       "0      0.9600    60.333333            0.9855       280       563       389   \n",
       "1      0.9400    41.000000            0.9511       477       514       482   \n",
       "2      0.9509    52.333333            0.9400       537       653       456   \n",
       "3      0.8200    38.666667            0.8120       241       303       360   \n",
       "4      1.0000    28.000000            1.0000       562       684       703   \n",
       "\n",
       "   second_4  second_5  average_second  Unnamed: 15  Unnamed: 16  Unnamed: 17  \\\n",
       "0       308       348           377.6          NaN          NaN          NaN   \n",
       "1       584       487           508.8          NaN          NaN          NaN   \n",
       "2       584       572           560.4          NaN          NaN          NaN   \n",
       "3       398       301           320.6          NaN          NaN          NaN   \n",
       "4       630       618           639.4          NaN          NaN          NaN   \n",
       "\n",
       "   Unnamed: 18  \n",
       "0          NaN  \n",
       "1          NaN  \n",
       "2          NaN  \n",
       "3          NaN  \n",
       "4          NaN  "
      ]
     },
     "execution_count": 16,
     "metadata": {},
     "output_type": "execute_result"
    }
   ],
   "source": [
    "# first five rows of the dataframe\n",
    "df.head()"
   ]
  },
  {
   "cell_type": "code",
   "execution_count": 17,
   "metadata": {},
   "outputs": [
    {
     "data": {
      "text/html": [
       "<div>\n",
       "<style scoped>\n",
       "    .dataframe tbody tr th:only-of-type {\n",
       "        vertical-align: middle;\n",
       "    }\n",
       "\n",
       "    .dataframe tbody tr th {\n",
       "        vertical-align: top;\n",
       "    }\n",
       "\n",
       "    .dataframe thead th {\n",
       "        text-align: right;\n",
       "    }\n",
       "</style>\n",
       "<table border=\"1\" class=\"dataframe\">\n",
       "  <thead>\n",
       "    <tr style=\"text-align: right;\">\n",
       "      <th></th>\n",
       "      <th>WPM 1</th>\n",
       "      <th>WPM 2</th>\n",
       "      <th>WPM 3</th>\n",
       "      <th>Accuracy 1</th>\n",
       "      <th>Accuracy 2</th>\n",
       "      <th>Accuracy 3</th>\n",
       "      <th>average_wpm</th>\n",
       "      <th>average_accuracy</th>\n",
       "      <th>second_1</th>\n",
       "      <th>second_2</th>\n",
       "      <th>second_3</th>\n",
       "      <th>second_4</th>\n",
       "      <th>second_5</th>\n",
       "      <th>average_second</th>\n",
       "      <th>Unnamed: 15</th>\n",
       "      <th>Unnamed: 16</th>\n",
       "      <th>Unnamed: 17</th>\n",
       "      <th>Unnamed: 18</th>\n",
       "    </tr>\n",
       "  </thead>\n",
       "  <tbody>\n",
       "    <tr>\n",
       "      <th>count</th>\n",
       "      <td>21.000000</td>\n",
       "      <td>21.000000</td>\n",
       "      <td>21.000000</td>\n",
       "      <td>21.000000</td>\n",
       "      <td>21.000000</td>\n",
       "      <td>21.000000</td>\n",
       "      <td>21.000000</td>\n",
       "      <td>21.000000</td>\n",
       "      <td>21.000000</td>\n",
       "      <td>21.000000</td>\n",
       "      <td>21.000000</td>\n",
       "      <td>21.000000</td>\n",
       "      <td>21.000000</td>\n",
       "      <td>21.000000</td>\n",
       "      <td>0.0</td>\n",
       "      <td>0.0</td>\n",
       "      <td>0.0</td>\n",
       "      <td>0.0</td>\n",
       "    </tr>\n",
       "    <tr>\n",
       "      <th>mean</th>\n",
       "      <td>47.523810</td>\n",
       "      <td>49.571429</td>\n",
       "      <td>49.095238</td>\n",
       "      <td>0.952281</td>\n",
       "      <td>0.971857</td>\n",
       "      <td>0.962329</td>\n",
       "      <td>48.730159</td>\n",
       "      <td>0.970448</td>\n",
       "      <td>550.190476</td>\n",
       "      <td>545.857143</td>\n",
       "      <td>503.809524</td>\n",
       "      <td>545.380952</td>\n",
       "      <td>538.380952</td>\n",
       "      <td>536.723810</td>\n",
       "      <td>NaN</td>\n",
       "      <td>NaN</td>\n",
       "      <td>NaN</td>\n",
       "      <td>NaN</td>\n",
       "    </tr>\n",
       "    <tr>\n",
       "      <th>std</th>\n",
       "      <td>13.611095</td>\n",
       "      <td>11.047947</td>\n",
       "      <td>10.501927</td>\n",
       "      <td>0.067512</td>\n",
       "      <td>0.035150</td>\n",
       "      <td>0.049450</td>\n",
       "      <td>11.353227</td>\n",
       "      <td>0.042993</td>\n",
       "      <td>189.945155</td>\n",
       "      <td>184.062024</td>\n",
       "      <td>169.833924</td>\n",
       "      <td>162.813843</td>\n",
       "      <td>171.546925</td>\n",
       "      <td>155.218111</td>\n",
       "      <td>NaN</td>\n",
       "      <td>NaN</td>\n",
       "      <td>NaN</td>\n",
       "      <td>NaN</td>\n",
       "    </tr>\n",
       "    <tr>\n",
       "      <th>min</th>\n",
       "      <td>20.000000</td>\n",
       "      <td>28.000000</td>\n",
       "      <td>34.000000</td>\n",
       "      <td>0.700000</td>\n",
       "      <td>0.890000</td>\n",
       "      <td>0.820000</td>\n",
       "      <td>28.000000</td>\n",
       "      <td>0.812000</td>\n",
       "      <td>241.000000</td>\n",
       "      <td>247.000000</td>\n",
       "      <td>246.000000</td>\n",
       "      <td>258.000000</td>\n",
       "      <td>258.000000</td>\n",
       "      <td>274.800000</td>\n",
       "      <td>NaN</td>\n",
       "      <td>NaN</td>\n",
       "      <td>NaN</td>\n",
       "      <td>NaN</td>\n",
       "    </tr>\n",
       "    <tr>\n",
       "      <th>25%</th>\n",
       "      <td>41.000000</td>\n",
       "      <td>44.000000</td>\n",
       "      <td>44.000000</td>\n",
       "      <td>0.940000</td>\n",
       "      <td>0.960000</td>\n",
       "      <td>0.950000</td>\n",
       "      <td>44.000000</td>\n",
       "      <td>0.951100</td>\n",
       "      <td>390.000000</td>\n",
       "      <td>345.000000</td>\n",
       "      <td>389.000000</td>\n",
       "      <td>424.000000</td>\n",
       "      <td>394.000000</td>\n",
       "      <td>403.400000</td>\n",
       "      <td>NaN</td>\n",
       "      <td>NaN</td>\n",
       "      <td>NaN</td>\n",
       "      <td>NaN</td>\n",
       "    </tr>\n",
       "    <tr>\n",
       "      <th>50%</th>\n",
       "      <td>46.000000</td>\n",
       "      <td>47.000000</td>\n",
       "      <td>47.000000</td>\n",
       "      <td>0.973700</td>\n",
       "      <td>0.980400</td>\n",
       "      <td>0.970000</td>\n",
       "      <td>47.333333</td>\n",
       "      <td>0.980000</td>\n",
       "      <td>545.000000</td>\n",
       "      <td>605.000000</td>\n",
       "      <td>466.000000</td>\n",
       "      <td>584.000000</td>\n",
       "      <td>572.000000</td>\n",
       "      <td>560.400000</td>\n",
       "      <td>NaN</td>\n",
       "      <td>NaN</td>\n",
       "      <td>NaN</td>\n",
       "      <td>NaN</td>\n",
       "    </tr>\n",
       "    <tr>\n",
       "      <th>75%</th>\n",
       "      <td>54.000000</td>\n",
       "      <td>55.000000</td>\n",
       "      <td>54.000000</td>\n",
       "      <td>1.000000</td>\n",
       "      <td>1.000000</td>\n",
       "      <td>1.000000</td>\n",
       "      <td>54.000000</td>\n",
       "      <td>1.000000</td>\n",
       "      <td>665.000000</td>\n",
       "      <td>684.000000</td>\n",
       "      <td>672.000000</td>\n",
       "      <td>630.000000</td>\n",
       "      <td>622.000000</td>\n",
       "      <td>646.200000</td>\n",
       "      <td>NaN</td>\n",
       "      <td>NaN</td>\n",
       "      <td>NaN</td>\n",
       "      <td>NaN</td>\n",
       "    </tr>\n",
       "    <tr>\n",
       "      <th>max</th>\n",
       "      <td>76.000000</td>\n",
       "      <td>73.000000</td>\n",
       "      <td>76.000000</td>\n",
       "      <td>1.000000</td>\n",
       "      <td>1.000000</td>\n",
       "      <td>1.000000</td>\n",
       "      <td>75.000000</td>\n",
       "      <td>1.000000</td>\n",
       "      <td>957.000000</td>\n",
       "      <td>827.000000</td>\n",
       "      <td>922.000000</td>\n",
       "      <td>856.000000</td>\n",
       "      <td>889.000000</td>\n",
       "      <td>818.400000</td>\n",
       "      <td>NaN</td>\n",
       "      <td>NaN</td>\n",
       "      <td>NaN</td>\n",
       "      <td>NaN</td>\n",
       "    </tr>\n",
       "  </tbody>\n",
       "</table>\n",
       "</div>"
      ],
      "text/plain": [
       "           WPM 1      WPM 2      WPM 3  Accuracy 1  Accuracy 2  Accuracy 3  \\\n",
       "count  21.000000  21.000000  21.000000   21.000000   21.000000   21.000000   \n",
       "mean   47.523810  49.571429  49.095238    0.952281    0.971857    0.962329   \n",
       "std    13.611095  11.047947  10.501927    0.067512    0.035150    0.049450   \n",
       "min    20.000000  28.000000  34.000000    0.700000    0.890000    0.820000   \n",
       "25%    41.000000  44.000000  44.000000    0.940000    0.960000    0.950000   \n",
       "50%    46.000000  47.000000  47.000000    0.973700    0.980400    0.970000   \n",
       "75%    54.000000  55.000000  54.000000    1.000000    1.000000    1.000000   \n",
       "max    76.000000  73.000000  76.000000    1.000000    1.000000    1.000000   \n",
       "\n",
       "       average_wpm  average_accuracy    second_1    second_2    second_3  \\\n",
       "count    21.000000         21.000000   21.000000   21.000000   21.000000   \n",
       "mean     48.730159          0.970448  550.190476  545.857143  503.809524   \n",
       "std      11.353227          0.042993  189.945155  184.062024  169.833924   \n",
       "min      28.000000          0.812000  241.000000  247.000000  246.000000   \n",
       "25%      44.000000          0.951100  390.000000  345.000000  389.000000   \n",
       "50%      47.333333          0.980000  545.000000  605.000000  466.000000   \n",
       "75%      54.000000          1.000000  665.000000  684.000000  672.000000   \n",
       "max      75.000000          1.000000  957.000000  827.000000  922.000000   \n",
       "\n",
       "         second_4    second_5  average_second  Unnamed: 15  Unnamed: 16  \\\n",
       "count   21.000000   21.000000       21.000000          0.0          0.0   \n",
       "mean   545.380952  538.380952      536.723810          NaN          NaN   \n",
       "std    162.813843  171.546925      155.218111          NaN          NaN   \n",
       "min    258.000000  258.000000      274.800000          NaN          NaN   \n",
       "25%    424.000000  394.000000      403.400000          NaN          NaN   \n",
       "50%    584.000000  572.000000      560.400000          NaN          NaN   \n",
       "75%    630.000000  622.000000      646.200000          NaN          NaN   \n",
       "max    856.000000  889.000000      818.400000          NaN          NaN   \n",
       "\n",
       "       Unnamed: 17  Unnamed: 18  \n",
       "count          0.0          0.0  \n",
       "mean           NaN          NaN  \n",
       "std            NaN          NaN  \n",
       "min            NaN          NaN  \n",
       "25%            NaN          NaN  \n",
       "50%            NaN          NaN  \n",
       "75%            NaN          NaN  \n",
       "max            NaN          NaN  "
      ]
     },
     "execution_count": 17,
     "metadata": {},
     "output_type": "execute_result"
    }
   ],
   "source": [
    "# describe the dataframe with some statistical info\n",
    "df.describe()"
   ]
  },
  {
   "cell_type": "code",
   "execution_count": 18,
   "metadata": {},
   "outputs": [
    {
     "data": {
      "text/plain": [
       "Index(['Nama', 'WPM 1', 'WPM 2', 'WPM 3', 'Accuracy 1', 'Accuracy 2',\n",
       "       'Accuracy 3', 'average_wpm', 'average_accuracy', 'second_1', 'second_2',\n",
       "       'second_3', 'second_4', 'second_5', 'average_second', 'Unnamed: 15',\n",
       "       'Unnamed: 16', 'Unnamed: 17', 'Unnamed: 18'],\n",
       "      dtype='object')"
      ]
     },
     "execution_count": 18,
     "metadata": {},
     "output_type": "execute_result"
    }
   ],
   "source": [
    "# column names of the dataframe\n",
    "df.columns"
   ]
  },
  {
   "cell_type": "code",
   "execution_count": 19,
   "metadata": {},
   "outputs": [
    {
     "data": {
      "text/html": [
       "<div>\n",
       "<style scoped>\n",
       "    .dataframe tbody tr th:only-of-type {\n",
       "        vertical-align: middle;\n",
       "    }\n",
       "\n",
       "    .dataframe tbody tr th {\n",
       "        vertical-align: top;\n",
       "    }\n",
       "\n",
       "    .dataframe thead th {\n",
       "        text-align: right;\n",
       "    }\n",
       "</style>\n",
       "<table border=\"1\" class=\"dataframe\">\n",
       "  <thead>\n",
       "    <tr style=\"text-align: right;\">\n",
       "      <th></th>\n",
       "      <th>average_wpm</th>\n",
       "      <th>average_second</th>\n",
       "    </tr>\n",
       "  </thead>\n",
       "  <tbody>\n",
       "    <tr>\n",
       "      <th>0</th>\n",
       "      <td>60.333333</td>\n",
       "      <td>377.6</td>\n",
       "    </tr>\n",
       "    <tr>\n",
       "      <th>1</th>\n",
       "      <td>41.000000</td>\n",
       "      <td>508.8</td>\n",
       "    </tr>\n",
       "    <tr>\n",
       "      <th>2</th>\n",
       "      <td>52.333333</td>\n",
       "      <td>560.4</td>\n",
       "    </tr>\n",
       "    <tr>\n",
       "      <th>3</th>\n",
       "      <td>38.666667</td>\n",
       "      <td>320.6</td>\n",
       "    </tr>\n",
       "    <tr>\n",
       "      <th>4</th>\n",
       "      <td>28.000000</td>\n",
       "      <td>639.4</td>\n",
       "    </tr>\n",
       "    <tr>\n",
       "      <th>5</th>\n",
       "      <td>55.333333</td>\n",
       "      <td>732.4</td>\n",
       "    </tr>\n",
       "    <tr>\n",
       "      <th>6</th>\n",
       "      <td>47.333333</td>\n",
       "      <td>392.2</td>\n",
       "    </tr>\n",
       "    <tr>\n",
       "      <th>7</th>\n",
       "      <td>54.000000</td>\n",
       "      <td>403.4</td>\n",
       "    </tr>\n",
       "    <tr>\n",
       "      <th>8</th>\n",
       "      <td>59.666667</td>\n",
       "      <td>818.4</td>\n",
       "    </tr>\n",
       "    <tr>\n",
       "      <th>9</th>\n",
       "      <td>44.000000</td>\n",
       "      <td>274.8</td>\n",
       "    </tr>\n",
       "    <tr>\n",
       "      <th>10</th>\n",
       "      <td>46.000000</td>\n",
       "      <td>666.8</td>\n",
       "    </tr>\n",
       "    <tr>\n",
       "      <th>11</th>\n",
       "      <td>45.666667</td>\n",
       "      <td>618.4</td>\n",
       "    </tr>\n",
       "    <tr>\n",
       "      <th>12</th>\n",
       "      <td>33.333333</td>\n",
       "      <td>419.0</td>\n",
       "    </tr>\n",
       "    <tr>\n",
       "      <th>13</th>\n",
       "      <td>69.666667</td>\n",
       "      <td>590.8</td>\n",
       "    </tr>\n",
       "    <tr>\n",
       "      <th>14</th>\n",
       "      <td>34.333333</td>\n",
       "      <td>439.4</td>\n",
       "    </tr>\n",
       "    <tr>\n",
       "      <th>15</th>\n",
       "      <td>46.000000</td>\n",
       "      <td>632.2</td>\n",
       "    </tr>\n",
       "    <tr>\n",
       "      <th>16</th>\n",
       "      <td>49.666667</td>\n",
       "      <td>472.6</td>\n",
       "    </tr>\n",
       "    <tr>\n",
       "      <th>17</th>\n",
       "      <td>44.000000</td>\n",
       "      <td>725.6</td>\n",
       "    </tr>\n",
       "    <tr>\n",
       "      <th>18</th>\n",
       "      <td>48.333333</td>\n",
       "      <td>691.4</td>\n",
       "    </tr>\n",
       "    <tr>\n",
       "      <th>19</th>\n",
       "      <td>50.666667</td>\n",
       "      <td>646.2</td>\n",
       "    </tr>\n",
       "    <tr>\n",
       "      <th>20</th>\n",
       "      <td>75.000000</td>\n",
       "      <td>340.8</td>\n",
       "    </tr>\n",
       "  </tbody>\n",
       "</table>\n",
       "</div>"
      ],
      "text/plain": [
       "    average_wpm  average_second\n",
       "0     60.333333           377.6\n",
       "1     41.000000           508.8\n",
       "2     52.333333           560.4\n",
       "3     38.666667           320.6\n",
       "4     28.000000           639.4\n",
       "5     55.333333           732.4\n",
       "6     47.333333           392.2\n",
       "7     54.000000           403.4\n",
       "8     59.666667           818.4\n",
       "9     44.000000           274.8\n",
       "10    46.000000           666.8\n",
       "11    45.666667           618.4\n",
       "12    33.333333           419.0\n",
       "13    69.666667           590.8\n",
       "14    34.333333           439.4\n",
       "15    46.000000           632.2\n",
       "16    49.666667           472.6\n",
       "17    44.000000           725.6\n",
       "18    48.333333           691.4\n",
       "19    50.666667           646.2\n",
       "20    75.000000           340.8"
      ]
     },
     "execution_count": 19,
     "metadata": {},
     "output_type": "execute_result"
    }
   ],
   "source": [
    "# create a new simple dataframe using the existing one\n",
    "new_df = df[['average_wpm', 'average_second']]\n",
    "new_df"
   ]
  },
  {
   "cell_type": "code",
   "execution_count": 10,
   "metadata": {},
   "outputs": [
    {
     "data": {
      "text/plain": [
       "<Axes: xlabel='average_wpm', ylabel='average_second'>"
      ]
     },
     "execution_count": 10,
     "metadata": {},
     "output_type": "execute_result"
    },
    {
     "data": {
      "image/png": "[encoded data removed]",
      "text/plain": [
       "<Figure size 640x480 with 1 Axes>"
      ]
     },
     "metadata": {},
     "output_type": "display_data"
    }
   ],
   "source": [
    "# check the distribution of data by plotting as scatter\n",
    "new_df.plot(x='average_wpm', y='average_second', kind='scatter')\t"
   ]
  },
  {
   "cell_type": "code",
   "execution_count": 11,
   "metadata": {},
   "outputs": [
    {
     "data": {
      "text/plain": [
       "<Axes: xlabel='average_wpm', ylabel='average_second'>"
      ]
     },
     "execution_count": 11,
     "metadata": {},
     "output_type": "execute_result"
    },
    {
     "data": {
      "image/png": "[encoded data removed]",
      "text/plain": [
       "<Figure size 640x480 with 1 Axes>"
      ]
     },
     "metadata": {},
     "output_type": "display_data"
    }
   ],
   "source": [
    "\n",
    "# compare below plot with the previous one\n",
    "df.plot(x='average_wpm', y='average_second', kind='scatter')"
   ]
  },
  {
   "cell_type": "markdown",
   "metadata": {},
   "source": [
    "STANDARIZATION"
   ]
  },
  {
   "cell_type": "code",
   "execution_count": 20,
   "metadata": {},
   "outputs": [],
   "source": [
    "from sklearn.preprocessing import StandardScaler"
   ]
  },
  {
   "cell_type": "code",
   "execution_count": 21,
   "metadata": {},
   "outputs": [
    {
     "data": {
      "text/html": [
       "<div>\n",
       "<style scoped>\n",
       "    .dataframe tbody tr th:only-of-type {\n",
       "        vertical-align: middle;\n",
       "    }\n",
       "\n",
       "    .dataframe tbody tr th {\n",
       "        vertical-align: top;\n",
       "    }\n",
       "\n",
       "    .dataframe thead th {\n",
       "        text-align: right;\n",
       "    }\n",
       "</style>\n",
       "<table border=\"1\" class=\"dataframe\">\n",
       "  <thead>\n",
       "    <tr style=\"text-align: right;\">\n",
       "      <th></th>\n",
       "      <th>average_wpm</th>\n",
       "      <th>average_second</th>\n",
       "    </tr>\n",
       "  </thead>\n",
       "  <tbody>\n",
       "    <tr>\n",
       "      <th>0</th>\n",
       "      <td>1.047254</td>\n",
       "      <td>-1.050479</td>\n",
       "    </tr>\n",
       "    <tr>\n",
       "      <th>1</th>\n",
       "      <td>-0.697692</td>\n",
       "      <td>-0.184343</td>\n",
       "    </tr>\n",
       "    <tr>\n",
       "      <th>2</th>\n",
       "      <td>0.325208</td>\n",
       "      <td>0.156302</td>\n",
       "    </tr>\n",
       "    <tr>\n",
       "      <th>3</th>\n",
       "      <td>-0.908289</td>\n",
       "      <td>-1.426773</td>\n",
       "    </tr>\n",
       "    <tr>\n",
       "      <th>4</th>\n",
       "      <td>-1.871018</td>\n",
       "      <td>0.677832</td>\n",
       "    </tr>\n",
       "  </tbody>\n",
       "</table>\n",
       "</div>"
      ],
      "text/plain": [
       "   average_wpm  average_second\n",
       "0     1.047254       -1.050479\n",
       "1    -0.697692       -0.184343\n",
       "2     0.325208        0.156302\n",
       "3    -0.908289       -1.426773\n",
       "4    -1.871018        0.677832"
      ]
     },
     "execution_count": 21,
     "metadata": {},
     "output_type": "execute_result"
    }
   ],
   "source": [
    "df_zscore = pd.DataFrame(StandardScaler().fit_transform(new_df), columns=new_df.columns)\n",
    "df_zscore.head()"
   ]
  },
  {
   "cell_type": "code",
   "execution_count": 22,
   "metadata": {},
   "outputs": [],
   "source": [
    "# define x and y by using the new dataframe\n",
    "x = df_zscore['average_wpm'].values.reshape(-1, 1)\n",
    "y = df_zscore['average_second'].values.reshape(-1, 1)\n",
    "\n",
    "# Bentuk data x menjadi matriks fitur dengan dimensi yang sesuai (n_samples, n_features)\n",
    "\n",
    "#X = x.reshape(-1, 1)"
   ]
  },
  {
   "cell_type": "code",
   "execution_count": 25,
   "metadata": {},
   "outputs": [],
   "source": [
    "x_train, x_test, y_train, y_test = train_test_split(x, y, test_size=0.2, random_state=10)"
   ]
  },
  {
   "cell_type": "code",
   "execution_count": 26,
   "metadata": {},
   "outputs": [
    {
     "name": "stdout",
     "output_type": "stream",
     "text": [
      "X_train: (16, 1)\n",
      "X_test: (5, 1)\n",
      "Y_train: (16, 1)\n",
      "Y_test: (5, 1)\n"
     ]
    }
   ],
   "source": [
    "#shapes of splitted data - sizes of the X_train and Y_train should be same. Also, tests.\n",
    "print(\"X_train:\",x_train.shape)\n",
    "print(\"X_test:\",x_test.shape)\n",
    "print(\"Y_train:\",y_train.shape)\n",
    "print(\"Y_test:\",y_test.shape)"
   ]
  },
  {
   "cell_type": "code",
   "execution_count": 27,
   "metadata": {},
   "outputs": [],
   "source": [
    "# create a linear regression model\n",
    "model = LinearRegression()"
   ]
  },
  {
   "cell_type": "code",
   "execution_count": 28,
   "metadata": {},
   "outputs": [
    {
     "data": {
      "text/html": [
       "<style>#sk-container-id-1 {color: black;}#sk-container-id-1 pre{padding: 0;}#sk-container-id-1 div.sk-toggleable {background-color: white;}#sk-container-id-1 label.sk-toggleable__label {cursor: pointer;display: block;width: 100%;margin-bottom: 0;padding: 0.3em;box-sizing: border-box;text-align: center;}#sk-container-id-1 label.sk-toggleable__label-arrow:before {content: \"▸\";float: left;margin-right: 0.25em;color: #696969;}#sk-container-id-1 label.sk-toggleable__label-arrow:hover:before {color: black;}#sk-container-id-1 div.sk-estimator:hover label.sk-toggleable__label-arrow:before {color: black;}#sk-container-id-1 div.sk-toggleable__content {max-height: 0;max-width: 0;overflow: hidden;text-align: left;background-color: #f0f8ff;}#sk-container-id-1 div.sk-toggleable__content pre {margin: 0.2em;color: black;border-radius: 0.25em;background-color: #f0f8ff;}#sk-container-id-1 input.sk-toggleable__control:checked~div.sk-toggleable__content {max-height: 200px;max-width: 100%;overflow: auto;}#sk-container-id-1 input.sk-toggleable__control:checked~label.sk-toggleable__label-arrow:before {content: \"▾\";}#sk-container-id-1 div.sk-estimator input.sk-toggleable__control:checked~label.sk-toggleable__label {background-color: #d4ebff;}#sk-container-id-1 div.sk-label input.sk-toggleable__control:checked~label.sk-toggleable__label {background-color: #d4ebff;}#sk-container-id-1 input.sk-hidden--visually {border: 0;clip: rect(1px 1px 1px 1px);clip: rect(1px, 1px, 1px, 1px);height: 1px;margin: -1px;overflow: hidden;padding: 0;position: absolute;width: 1px;}#sk-container-id-1 div.sk-estimator {font-family: monospace;background-color: #f0f8ff;border: 1px dotted black;border-radius: 0.25em;box-sizing: border-box;margin-bottom: 0.5em;}#sk-container-id-1 div.sk-estimator:hover {background-color: #d4ebff;}#sk-container-id-1 div.sk-parallel-item::after {content: \"\";width: 100%;border-bottom: 1px solid gray;flex-grow: 1;}#sk-container-id-1 div.sk-label:hover label.sk-toggleable__label {background-color: #d4ebff;}#sk-container-id-1 div.sk-serial::before {content: \"\";position: absolute;border-left: 1px solid gray;box-sizing: border-box;top: 0;bottom: 0;left: 50%;z-index: 0;}#sk-container-id-1 div.sk-serial {display: flex;flex-direction: column;align-items: center;background-color: white;padding-right: 0.2em;padding-left: 0.2em;position: relative;}#sk-container-id-1 div.sk-item {position: relative;z-index: 1;}#sk-container-id-1 div.sk-parallel {display: flex;align-items: stretch;justify-content: center;background-color: white;position: relative;}#sk-container-id-1 div.sk-item::before, #sk-container-id-1 div.sk-parallel-item::before {content: \"\";position: absolute;border-left: 1px solid gray;box-sizing: border-box;top: 0;bottom: 0;left: 50%;z-index: -1;}#sk-container-id-1 div.sk-parallel-item {display: flex;flex-direction: column;z-index: 1;position: relative;background-color: white;}#sk-container-id-1 div.sk-parallel-item:first-child::after {align-self: flex-end;width: 50%;}#sk-container-id-1 div.sk-parallel-item:last-child::after {align-self: flex-start;width: 50%;}#sk-container-id-1 div.sk-parallel-item:only-child::after {width: 0;}#sk-container-id-1 div.sk-dashed-wrapped {border: 1px dashed gray;margin: 0 0.4em 0.5em 0.4em;box-sizing: border-box;padding-bottom: 0.4em;background-color: white;}#sk-container-id-1 div.sk-label label {font-family: monospace;font-weight: bold;display: inline-block;line-height: 1.2em;}#sk-container-id-1 div.sk-label-container {text-align: center;}#sk-container-id-1 div.sk-container {/* jupyter's `normalize.less` sets `[hidden] { display: none; }` but bootstrap.min.css set `[hidden] { display: none !important; }` so we also need the `!important` here to be able to override the default hidden behavior on the sphinx rendered scikit-learn.org. See: https://github.com/scikit-learn/scikit-learn/issues/21755 */display: inline-block !important;position: relative;}#sk-container-id-1 div.sk-text-repr-fallback {display: none;}</style><div id=\"sk-container-id-1\" class=\"sk-top-container\"><div class=\"sk-text-repr-fallback\"><pre>LinearRegression()</pre><b>In a Jupyter environment, please rerun this cell to show the HTML representation or trust the notebook. <br />On GitHub, the HTML representation is unable to render, please try loading this page with nbviewer.org.</b></div><div class=\"sk-container\" hidden><div class=\"sk-item\"><div class=\"sk-estimator sk-toggleable\"><input class=\"sk-toggleable__control sk-hidden--visually\" id=\"sk-estimator-id-1\" type=\"checkbox\" checked><label for=\"sk-estimator-id-1\" class=\"sk-toggleable__label sk-toggleable__label-arrow\">LinearRegression</label><div class=\"sk-toggleable__content\"><pre>LinearRegression()</pre></div></div></div></div></div>"
      ],
      "text/plain": [
       "LinearRegression()"
      ]
     },
     "execution_count": 28,
     "metadata": {},
     "output_type": "execute_result"
    }
   ],
   "source": [
    "# train the model using training data\n",
    "# since we have only one independent variable, you should use 'values.reshape(-1,1)'. Otherwise, x_train is enough.\n",
    "model.fit(x_train, y_train)  "
   ]
  },
  {
   "cell_type": "code",
   "execution_count": 29,
   "metadata": {},
   "outputs": [
    {
     "data": {
      "text/plain": [
       "array([[-0.02167679]])"
      ]
     },
     "execution_count": 29,
     "metadata": {},
     "output_type": "execute_result"
    }
   ],
   "source": [
    "# print coefficient\n",
    "model.coef_"
   ]
  },
  {
   "cell_type": "code",
   "execution_count": 30,
   "metadata": {},
   "outputs": [
    {
     "data": {
      "text/plain": [
       "array([-0.02879677])"
      ]
     },
     "execution_count": 30,
     "metadata": {},
     "output_type": "execute_result"
    }
   ],
   "source": [
    "# print y_intercept | bias\n",
    "model.intercept_"
   ]
  },
  {
   "cell_type": "code",
   "execution_count": 31,
   "metadata": {},
   "outputs": [],
   "source": [
    "# make predictions using test data\n",
    "y_pred = model.predict(x_test)"
   ]
  },
  {
   "cell_type": "code",
   "execution_count": 32,
   "metadata": {},
   "outputs": [
    {
     "name": "stdout",
     "output_type": "stream",
     "text": [
      "MSE -->  0.6500695106050293\n",
      "RMSE -->  0.8062688823246431\n",
      "MAE -->  0.7141132392591747\n",
      "R2 -->  -0.03905557313205654\n"
     ]
    }
   ],
   "source": [
    "# let's calculate the metrics\n",
    "# MSE\n",
    "mse = mean_squared_error(y_test, y_pred)\n",
    "print(\"MSE --> \", mse)\n",
    "# RMSE\n",
    "import math\n",
    "rmse = math.sqrt(mse)\n",
    "print(\"RMSE --> \", rmse)\n",
    "# MAE\n",
    "mae = mean_absolute_error(y_test, y_pred)\n",
    "print(\"MAE --> \", mae)\n",
    "# R2\n",
    "r2 = r2_score(y_test, y_pred)\n",
    "print(\"R2 --> \", r2)"
   ]
  },
  {
   "cell_type": "code",
   "execution_count": 33,
   "metadata": {},
   "outputs": [
    {
     "data": {
      "text/plain": [
       "Text(0, 0.5, 'Predicted')"
      ]
     },
     "execution_count": 33,
     "metadata": {},
     "output_type": "execute_result"
    },
    {
     "data": {
      "image/png": "[encoded data removed]",
      "text/plain": [
       "<Figure size 640x480 with 1 Axes>"
      ]
     },
     "metadata": {},
     "output_type": "display_data"
    }
   ],
   "source": [
    "# plot actual and predicted values\n",
    "plt.scatter(y_test, y_pred)\n",
    "plt.xlabel('Actual')\n",
    "plt.ylabel('Predicted')"
   ]
  },
  {
   "cell_type": "code",
   "execution_count": 34,
   "metadata": {},
   "outputs": [
    {
     "data": {
      "text/plain": [
       "<Axes: >"
      ]
     },
     "execution_count": 34,
     "metadata": {},
     "output_type": "execute_result"
    },
    {
     "data": {
      "image/png": "[encoded data removed]",
      "text/plain": [
       "<Figure size 640x480 with 1 Axes>"
      ]
     },
     "metadata": {},
     "output_type": "display_data"
    }
   ],
   "source": [
    "# plot regression model line\n",
    "sns.regplot(x=x, y=y, ci=None, color ='blue')"
   ]
  },
  {
   "cell_type": "code",
   "execution_count": 35,
   "metadata": {},
   "outputs": [
    {
     "data": {
      "text/html": [
       "<div>\n",
       "<style scoped>\n",
       "    .dataframe tbody tr th:only-of-type {\n",
       "        vertical-align: middle;\n",
       "    }\n",
       "\n",
       "    .dataframe tbody tr th {\n",
       "        vertical-align: top;\n",
       "    }\n",
       "\n",
       "    .dataframe thead th {\n",
       "        text-align: right;\n",
       "    }\n",
       "</style>\n",
       "<table border=\"1\" class=\"dataframe\">\n",
       "  <thead>\n",
       "    <tr style=\"text-align: right;\">\n",
       "      <th></th>\n",
       "      <th>Model</th>\n",
       "      <th>MSE</th>\n",
       "      <th>RMSE</th>\n",
       "      <th>MAE</th>\n",
       "      <th>R2</th>\n",
       "    </tr>\n",
       "  </thead>\n",
       "  <tbody>\n",
       "    <tr>\n",
       "      <th>0</th>\n",
       "      <td>First</td>\n",
       "      <td>0.65007</td>\n",
       "      <td>0.806269</td>\n",
       "      <td>0.714113</td>\n",
       "      <td>-0.039056</td>\n",
       "    </tr>\n",
       "  </tbody>\n",
       "</table>\n",
       "</div>"
      ],
      "text/plain": [
       "   Model      MSE      RMSE       MAE        R2\n",
       "0  First  0.65007  0.806269  0.714113 -0.039056"
      ]
     },
     "execution_count": 35,
     "metadata": {},
     "output_type": "execute_result"
    }
   ],
   "source": [
    "# create a metrics dataframe using metric values\n",
    "metrics = {\n",
    "    'Model': ['First'],\n",
    "    'MSE' : [mse],\n",
    "    'RMSE' : [rmse],\n",
    "    'MAE' : [mae],\n",
    "    'R2' : [r2]\n",
    "    }\n",
    "\n",
    "metrics_df = pd.DataFrame(data=metrics)\n",
    "\n",
    "# compare the values\n",
    "metrics_df\n"
   ]
  }
 ],
 "metadata": {
  "kernelspec": {
   "display_name": "Python 3",
   "language": "python",
   "name": "python3"
  },
  "language_info": {
   "codemirror_mode": {
    "name": "ipython",
    "version": 3
   },
   "file_extension": ".py",
   "mimetype": "text/x-python",
   "name": "python",
   "nbconvert_exporter": "python",
   "pygments_lexer": "ipython3",
   "version": "3.11.2"
  },
  "orig_nbformat": 4
 },
 "nbformat": 4,
 "nbformat_minor": 2
}
