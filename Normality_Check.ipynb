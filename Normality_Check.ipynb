{
 "cells": [
  {
   "cell_type": "code",
   "execution_count": 8,
   "metadata": {},
   "outputs": [],
   "source": [
    "#Import library yang diperlukan\n",
    "import numpy as np\n",
    "import pandas as pd\n",
    "from scipy import stats"
   ]
  },
  {
   "cell_type": "code",
   "execution_count": 9,
   "metadata": {},
   "outputs": [],
   "source": [
    "# load data menjadi dataframe yang baru\n",
    "df = pd.read_csv(\"data_revisi.csv\")"
   ]
  },
  {
   "cell_type": "code",
   "execution_count": 10,
   "metadata": {},
   "outputs": [],
   "source": [
    "#Deklarasi Variabel\n",
    "average_wpm = df.average_wpm\n",
    "average_second = df.average_second\n",
    "average_accuracy = df.average_accuracy\n",
    "umur = df.umur"
   ]
  },
  {
   "cell_type": "markdown",
   "metadata": {},
   "source": [
    "stats shapiro"
   ]
  },
  {
   "cell_type": "code",
   "execution_count": 11,
   "metadata": {},
   "outputs": [
    {
     "data": {
      "text/plain": [
       "ShapiroResult(statistic=0.9268622398376465, pvalue=3.317673326819204e-05)"
      ]
     },
     "execution_count": 11,
     "metadata": {},
     "output_type": "execute_result"
    }
   ],
   "source": [
    "#Menggunakan fungsi statistik saphiro untuk variabel average_second\n",
    "stats.shapiro(average_accuracy)"
   ]
  },
  {
   "cell_type": "code",
   "execution_count": 12,
   "metadata": {},
   "outputs": [
    {
     "data": {
      "text/plain": [
       "ShapiroResult(statistic=0.9834819436073303, pvalue=0.24563148617744446)"
      ]
     },
     "execution_count": 12,
     "metadata": {},
     "output_type": "execute_result"
    }
   ],
   "source": [
    "#Menggunakan fungsi statistik saphiro untuk variabel average_wpm\n",
    "stats.shapiro(average_wpm)"
   ]
  },
  {
   "cell_type": "code",
   "execution_count": 13,
   "metadata": {},
   "outputs": [
    {
     "data": {
      "text/plain": [
       "ShapiroResult(statistic=0.9761502742767334, pvalue=0.06640040129423141)"
      ]
     },
     "execution_count": 13,
     "metadata": {},
     "output_type": "execute_result"
    }
   ],
   "source": [
    "#Menggunakan fungsi statistik saphiro untuk variabel average_accuracy\n",
    "stats.shapiro(average_second)"
   ]
  },
  {
   "cell_type": "code",
   "execution_count": 14,
   "metadata": {},
   "outputs": [
    {
     "name": "stdout",
     "output_type": "stream",
     "text": [
      "Karena nilai Pvalue nya = 0.00 (< .05), mungkin datanya tidak berdistribusi normal\n",
      "3.317673326819204e-05\n"
     ]
    }
   ],
   "source": [
    "nilai_statistik, P_value = stats.shapiro(average_accuracy)\n",
    "if P_value > .05:\n",
    "    print('Karena nilai P value nya = %.2f (> .05), \\nmungkin datanya berdistribusi normal'%(P_value)) \n",
    "    print (P_value)\n",
    "else:\n",
    "    print('Karena nilai Pvalue nya = %.2f (< .05), mungkin datanya tidak berdistribusi normal'%(P_value))\n",
    "    print(P_value)"
   ]
  }
 ],
 "metadata": {
  "kernelspec": {
   "display_name": "Python 3",
   "language": "python",
   "name": "python3"
  },
  "language_info": {
   "codemirror_mode": {
    "name": "ipython",
    "version": 3
   },
   "file_extension": ".py",
   "mimetype": "text/x-python",
   "name": "python",
   "nbconvert_exporter": "python",
   "pygments_lexer": "ipython3",
   "version": "3.11.2"
  },
  "orig_nbformat": 4
 },
 "nbformat": 4,
 "nbformat_minor": 2
}
